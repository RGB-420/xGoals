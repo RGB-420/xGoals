{
 "cells": [
  {
   "cell_type": "markdown",
   "id": "416e0739",
   "metadata": {},
   "source": [
    " # xG Model with Hyperparameter Optimization and Feature Contributions\n",
    " \n",
    "This notebook provides a clean, organized workflow: data loading, feature engineering,\n",
    "hyperparameter optimization for XGBoost, final training, and analysis of feature contributions\n",
    "(including 'rivals_in_shot_area')."
   ]
  },
  {
   "cell_type": "markdown",
   "id": "6f0315ff",
   "metadata": {},
   "source": [
    "### 1. Import libraries"
   ]
  },
  {
   "cell_type": "code",
   "execution_count": 18,
   "id": "f6f5b311",
   "metadata": {},
   "outputs": [],
   "source": [
    "import pandas as pd\n",
    "import numpy as np\n",
    "from sklearn.model_selection import train_test_split, RandomizedSearchCV, StratifiedKFold\n",
    "from sklearn.compose import ColumnTransformer\n",
    "from sklearn.pipeline import Pipeline\n",
    "from sklearn.preprocessing import OneHotEncoder, StandardScaler\n",
    "from sklearn.impute import SimpleImputer\n",
    "from sklearn.calibration import calibration_curve\n",
    "import plotly.graph_objects as go\n",
    "import plotly.express as px\n",
    "from xgboost import XGBClassifier\n",
    "from sklearn.metrics import roc_auc_score\n",
    "from shapely.geometry import Point, Polygon\n",
    "from scipy.stats import randint, uniform\n",
    "import matplotlib\n",
    "import ast\n",
    "import shap"
   ]
  },
  {
   "cell_type": "markdown",
   "id": "4aceed48",
   "metadata": {},
   "source": [
    "### 2. Helper functions for feature engineering"
   ]
  },
  {
   "cell_type": "code",
   "execution_count": 6,
   "id": "b73d6a2e",
   "metadata": {},
   "outputs": [],
   "source": [
    "def parse_if_str(x):\n",
    "    \"\"\"If x is a string with Python/JSON syntax, convert to native object.\"\"\"\n",
    "    if isinstance(x, str):\n",
    "        return ast.literal_eval(x)\n",
    "    return x\n",
    "\n",
    "\n",
    "def safe_point_coords(loc):\n",
    "    \"\"\"Ensure loc is [x, y] with floats. Parse if string and cast to float.\"\"\"\n",
    "    loc = parse_if_str(loc)\n",
    "    try:\n",
    "        return [float(loc[0]), float(loc[1])]\n",
    "    except Exception:\n",
    "        return None\n",
    "\n",
    "\n",
    "def count_players(jugadores, v1):\n",
    "    \"\"\"Count opponents within the triangular shot area defined by v1, (120,36), (120,44).\"\"\"\n",
    "    if not isinstance(jugadores, (list, str)):\n",
    "        return 0\n",
    "    jugadores = parse_if_str(jugadores)\n",
    "    if not isinstance(jugadores, list):\n",
    "        return 0\n",
    "    v1_coords = safe_point_coords(v1)\n",
    "    if v1_coords is None:\n",
    "        return 0\n",
    "    v2, v3 = [120.0,36.0], [120.0,44.0]\n",
    "    poly = Polygon([v1_coords, v2, v3])\n",
    "    count = 0\n",
    "    for p in jugadores:\n",
    "        loc = p.get('location', None)\n",
    "        loc_coords = safe_point_coords(loc)\n",
    "        if loc_coords is None:\n",
    "            continue\n",
    "        pt = Point(*loc_coords)\n",
    "        if pt.within(poly) or pt.touches(poly):\n",
    "            count += 1\n",
    "    return count\n",
    "\n",
    "def keeper_position_score(jugadores, v1):\n",
    "    jugadores = parse_if_str(jugadores)\n",
    "    if not isinstance(jugadores, list):\n",
    "        return 0.0\n",
    "\n",
    "    keeper = None\n",
    "    for p in jugadores:\n",
    "        if p.get('position',{}).get('name','') == 'Goalkeeper':\n",
    "            keeper = p\n",
    "            break\n",
    "    if keeper is None:\n",
    "        return 0.0\n",
    "\n",
    "    v1 = safe_point_coords(v1)\n",
    "    if v1 is None:\n",
    "        return 0.0\n",
    "    v2, v3 = [120.0, 36.0], [120.0, 44.0]\n",
    "    tri = Polygon([v1, v2, v3])\n",
    "\n",
    "    kp = safe_point_coords(keeper['location'])\n",
    "    if kp is None:\n",
    "        return 0.0\n",
    "\n",
    "    pt_kp = Point(*kp)\n",
    "    if not (pt_kp.within(tri) or pt_kp.touches(tri)):\n",
    "        return 0.0\n",
    "\n",
    "    C = [(v2[0]+v3[0])/2, (v2[1]+v3[1])/2]  # [120,40]\n",
    "    A = np.array(v1)\n",
    "    B = np.array(C)\n",
    "    P = np.array(kp)\n",
    "    # d_perp = || ( (P-A) × (B-A) ) || / ||B-A||\n",
    "    BA = B - A\n",
    "    PA = P - A\n",
    "    cross = abs(BA[0]*PA[1] - BA[1]*PA[0])\n",
    "    d_perp = cross / np.linalg.norm(BA)\n",
    "\n",
    "    b = (v3[1] - v2[1]) / 2.0\n",
    "    score = 1 - (d_perp / b)\n",
    "    return float(max(0.0, min(1.0, score)))"
   ]
  },
  {
   "cell_type": "markdown",
   "id": "b39a27b2",
   "metadata": {},
   "source": [
    "### 3. Load data and define target"
   ]
  },
  {
   "cell_type": "code",
   "execution_count": 7,
   "id": "c44eb28f",
   "metadata": {},
   "outputs": [],
   "source": [
    "df = pd.read_csv(\"../output/csv/all_shots.csv\")\n",
    "GOAL_ID = 97  # Adjust according to dataset\n",
    "# Create binary target: 1 = goal, 0 = no goal\n",
    "df['is_goal'] = (df['shot_outcome_id'] == GOAL_ID).astype(int)"
   ]
  },
  {
   "cell_type": "markdown",
   "id": "843b91a8",
   "metadata": {},
   "source": [
    "### 4. Main feature engineering"
   ]
  },
  {
   "cell_type": "code",
   "execution_count": 8,
   "id": "11f70ae6",
   "metadata": {},
   "outputs": [
    {
     "name": "stdout",
     "output_type": "stream",
     "text": [
      "Calculating rivals in shot area, this may take a few seconds...\n"
     ]
    }
   ],
   "source": [
    "# Create squared and interaction features for distance and angle\n",
    "df['distance_to_goal_squared'] = df['distance_to_goal'] ** 2\n",
    "df['angle_to_goal_squared']    = df['angle_to_goal'] ** 2\n",
    "\n",
    "df['distance_angle_interaction'] = df['distance_to_goal'] * df['angle_to_goal']\n",
    "\n",
    "# Create buckets for possession duration and key pass attributes\n",
    "df['possession_bucket'] = pd.cut(df['possession_duration'], bins=[0,5,15,1000],\n",
    "                                  labels=['Counterattack','Short Attack','Long Attack']).astype(str)\n",
    "\n",
    "df['key_pass_length_bucket'] = pd.cut(df['key_pass_length'], bins=[0,10,30,1000],\n",
    "                                       labels=['Short','Medium','Long']).astype(str)\n",
    "\n",
    "df['key_pass_angle_bucket'] = pd.cut(df['key_pass_angle'], bins=[-3.15,-1,1,3.15],\n",
    "                                      labels=['Left','Forward','Right']).astype(str)\n",
    "\n",
    "# Calculate number of rival players in the shot area (can take a few seconds)\n",
    "print(\"Calculating rivals in shot area, this may take a few seconds...\")\n",
    "df['rivals_in_shot_area'] = df.apply(\n",
    "    lambda row: count_players(row['shot_freeze_frame'], row['location']), axis=1\n",
    ")\n",
    "\n",
    "df['keeper_placement_score'] = df.apply(\n",
    "    lambda row: keeper_position_score(row['shot_freeze_frame'],row['location']),axis=1\n",
    "    )\n",
    "\n",
    "# Binary flag: has key pass\n",
    "df['has_key_pass'] = df['key_pass_length'].notnull().astype(int)\n",
    "\n",
    "# Drop any rows without a target value\n",
    "df = df.dropna(subset=['is_goal'])\n"
   ]
  },
  {
   "cell_type": "markdown",
   "id": "e3fb9fb7",
   "metadata": {},
   "source": [
    "### 5. Define columns for the pipeline"
   ]
  },
  {
   "cell_type": "code",
   "execution_count": 9,
   "id": "20e90ffe",
   "metadata": {},
   "outputs": [],
   "source": [
    "numerical_cols = [\n",
    "    'distance_to_goal', 'angle_to_goal', 'possession_duration',\n",
    "    'key_pass_length', 'key_pass_angle', 'rivals_in_shot_area',\n",
    "    'distance_to_goal_squared', 'angle_to_goal_squared', 'distance_angle_interaction',\n",
    "    'keeper_placement_score'\n",
    "]\n",
    "categorical_cols = [\n",
    "    'play_pattern_id', 'shot_body_part_id', 'shot_technique_id',\n",
    "    'shot_type_id', 'key_pass_height_id', 'key_pass_body_part_id',\n",
    "    'under_pressure', 'shot_first_time', 'shot_aerial_won',\n",
    "    'key_pass_switch', 'key_under_pressure', 'key_pass_cross', 'key_pass_cut_back',\n",
    "    'possession_bucket', 'key_pass_length_bucket', 'key_pass_angle_bucket'\n",
    "]\n",
    "\n",
    "# Preprocessors\n",
    "numerical_transformer = Pipeline([\n",
    "    ('imputer', SimpleImputer(strategy='mean')),\n",
    "    ('scaler', StandardScaler())\n",
    "])\n",
    "\n",
    "categorical_transformer = Pipeline([\n",
    "    ('imputer', SimpleImputer(strategy='most_frequent')),\n",
    "    ('onehot', OneHotEncoder(handle_unknown='ignore'))\n",
    "])\n",
    "\n",
    "preprocessor = ColumnTransformer([\n",
    "    ('num', numerical_transformer, numerical_cols),\n",
    "    ('cat', categorical_transformer, categorical_cols)\n",
    "])"
   ]
  },
  {
   "cell_type": "markdown",
   "id": "0832390d",
   "metadata": {},
   "source": [
    "### 6. Data splitting"
   ]
  },
  {
   "cell_type": "code",
   "execution_count": 10,
   "id": "526113ce",
   "metadata": {},
   "outputs": [
    {
     "data": {
      "text/html": [
       "<style>#sk-container-id-1 {\n",
       "  /* Definition of color scheme common for light and dark mode */\n",
       "  --sklearn-color-text: #000;\n",
       "  --sklearn-color-text-muted: #666;\n",
       "  --sklearn-color-line: gray;\n",
       "  /* Definition of color scheme for unfitted estimators */\n",
       "  --sklearn-color-unfitted-level-0: #fff5e6;\n",
       "  --sklearn-color-unfitted-level-1: #f6e4d2;\n",
       "  --sklearn-color-unfitted-level-2: #ffe0b3;\n",
       "  --sklearn-color-unfitted-level-3: chocolate;\n",
       "  /* Definition of color scheme for fitted estimators */\n",
       "  --sklearn-color-fitted-level-0: #f0f8ff;\n",
       "  --sklearn-color-fitted-level-1: #d4ebff;\n",
       "  --sklearn-color-fitted-level-2: #b3dbfd;\n",
       "  --sklearn-color-fitted-level-3: cornflowerblue;\n",
       "\n",
       "  /* Specific color for light theme */\n",
       "  --sklearn-color-text-on-default-background: var(--sg-text-color, var(--theme-code-foreground, var(--jp-content-font-color1, black)));\n",
       "  --sklearn-color-background: var(--sg-background-color, var(--theme-background, var(--jp-layout-color0, white)));\n",
       "  --sklearn-color-border-box: var(--sg-text-color, var(--theme-code-foreground, var(--jp-content-font-color1, black)));\n",
       "  --sklearn-color-icon: #696969;\n",
       "\n",
       "  @media (prefers-color-scheme: dark) {\n",
       "    /* Redefinition of color scheme for dark theme */\n",
       "    --sklearn-color-text-on-default-background: var(--sg-text-color, var(--theme-code-foreground, var(--jp-content-font-color1, white)));\n",
       "    --sklearn-color-background: var(--sg-background-color, var(--theme-background, var(--jp-layout-color0, #111)));\n",
       "    --sklearn-color-border-box: var(--sg-text-color, var(--theme-code-foreground, var(--jp-content-font-color1, white)));\n",
       "    --sklearn-color-icon: #878787;\n",
       "  }\n",
       "}\n",
       "\n",
       "#sk-container-id-1 {\n",
       "  color: var(--sklearn-color-text);\n",
       "}\n",
       "\n",
       "#sk-container-id-1 pre {\n",
       "  padding: 0;\n",
       "}\n",
       "\n",
       "#sk-container-id-1 input.sk-hidden--visually {\n",
       "  border: 0;\n",
       "  clip: rect(1px 1px 1px 1px);\n",
       "  clip: rect(1px, 1px, 1px, 1px);\n",
       "  height: 1px;\n",
       "  margin: -1px;\n",
       "  overflow: hidden;\n",
       "  padding: 0;\n",
       "  position: absolute;\n",
       "  width: 1px;\n",
       "}\n",
       "\n",
       "#sk-container-id-1 div.sk-dashed-wrapped {\n",
       "  border: 1px dashed var(--sklearn-color-line);\n",
       "  margin: 0 0.4em 0.5em 0.4em;\n",
       "  box-sizing: border-box;\n",
       "  padding-bottom: 0.4em;\n",
       "  background-color: var(--sklearn-color-background);\n",
       "}\n",
       "\n",
       "#sk-container-id-1 div.sk-container {\n",
       "  /* jupyter's `normalize.less` sets `[hidden] { display: none; }`\n",
       "     but bootstrap.min.css set `[hidden] { display: none !important; }`\n",
       "     so we also need the `!important` here to be able to override the\n",
       "     default hidden behavior on the sphinx rendered scikit-learn.org.\n",
       "     See: https://github.com/scikit-learn/scikit-learn/issues/21755 */\n",
       "  display: inline-block !important;\n",
       "  position: relative;\n",
       "}\n",
       "\n",
       "#sk-container-id-1 div.sk-text-repr-fallback {\n",
       "  display: none;\n",
       "}\n",
       "\n",
       "div.sk-parallel-item,\n",
       "div.sk-serial,\n",
       "div.sk-item {\n",
       "  /* draw centered vertical line to link estimators */\n",
       "  background-image: linear-gradient(var(--sklearn-color-text-on-default-background), var(--sklearn-color-text-on-default-background));\n",
       "  background-size: 2px 100%;\n",
       "  background-repeat: no-repeat;\n",
       "  background-position: center center;\n",
       "}\n",
       "\n",
       "/* Parallel-specific style estimator block */\n",
       "\n",
       "#sk-container-id-1 div.sk-parallel-item::after {\n",
       "  content: \"\";\n",
       "  width: 100%;\n",
       "  border-bottom: 2px solid var(--sklearn-color-text-on-default-background);\n",
       "  flex-grow: 1;\n",
       "}\n",
       "\n",
       "#sk-container-id-1 div.sk-parallel {\n",
       "  display: flex;\n",
       "  align-items: stretch;\n",
       "  justify-content: center;\n",
       "  background-color: var(--sklearn-color-background);\n",
       "  position: relative;\n",
       "}\n",
       "\n",
       "#sk-container-id-1 div.sk-parallel-item {\n",
       "  display: flex;\n",
       "  flex-direction: column;\n",
       "}\n",
       "\n",
       "#sk-container-id-1 div.sk-parallel-item:first-child::after {\n",
       "  align-self: flex-end;\n",
       "  width: 50%;\n",
       "}\n",
       "\n",
       "#sk-container-id-1 div.sk-parallel-item:last-child::after {\n",
       "  align-self: flex-start;\n",
       "  width: 50%;\n",
       "}\n",
       "\n",
       "#sk-container-id-1 div.sk-parallel-item:only-child::after {\n",
       "  width: 0;\n",
       "}\n",
       "\n",
       "/* Serial-specific style estimator block */\n",
       "\n",
       "#sk-container-id-1 div.sk-serial {\n",
       "  display: flex;\n",
       "  flex-direction: column;\n",
       "  align-items: center;\n",
       "  background-color: var(--sklearn-color-background);\n",
       "  padding-right: 1em;\n",
       "  padding-left: 1em;\n",
       "}\n",
       "\n",
       "\n",
       "/* Toggleable style: style used for estimator/Pipeline/ColumnTransformer box that is\n",
       "clickable and can be expanded/collapsed.\n",
       "- Pipeline and ColumnTransformer use this feature and define the default style\n",
       "- Estimators will overwrite some part of the style using the `sk-estimator` class\n",
       "*/\n",
       "\n",
       "/* Pipeline and ColumnTransformer style (default) */\n",
       "\n",
       "#sk-container-id-1 div.sk-toggleable {\n",
       "  /* Default theme specific background. It is overwritten whether we have a\n",
       "  specific estimator or a Pipeline/ColumnTransformer */\n",
       "  background-color: var(--sklearn-color-background);\n",
       "}\n",
       "\n",
       "/* Toggleable label */\n",
       "#sk-container-id-1 label.sk-toggleable__label {\n",
       "  cursor: pointer;\n",
       "  display: flex;\n",
       "  width: 100%;\n",
       "  margin-bottom: 0;\n",
       "  padding: 0.5em;\n",
       "  box-sizing: border-box;\n",
       "  text-align: center;\n",
       "  align-items: start;\n",
       "  justify-content: space-between;\n",
       "  gap: 0.5em;\n",
       "}\n",
       "\n",
       "#sk-container-id-1 label.sk-toggleable__label .caption {\n",
       "  font-size: 0.6rem;\n",
       "  font-weight: lighter;\n",
       "  color: var(--sklearn-color-text-muted);\n",
       "}\n",
       "\n",
       "#sk-container-id-1 label.sk-toggleable__label-arrow:before {\n",
       "  /* Arrow on the left of the label */\n",
       "  content: \"▸\";\n",
       "  float: left;\n",
       "  margin-right: 0.25em;\n",
       "  color: var(--sklearn-color-icon);\n",
       "}\n",
       "\n",
       "#sk-container-id-1 label.sk-toggleable__label-arrow:hover:before {\n",
       "  color: var(--sklearn-color-text);\n",
       "}\n",
       "\n",
       "/* Toggleable content - dropdown */\n",
       "\n",
       "#sk-container-id-1 div.sk-toggleable__content {\n",
       "  display: none;\n",
       "  text-align: left;\n",
       "  /* unfitted */\n",
       "  background-color: var(--sklearn-color-unfitted-level-0);\n",
       "}\n",
       "\n",
       "#sk-container-id-1 div.sk-toggleable__content.fitted {\n",
       "  /* fitted */\n",
       "  background-color: var(--sklearn-color-fitted-level-0);\n",
       "}\n",
       "\n",
       "#sk-container-id-1 div.sk-toggleable__content pre {\n",
       "  margin: 0.2em;\n",
       "  border-radius: 0.25em;\n",
       "  color: var(--sklearn-color-text);\n",
       "  /* unfitted */\n",
       "  background-color: var(--sklearn-color-unfitted-level-0);\n",
       "}\n",
       "\n",
       "#sk-container-id-1 div.sk-toggleable__content.fitted pre {\n",
       "  /* unfitted */\n",
       "  background-color: var(--sklearn-color-fitted-level-0);\n",
       "}\n",
       "\n",
       "#sk-container-id-1 input.sk-toggleable__control:checked~div.sk-toggleable__content {\n",
       "  /* Expand drop-down */\n",
       "  display: block;\n",
       "  width: 100%;\n",
       "  overflow: visible;\n",
       "}\n",
       "\n",
       "#sk-container-id-1 input.sk-toggleable__control:checked~label.sk-toggleable__label-arrow:before {\n",
       "  content: \"▾\";\n",
       "}\n",
       "\n",
       "/* Pipeline/ColumnTransformer-specific style */\n",
       "\n",
       "#sk-container-id-1 div.sk-label input.sk-toggleable__control:checked~label.sk-toggleable__label {\n",
       "  color: var(--sklearn-color-text);\n",
       "  background-color: var(--sklearn-color-unfitted-level-2);\n",
       "}\n",
       "\n",
       "#sk-container-id-1 div.sk-label.fitted input.sk-toggleable__control:checked~label.sk-toggleable__label {\n",
       "  background-color: var(--sklearn-color-fitted-level-2);\n",
       "}\n",
       "\n",
       "/* Estimator-specific style */\n",
       "\n",
       "/* Colorize estimator box */\n",
       "#sk-container-id-1 div.sk-estimator input.sk-toggleable__control:checked~label.sk-toggleable__label {\n",
       "  /* unfitted */\n",
       "  background-color: var(--sklearn-color-unfitted-level-2);\n",
       "}\n",
       "\n",
       "#sk-container-id-1 div.sk-estimator.fitted input.sk-toggleable__control:checked~label.sk-toggleable__label {\n",
       "  /* fitted */\n",
       "  background-color: var(--sklearn-color-fitted-level-2);\n",
       "}\n",
       "\n",
       "#sk-container-id-1 div.sk-label label.sk-toggleable__label,\n",
       "#sk-container-id-1 div.sk-label label {\n",
       "  /* The background is the default theme color */\n",
       "  color: var(--sklearn-color-text-on-default-background);\n",
       "}\n",
       "\n",
       "/* On hover, darken the color of the background */\n",
       "#sk-container-id-1 div.sk-label:hover label.sk-toggleable__label {\n",
       "  color: var(--sklearn-color-text);\n",
       "  background-color: var(--sklearn-color-unfitted-level-2);\n",
       "}\n",
       "\n",
       "/* Label box, darken color on hover, fitted */\n",
       "#sk-container-id-1 div.sk-label.fitted:hover label.sk-toggleable__label.fitted {\n",
       "  color: var(--sklearn-color-text);\n",
       "  background-color: var(--sklearn-color-fitted-level-2);\n",
       "}\n",
       "\n",
       "/* Estimator label */\n",
       "\n",
       "#sk-container-id-1 div.sk-label label {\n",
       "  font-family: monospace;\n",
       "  font-weight: bold;\n",
       "  display: inline-block;\n",
       "  line-height: 1.2em;\n",
       "}\n",
       "\n",
       "#sk-container-id-1 div.sk-label-container {\n",
       "  text-align: center;\n",
       "}\n",
       "\n",
       "/* Estimator-specific */\n",
       "#sk-container-id-1 div.sk-estimator {\n",
       "  font-family: monospace;\n",
       "  border: 1px dotted var(--sklearn-color-border-box);\n",
       "  border-radius: 0.25em;\n",
       "  box-sizing: border-box;\n",
       "  margin-bottom: 0.5em;\n",
       "  /* unfitted */\n",
       "  background-color: var(--sklearn-color-unfitted-level-0);\n",
       "}\n",
       "\n",
       "#sk-container-id-1 div.sk-estimator.fitted {\n",
       "  /* fitted */\n",
       "  background-color: var(--sklearn-color-fitted-level-0);\n",
       "}\n",
       "\n",
       "/* on hover */\n",
       "#sk-container-id-1 div.sk-estimator:hover {\n",
       "  /* unfitted */\n",
       "  background-color: var(--sklearn-color-unfitted-level-2);\n",
       "}\n",
       "\n",
       "#sk-container-id-1 div.sk-estimator.fitted:hover {\n",
       "  /* fitted */\n",
       "  background-color: var(--sklearn-color-fitted-level-2);\n",
       "}\n",
       "\n",
       "/* Specification for estimator info (e.g. \"i\" and \"?\") */\n",
       "\n",
       "/* Common style for \"i\" and \"?\" */\n",
       "\n",
       ".sk-estimator-doc-link,\n",
       "a:link.sk-estimator-doc-link,\n",
       "a:visited.sk-estimator-doc-link {\n",
       "  float: right;\n",
       "  font-size: smaller;\n",
       "  line-height: 1em;\n",
       "  font-family: monospace;\n",
       "  background-color: var(--sklearn-color-background);\n",
       "  border-radius: 1em;\n",
       "  height: 1em;\n",
       "  width: 1em;\n",
       "  text-decoration: none !important;\n",
       "  margin-left: 0.5em;\n",
       "  text-align: center;\n",
       "  /* unfitted */\n",
       "  border: var(--sklearn-color-unfitted-level-1) 1pt solid;\n",
       "  color: var(--sklearn-color-unfitted-level-1);\n",
       "}\n",
       "\n",
       ".sk-estimator-doc-link.fitted,\n",
       "a:link.sk-estimator-doc-link.fitted,\n",
       "a:visited.sk-estimator-doc-link.fitted {\n",
       "  /* fitted */\n",
       "  border: var(--sklearn-color-fitted-level-1) 1pt solid;\n",
       "  color: var(--sklearn-color-fitted-level-1);\n",
       "}\n",
       "\n",
       "/* On hover */\n",
       "div.sk-estimator:hover .sk-estimator-doc-link:hover,\n",
       ".sk-estimator-doc-link:hover,\n",
       "div.sk-label-container:hover .sk-estimator-doc-link:hover,\n",
       ".sk-estimator-doc-link:hover {\n",
       "  /* unfitted */\n",
       "  background-color: var(--sklearn-color-unfitted-level-3);\n",
       "  color: var(--sklearn-color-background);\n",
       "  text-decoration: none;\n",
       "}\n",
       "\n",
       "div.sk-estimator.fitted:hover .sk-estimator-doc-link.fitted:hover,\n",
       ".sk-estimator-doc-link.fitted:hover,\n",
       "div.sk-label-container:hover .sk-estimator-doc-link.fitted:hover,\n",
       ".sk-estimator-doc-link.fitted:hover {\n",
       "  /* fitted */\n",
       "  background-color: var(--sklearn-color-fitted-level-3);\n",
       "  color: var(--sklearn-color-background);\n",
       "  text-decoration: none;\n",
       "}\n",
       "\n",
       "/* Span, style for the box shown on hovering the info icon */\n",
       ".sk-estimator-doc-link span {\n",
       "  display: none;\n",
       "  z-index: 9999;\n",
       "  position: relative;\n",
       "  font-weight: normal;\n",
       "  right: .2ex;\n",
       "  padding: .5ex;\n",
       "  margin: .5ex;\n",
       "  width: min-content;\n",
       "  min-width: 20ex;\n",
       "  max-width: 50ex;\n",
       "  color: var(--sklearn-color-text);\n",
       "  box-shadow: 2pt 2pt 4pt #999;\n",
       "  /* unfitted */\n",
       "  background: var(--sklearn-color-unfitted-level-0);\n",
       "  border: .5pt solid var(--sklearn-color-unfitted-level-3);\n",
       "}\n",
       "\n",
       ".sk-estimator-doc-link.fitted span {\n",
       "  /* fitted */\n",
       "  background: var(--sklearn-color-fitted-level-0);\n",
       "  border: var(--sklearn-color-fitted-level-3);\n",
       "}\n",
       "\n",
       ".sk-estimator-doc-link:hover span {\n",
       "  display: block;\n",
       "}\n",
       "\n",
       "/* \"?\"-specific style due to the `<a>` HTML tag */\n",
       "\n",
       "#sk-container-id-1 a.estimator_doc_link {\n",
       "  float: right;\n",
       "  font-size: 1rem;\n",
       "  line-height: 1em;\n",
       "  font-family: monospace;\n",
       "  background-color: var(--sklearn-color-background);\n",
       "  border-radius: 1rem;\n",
       "  height: 1rem;\n",
       "  width: 1rem;\n",
       "  text-decoration: none;\n",
       "  /* unfitted */\n",
       "  color: var(--sklearn-color-unfitted-level-1);\n",
       "  border: var(--sklearn-color-unfitted-level-1) 1pt solid;\n",
       "}\n",
       "\n",
       "#sk-container-id-1 a.estimator_doc_link.fitted {\n",
       "  /* fitted */\n",
       "  border: var(--sklearn-color-fitted-level-1) 1pt solid;\n",
       "  color: var(--sklearn-color-fitted-level-1);\n",
       "}\n",
       "\n",
       "/* On hover */\n",
       "#sk-container-id-1 a.estimator_doc_link:hover {\n",
       "  /* unfitted */\n",
       "  background-color: var(--sklearn-color-unfitted-level-3);\n",
       "  color: var(--sklearn-color-background);\n",
       "  text-decoration: none;\n",
       "}\n",
       "\n",
       "#sk-container-id-1 a.estimator_doc_link.fitted:hover {\n",
       "  /* fitted */\n",
       "  background-color: var(--sklearn-color-fitted-level-3);\n",
       "}\n",
       "\n",
       ".estimator-table summary {\n",
       "    padding: .5rem;\n",
       "    font-family: monospace;\n",
       "    cursor: pointer;\n",
       "}\n",
       "\n",
       ".estimator-table details[open] {\n",
       "    padding-left: 0.1rem;\n",
       "    padding-right: 0.1rem;\n",
       "    padding-bottom: 0.3rem;\n",
       "}\n",
       "\n",
       ".estimator-table .parameters-table {\n",
       "    margin-left: auto !important;\n",
       "    margin-right: auto !important;\n",
       "}\n",
       "\n",
       ".estimator-table .parameters-table tr:nth-child(odd) {\n",
       "    background-color: #fff;\n",
       "}\n",
       "\n",
       ".estimator-table .parameters-table tr:nth-child(even) {\n",
       "    background-color: #f6f6f6;\n",
       "}\n",
       "\n",
       ".estimator-table .parameters-table tr:hover {\n",
       "    background-color: #e0e0e0;\n",
       "}\n",
       "\n",
       ".estimator-table table td {\n",
       "    border: 1px solid rgba(106, 105, 104, 0.232);\n",
       "}\n",
       "\n",
       ".user-set td {\n",
       "    color:rgb(255, 94, 0);\n",
       "    text-align: left;\n",
       "}\n",
       "\n",
       ".user-set td.value pre {\n",
       "    color:rgb(255, 94, 0) !important;\n",
       "    background-color: transparent !important;\n",
       "}\n",
       "\n",
       ".default td {\n",
       "    color: black;\n",
       "    text-align: left;\n",
       "}\n",
       "\n",
       ".user-set td i,\n",
       ".default td i {\n",
       "    color: black;\n",
       "}\n",
       "\n",
       ".copy-paste-icon {\n",
       "    background-image: url(data:image/svg+xml;base64,PHN2ZyB4bWxucz0iaHR0cDovL3d3dy53My5vcmcvMjAwMC9zdmciIHZpZXdCb3g9IjAgMCA0NDggNTEyIj48IS0tIUZvbnQgQXdlc29tZSBGcmVlIDYuNy4yIGJ5IEBmb250YXdlc29tZSAtIGh0dHBzOi8vZm9udGF3ZXNvbWUuY29tIExpY2Vuc2UgLSBodHRwczovL2ZvbnRhd2Vzb21lLmNvbS9saWNlbnNlL2ZyZWUgQ29weXJpZ2h0IDIwMjUgRm9udGljb25zLCBJbmMuLS0+PHBhdGggZD0iTTIwOCAwTDMzMi4xIDBjMTIuNyAwIDI0LjkgNS4xIDMzLjkgMTQuMWw2Ny45IDY3LjljOSA5IDE0LjEgMjEuMiAxNC4xIDMzLjlMNDQ4IDMzNmMwIDI2LjUtMjEuNSA0OC00OCA0OGwtMTkyIDBjLTI2LjUgMC00OC0yMS41LTQ4LTQ4bDAtMjg4YzAtMjYuNSAyMS41LTQ4IDQ4LTQ4ek00OCAxMjhsODAgMCAwIDY0LTY0IDAgMCAyNTYgMTkyIDAgMC0zMiA2NCAwIDAgNDhjMCAyNi41LTIxLjUgNDgtNDggNDhMNDggNTEyYy0yNi41IDAtNDgtMjEuNS00OC00OEwwIDE3NmMwLTI2LjUgMjEuNS00OCA0OC00OHoiLz48L3N2Zz4=);\n",
       "    background-repeat: no-repeat;\n",
       "    background-size: 14px 14px;\n",
       "    background-position: 0;\n",
       "    display: inline-block;\n",
       "    width: 14px;\n",
       "    height: 14px;\n",
       "    cursor: pointer;\n",
       "}\n",
       "</style><body><div id=\"sk-container-id-1\" class=\"sk-top-container\"><div class=\"sk-text-repr-fallback\"><pre>ColumnTransformer(transformers=[(&#x27;num&#x27;,\n",
       "                                 Pipeline(steps=[(&#x27;imputer&#x27;, SimpleImputer()),\n",
       "                                                 (&#x27;scaler&#x27;, StandardScaler())]),\n",
       "                                 [&#x27;distance_to_goal&#x27;, &#x27;angle_to_goal&#x27;,\n",
       "                                  &#x27;possession_duration&#x27;, &#x27;key_pass_length&#x27;,\n",
       "                                  &#x27;key_pass_angle&#x27;, &#x27;rivals_in_shot_area&#x27;,\n",
       "                                  &#x27;distance_to_goal_squared&#x27;,\n",
       "                                  &#x27;angle_to_goal_squared&#x27;,\n",
       "                                  &#x27;distance_angle_interaction&#x27;,\n",
       "                                  &#x27;keeper_placement_score&#x27;]),\n",
       "                                (&#x27;cat&#x27;,\n",
       "                                 Pipeline...\n",
       "                                                  OneHotEncoder(handle_unknown=&#x27;ignore&#x27;))]),\n",
       "                                 [&#x27;play_pattern_id&#x27;, &#x27;shot_body_part_id&#x27;,\n",
       "                                  &#x27;shot_technique_id&#x27;, &#x27;shot_type_id&#x27;,\n",
       "                                  &#x27;key_pass_height_id&#x27;, &#x27;key_pass_body_part_id&#x27;,\n",
       "                                  &#x27;under_pressure&#x27;, &#x27;shot_first_time&#x27;,\n",
       "                                  &#x27;shot_aerial_won&#x27;, &#x27;key_pass_switch&#x27;,\n",
       "                                  &#x27;key_under_pressure&#x27;, &#x27;key_pass_cross&#x27;,\n",
       "                                  &#x27;key_pass_cut_back&#x27;, &#x27;possession_bucket&#x27;,\n",
       "                                  &#x27;key_pass_length_bucket&#x27;,\n",
       "                                  &#x27;key_pass_angle_bucket&#x27;])])</pre><b>In a Jupyter environment, please rerun this cell to show the HTML representation or trust the notebook. <br />On GitHub, the HTML representation is unable to render, please try loading this page with nbviewer.org.</b></div><div class=\"sk-container\" hidden><div class=\"sk-item sk-dashed-wrapped\"><div class=\"sk-label-container\"><div class=\"sk-label fitted sk-toggleable\"><input class=\"sk-toggleable__control sk-hidden--visually\" id=\"sk-estimator-id-1\" type=\"checkbox\" ><label for=\"sk-estimator-id-1\" class=\"sk-toggleable__label fitted sk-toggleable__label-arrow\"><div><div>ColumnTransformer</div></div><div><a class=\"sk-estimator-doc-link fitted\" rel=\"noreferrer\" target=\"_blank\" href=\"https://scikit-learn.org/1.7/modules/generated/sklearn.compose.ColumnTransformer.html\">?<span>Documentation for ColumnTransformer</span></a><span class=\"sk-estimator-doc-link fitted\">i<span>Fitted</span></span></div></label><div class=\"sk-toggleable__content fitted\" data-param-prefix=\"\">\n",
       "        <div class=\"estimator-table\">\n",
       "            <details>\n",
       "                <summary>Parameters</summary>\n",
       "                <table class=\"parameters-table\">\n",
       "                  <tbody>\n",
       "                    \n",
       "        <tr class=\"user-set\">\n",
       "            <td><i class=\"copy-paste-icon\"\n",
       "                 onclick=\"copyToClipboard('transformers',\n",
       "                          this.parentElement.nextElementSibling)\"\n",
       "            ></i></td>\n",
       "            <td class=\"param\">transformers&nbsp;</td>\n",
       "            <td class=\"value\">[(&#x27;num&#x27;, ...), (&#x27;cat&#x27;, ...)]</td>\n",
       "        </tr>\n",
       "    \n",
       "\n",
       "        <tr class=\"default\">\n",
       "            <td><i class=\"copy-paste-icon\"\n",
       "                 onclick=\"copyToClipboard('remainder',\n",
       "                          this.parentElement.nextElementSibling)\"\n",
       "            ></i></td>\n",
       "            <td class=\"param\">remainder&nbsp;</td>\n",
       "            <td class=\"value\">&#x27;drop&#x27;</td>\n",
       "        </tr>\n",
       "    \n",
       "\n",
       "        <tr class=\"default\">\n",
       "            <td><i class=\"copy-paste-icon\"\n",
       "                 onclick=\"copyToClipboard('sparse_threshold',\n",
       "                          this.parentElement.nextElementSibling)\"\n",
       "            ></i></td>\n",
       "            <td class=\"param\">sparse_threshold&nbsp;</td>\n",
       "            <td class=\"value\">0.3</td>\n",
       "        </tr>\n",
       "    \n",
       "\n",
       "        <tr class=\"default\">\n",
       "            <td><i class=\"copy-paste-icon\"\n",
       "                 onclick=\"copyToClipboard('n_jobs',\n",
       "                          this.parentElement.nextElementSibling)\"\n",
       "            ></i></td>\n",
       "            <td class=\"param\">n_jobs&nbsp;</td>\n",
       "            <td class=\"value\">None</td>\n",
       "        </tr>\n",
       "    \n",
       "\n",
       "        <tr class=\"default\">\n",
       "            <td><i class=\"copy-paste-icon\"\n",
       "                 onclick=\"copyToClipboard('transformer_weights',\n",
       "                          this.parentElement.nextElementSibling)\"\n",
       "            ></i></td>\n",
       "            <td class=\"param\">transformer_weights&nbsp;</td>\n",
       "            <td class=\"value\">None</td>\n",
       "        </tr>\n",
       "    \n",
       "\n",
       "        <tr class=\"default\">\n",
       "            <td><i class=\"copy-paste-icon\"\n",
       "                 onclick=\"copyToClipboard('verbose',\n",
       "                          this.parentElement.nextElementSibling)\"\n",
       "            ></i></td>\n",
       "            <td class=\"param\">verbose&nbsp;</td>\n",
       "            <td class=\"value\">False</td>\n",
       "        </tr>\n",
       "    \n",
       "\n",
       "        <tr class=\"default\">\n",
       "            <td><i class=\"copy-paste-icon\"\n",
       "                 onclick=\"copyToClipboard('verbose_feature_names_out',\n",
       "                          this.parentElement.nextElementSibling)\"\n",
       "            ></i></td>\n",
       "            <td class=\"param\">verbose_feature_names_out&nbsp;</td>\n",
       "            <td class=\"value\">True</td>\n",
       "        </tr>\n",
       "    \n",
       "\n",
       "        <tr class=\"default\">\n",
       "            <td><i class=\"copy-paste-icon\"\n",
       "                 onclick=\"copyToClipboard('force_int_remainder_cols',\n",
       "                          this.parentElement.nextElementSibling)\"\n",
       "            ></i></td>\n",
       "            <td class=\"param\">force_int_remainder_cols&nbsp;</td>\n",
       "            <td class=\"value\">&#x27;deprecated&#x27;</td>\n",
       "        </tr>\n",
       "    \n",
       "                  </tbody>\n",
       "                </table>\n",
       "            </details>\n",
       "        </div>\n",
       "    </div></div></div><div class=\"sk-parallel\"><div class=\"sk-parallel-item\"><div class=\"sk-item\"><div class=\"sk-label-container\"><div class=\"sk-label fitted sk-toggleable\"><input class=\"sk-toggleable__control sk-hidden--visually\" id=\"sk-estimator-id-2\" type=\"checkbox\" ><label for=\"sk-estimator-id-2\" class=\"sk-toggleable__label fitted sk-toggleable__label-arrow\"><div><div>num</div></div></label><div class=\"sk-toggleable__content fitted\" data-param-prefix=\"num__\"><pre>[&#x27;distance_to_goal&#x27;, &#x27;angle_to_goal&#x27;, &#x27;possession_duration&#x27;, &#x27;key_pass_length&#x27;, &#x27;key_pass_angle&#x27;, &#x27;rivals_in_shot_area&#x27;, &#x27;distance_to_goal_squared&#x27;, &#x27;angle_to_goal_squared&#x27;, &#x27;distance_angle_interaction&#x27;, &#x27;keeper_placement_score&#x27;]</pre></div></div></div><div class=\"sk-serial\"><div class=\"sk-item\"><div class=\"sk-serial\"><div class=\"sk-item\"><div class=\"sk-estimator fitted sk-toggleable\"><input class=\"sk-toggleable__control sk-hidden--visually\" id=\"sk-estimator-id-3\" type=\"checkbox\" ><label for=\"sk-estimator-id-3\" class=\"sk-toggleable__label fitted sk-toggleable__label-arrow\"><div><div>SimpleImputer</div></div><div><a class=\"sk-estimator-doc-link fitted\" rel=\"noreferrer\" target=\"_blank\" href=\"https://scikit-learn.org/1.7/modules/generated/sklearn.impute.SimpleImputer.html\">?<span>Documentation for SimpleImputer</span></a></div></label><div class=\"sk-toggleable__content fitted\" data-param-prefix=\"num__imputer__\">\n",
       "        <div class=\"estimator-table\">\n",
       "            <details>\n",
       "                <summary>Parameters</summary>\n",
       "                <table class=\"parameters-table\">\n",
       "                  <tbody>\n",
       "                    \n",
       "        <tr class=\"default\">\n",
       "            <td><i class=\"copy-paste-icon\"\n",
       "                 onclick=\"copyToClipboard('missing_values',\n",
       "                          this.parentElement.nextElementSibling)\"\n",
       "            ></i></td>\n",
       "            <td class=\"param\">missing_values&nbsp;</td>\n",
       "            <td class=\"value\">nan</td>\n",
       "        </tr>\n",
       "    \n",
       "\n",
       "        <tr class=\"default\">\n",
       "            <td><i class=\"copy-paste-icon\"\n",
       "                 onclick=\"copyToClipboard('strategy',\n",
       "                          this.parentElement.nextElementSibling)\"\n",
       "            ></i></td>\n",
       "            <td class=\"param\">strategy&nbsp;</td>\n",
       "            <td class=\"value\">&#x27;mean&#x27;</td>\n",
       "        </tr>\n",
       "    \n",
       "\n",
       "        <tr class=\"default\">\n",
       "            <td><i class=\"copy-paste-icon\"\n",
       "                 onclick=\"copyToClipboard('fill_value',\n",
       "                          this.parentElement.nextElementSibling)\"\n",
       "            ></i></td>\n",
       "            <td class=\"param\">fill_value&nbsp;</td>\n",
       "            <td class=\"value\">None</td>\n",
       "        </tr>\n",
       "    \n",
       "\n",
       "        <tr class=\"default\">\n",
       "            <td><i class=\"copy-paste-icon\"\n",
       "                 onclick=\"copyToClipboard('copy',\n",
       "                          this.parentElement.nextElementSibling)\"\n",
       "            ></i></td>\n",
       "            <td class=\"param\">copy&nbsp;</td>\n",
       "            <td class=\"value\">True</td>\n",
       "        </tr>\n",
       "    \n",
       "\n",
       "        <tr class=\"default\">\n",
       "            <td><i class=\"copy-paste-icon\"\n",
       "                 onclick=\"copyToClipboard('add_indicator',\n",
       "                          this.parentElement.nextElementSibling)\"\n",
       "            ></i></td>\n",
       "            <td class=\"param\">add_indicator&nbsp;</td>\n",
       "            <td class=\"value\">False</td>\n",
       "        </tr>\n",
       "    \n",
       "\n",
       "        <tr class=\"default\">\n",
       "            <td><i class=\"copy-paste-icon\"\n",
       "                 onclick=\"copyToClipboard('keep_empty_features',\n",
       "                          this.parentElement.nextElementSibling)\"\n",
       "            ></i></td>\n",
       "            <td class=\"param\">keep_empty_features&nbsp;</td>\n",
       "            <td class=\"value\">False</td>\n",
       "        </tr>\n",
       "    \n",
       "                  </tbody>\n",
       "                </table>\n",
       "            </details>\n",
       "        </div>\n",
       "    </div></div></div><div class=\"sk-item\"><div class=\"sk-estimator fitted sk-toggleable\"><input class=\"sk-toggleable__control sk-hidden--visually\" id=\"sk-estimator-id-4\" type=\"checkbox\" ><label for=\"sk-estimator-id-4\" class=\"sk-toggleable__label fitted sk-toggleable__label-arrow\"><div><div>StandardScaler</div></div><div><a class=\"sk-estimator-doc-link fitted\" rel=\"noreferrer\" target=\"_blank\" href=\"https://scikit-learn.org/1.7/modules/generated/sklearn.preprocessing.StandardScaler.html\">?<span>Documentation for StandardScaler</span></a></div></label><div class=\"sk-toggleable__content fitted\" data-param-prefix=\"num__scaler__\">\n",
       "        <div class=\"estimator-table\">\n",
       "            <details>\n",
       "                <summary>Parameters</summary>\n",
       "                <table class=\"parameters-table\">\n",
       "                  <tbody>\n",
       "                    \n",
       "        <tr class=\"default\">\n",
       "            <td><i class=\"copy-paste-icon\"\n",
       "                 onclick=\"copyToClipboard('copy',\n",
       "                          this.parentElement.nextElementSibling)\"\n",
       "            ></i></td>\n",
       "            <td class=\"param\">copy&nbsp;</td>\n",
       "            <td class=\"value\">True</td>\n",
       "        </tr>\n",
       "    \n",
       "\n",
       "        <tr class=\"default\">\n",
       "            <td><i class=\"copy-paste-icon\"\n",
       "                 onclick=\"copyToClipboard('with_mean',\n",
       "                          this.parentElement.nextElementSibling)\"\n",
       "            ></i></td>\n",
       "            <td class=\"param\">with_mean&nbsp;</td>\n",
       "            <td class=\"value\">True</td>\n",
       "        </tr>\n",
       "    \n",
       "\n",
       "        <tr class=\"default\">\n",
       "            <td><i class=\"copy-paste-icon\"\n",
       "                 onclick=\"copyToClipboard('with_std',\n",
       "                          this.parentElement.nextElementSibling)\"\n",
       "            ></i></td>\n",
       "            <td class=\"param\">with_std&nbsp;</td>\n",
       "            <td class=\"value\">True</td>\n",
       "        </tr>\n",
       "    \n",
       "                  </tbody>\n",
       "                </table>\n",
       "            </details>\n",
       "        </div>\n",
       "    </div></div></div></div></div></div></div></div><div class=\"sk-parallel-item\"><div class=\"sk-item\"><div class=\"sk-label-container\"><div class=\"sk-label fitted sk-toggleable\"><input class=\"sk-toggleable__control sk-hidden--visually\" id=\"sk-estimator-id-5\" type=\"checkbox\" ><label for=\"sk-estimator-id-5\" class=\"sk-toggleable__label fitted sk-toggleable__label-arrow\"><div><div>cat</div></div></label><div class=\"sk-toggleable__content fitted\" data-param-prefix=\"cat__\"><pre>[&#x27;play_pattern_id&#x27;, &#x27;shot_body_part_id&#x27;, &#x27;shot_technique_id&#x27;, &#x27;shot_type_id&#x27;, &#x27;key_pass_height_id&#x27;, &#x27;key_pass_body_part_id&#x27;, &#x27;under_pressure&#x27;, &#x27;shot_first_time&#x27;, &#x27;shot_aerial_won&#x27;, &#x27;key_pass_switch&#x27;, &#x27;key_under_pressure&#x27;, &#x27;key_pass_cross&#x27;, &#x27;key_pass_cut_back&#x27;, &#x27;possession_bucket&#x27;, &#x27;key_pass_length_bucket&#x27;, &#x27;key_pass_angle_bucket&#x27;]</pre></div></div></div><div class=\"sk-serial\"><div class=\"sk-item\"><div class=\"sk-serial\"><div class=\"sk-item\"><div class=\"sk-estimator fitted sk-toggleable\"><input class=\"sk-toggleable__control sk-hidden--visually\" id=\"sk-estimator-id-6\" type=\"checkbox\" ><label for=\"sk-estimator-id-6\" class=\"sk-toggleable__label fitted sk-toggleable__label-arrow\"><div><div>SimpleImputer</div></div><div><a class=\"sk-estimator-doc-link fitted\" rel=\"noreferrer\" target=\"_blank\" href=\"https://scikit-learn.org/1.7/modules/generated/sklearn.impute.SimpleImputer.html\">?<span>Documentation for SimpleImputer</span></a></div></label><div class=\"sk-toggleable__content fitted\" data-param-prefix=\"cat__imputer__\">\n",
       "        <div class=\"estimator-table\">\n",
       "            <details>\n",
       "                <summary>Parameters</summary>\n",
       "                <table class=\"parameters-table\">\n",
       "                  <tbody>\n",
       "                    \n",
       "        <tr class=\"default\">\n",
       "            <td><i class=\"copy-paste-icon\"\n",
       "                 onclick=\"copyToClipboard('missing_values',\n",
       "                          this.parentElement.nextElementSibling)\"\n",
       "            ></i></td>\n",
       "            <td class=\"param\">missing_values&nbsp;</td>\n",
       "            <td class=\"value\">nan</td>\n",
       "        </tr>\n",
       "    \n",
       "\n",
       "        <tr class=\"user-set\">\n",
       "            <td><i class=\"copy-paste-icon\"\n",
       "                 onclick=\"copyToClipboard('strategy',\n",
       "                          this.parentElement.nextElementSibling)\"\n",
       "            ></i></td>\n",
       "            <td class=\"param\">strategy&nbsp;</td>\n",
       "            <td class=\"value\">&#x27;most_frequent&#x27;</td>\n",
       "        </tr>\n",
       "    \n",
       "\n",
       "        <tr class=\"default\">\n",
       "            <td><i class=\"copy-paste-icon\"\n",
       "                 onclick=\"copyToClipboard('fill_value',\n",
       "                          this.parentElement.nextElementSibling)\"\n",
       "            ></i></td>\n",
       "            <td class=\"param\">fill_value&nbsp;</td>\n",
       "            <td class=\"value\">None</td>\n",
       "        </tr>\n",
       "    \n",
       "\n",
       "        <tr class=\"default\">\n",
       "            <td><i class=\"copy-paste-icon\"\n",
       "                 onclick=\"copyToClipboard('copy',\n",
       "                          this.parentElement.nextElementSibling)\"\n",
       "            ></i></td>\n",
       "            <td class=\"param\">copy&nbsp;</td>\n",
       "            <td class=\"value\">True</td>\n",
       "        </tr>\n",
       "    \n",
       "\n",
       "        <tr class=\"default\">\n",
       "            <td><i class=\"copy-paste-icon\"\n",
       "                 onclick=\"copyToClipboard('add_indicator',\n",
       "                          this.parentElement.nextElementSibling)\"\n",
       "            ></i></td>\n",
       "            <td class=\"param\">add_indicator&nbsp;</td>\n",
       "            <td class=\"value\">False</td>\n",
       "        </tr>\n",
       "    \n",
       "\n",
       "        <tr class=\"default\">\n",
       "            <td><i class=\"copy-paste-icon\"\n",
       "                 onclick=\"copyToClipboard('keep_empty_features',\n",
       "                          this.parentElement.nextElementSibling)\"\n",
       "            ></i></td>\n",
       "            <td class=\"param\">keep_empty_features&nbsp;</td>\n",
       "            <td class=\"value\">False</td>\n",
       "        </tr>\n",
       "    \n",
       "                  </tbody>\n",
       "                </table>\n",
       "            </details>\n",
       "        </div>\n",
       "    </div></div></div><div class=\"sk-item\"><div class=\"sk-estimator fitted sk-toggleable\"><input class=\"sk-toggleable__control sk-hidden--visually\" id=\"sk-estimator-id-7\" type=\"checkbox\" ><label for=\"sk-estimator-id-7\" class=\"sk-toggleable__label fitted sk-toggleable__label-arrow\"><div><div>OneHotEncoder</div></div><div><a class=\"sk-estimator-doc-link fitted\" rel=\"noreferrer\" target=\"_blank\" href=\"https://scikit-learn.org/1.7/modules/generated/sklearn.preprocessing.OneHotEncoder.html\">?<span>Documentation for OneHotEncoder</span></a></div></label><div class=\"sk-toggleable__content fitted\" data-param-prefix=\"cat__onehot__\">\n",
       "        <div class=\"estimator-table\">\n",
       "            <details>\n",
       "                <summary>Parameters</summary>\n",
       "                <table class=\"parameters-table\">\n",
       "                  <tbody>\n",
       "                    \n",
       "        <tr class=\"default\">\n",
       "            <td><i class=\"copy-paste-icon\"\n",
       "                 onclick=\"copyToClipboard('categories',\n",
       "                          this.parentElement.nextElementSibling)\"\n",
       "            ></i></td>\n",
       "            <td class=\"param\">categories&nbsp;</td>\n",
       "            <td class=\"value\">&#x27;auto&#x27;</td>\n",
       "        </tr>\n",
       "    \n",
       "\n",
       "        <tr class=\"default\">\n",
       "            <td><i class=\"copy-paste-icon\"\n",
       "                 onclick=\"copyToClipboard('drop',\n",
       "                          this.parentElement.nextElementSibling)\"\n",
       "            ></i></td>\n",
       "            <td class=\"param\">drop&nbsp;</td>\n",
       "            <td class=\"value\">None</td>\n",
       "        </tr>\n",
       "    \n",
       "\n",
       "        <tr class=\"default\">\n",
       "            <td><i class=\"copy-paste-icon\"\n",
       "                 onclick=\"copyToClipboard('sparse_output',\n",
       "                          this.parentElement.nextElementSibling)\"\n",
       "            ></i></td>\n",
       "            <td class=\"param\">sparse_output&nbsp;</td>\n",
       "            <td class=\"value\">True</td>\n",
       "        </tr>\n",
       "    \n",
       "\n",
       "        <tr class=\"default\">\n",
       "            <td><i class=\"copy-paste-icon\"\n",
       "                 onclick=\"copyToClipboard('dtype',\n",
       "                          this.parentElement.nextElementSibling)\"\n",
       "            ></i></td>\n",
       "            <td class=\"param\">dtype&nbsp;</td>\n",
       "            <td class=\"value\">&lt;class &#x27;numpy.float64&#x27;&gt;</td>\n",
       "        </tr>\n",
       "    \n",
       "\n",
       "        <tr class=\"user-set\">\n",
       "            <td><i class=\"copy-paste-icon\"\n",
       "                 onclick=\"copyToClipboard('handle_unknown',\n",
       "                          this.parentElement.nextElementSibling)\"\n",
       "            ></i></td>\n",
       "            <td class=\"param\">handle_unknown&nbsp;</td>\n",
       "            <td class=\"value\">&#x27;ignore&#x27;</td>\n",
       "        </tr>\n",
       "    \n",
       "\n",
       "        <tr class=\"default\">\n",
       "            <td><i class=\"copy-paste-icon\"\n",
       "                 onclick=\"copyToClipboard('min_frequency',\n",
       "                          this.parentElement.nextElementSibling)\"\n",
       "            ></i></td>\n",
       "            <td class=\"param\">min_frequency&nbsp;</td>\n",
       "            <td class=\"value\">None</td>\n",
       "        </tr>\n",
       "    \n",
       "\n",
       "        <tr class=\"default\">\n",
       "            <td><i class=\"copy-paste-icon\"\n",
       "                 onclick=\"copyToClipboard('max_categories',\n",
       "                          this.parentElement.nextElementSibling)\"\n",
       "            ></i></td>\n",
       "            <td class=\"param\">max_categories&nbsp;</td>\n",
       "            <td class=\"value\">None</td>\n",
       "        </tr>\n",
       "    \n",
       "\n",
       "        <tr class=\"default\">\n",
       "            <td><i class=\"copy-paste-icon\"\n",
       "                 onclick=\"copyToClipboard('feature_name_combiner',\n",
       "                          this.parentElement.nextElementSibling)\"\n",
       "            ></i></td>\n",
       "            <td class=\"param\">feature_name_combiner&nbsp;</td>\n",
       "            <td class=\"value\">&#x27;concat&#x27;</td>\n",
       "        </tr>\n",
       "    \n",
       "                  </tbody>\n",
       "                </table>\n",
       "            </details>\n",
       "        </div>\n",
       "    </div></div></div></div></div></div></div></div></div></div></div></div><script>function copyToClipboard(text, element) {\n",
       "    // Get the parameter prefix from the closest toggleable content\n",
       "    const toggleableContent = element.closest('.sk-toggleable__content');\n",
       "    const paramPrefix = toggleableContent ? toggleableContent.dataset.paramPrefix : '';\n",
       "    const fullParamName = paramPrefix ? `${paramPrefix}${text}` : text;\n",
       "\n",
       "    const originalStyle = element.style;\n",
       "    const computedStyle = window.getComputedStyle(element);\n",
       "    const originalWidth = computedStyle.width;\n",
       "    const originalHTML = element.innerHTML.replace('Copied!', '');\n",
       "\n",
       "    navigator.clipboard.writeText(fullParamName)\n",
       "        .then(() => {\n",
       "            element.style.width = originalWidth;\n",
       "            element.style.color = 'green';\n",
       "            element.innerHTML = \"Copied!\";\n",
       "\n",
       "            setTimeout(() => {\n",
       "                element.innerHTML = originalHTML;\n",
       "                element.style = originalStyle;\n",
       "            }, 2000);\n",
       "        })\n",
       "        .catch(err => {\n",
       "            console.error('Failed to copy:', err);\n",
       "            element.style.color = 'red';\n",
       "            element.innerHTML = \"Failed!\";\n",
       "            setTimeout(() => {\n",
       "                element.innerHTML = originalHTML;\n",
       "                element.style = originalStyle;\n",
       "            }, 2000);\n",
       "        });\n",
       "    return false;\n",
       "}\n",
       "\n",
       "document.querySelectorAll('.fa-regular.fa-copy').forEach(function(element) {\n",
       "    const toggleableContent = element.closest('.sk-toggleable__content');\n",
       "    const paramPrefix = toggleableContent ? toggleableContent.dataset.paramPrefix : '';\n",
       "    const paramName = element.parentElement.nextElementSibling.textContent.trim();\n",
       "    const fullParamName = paramPrefix ? `${paramPrefix}${paramName}` : paramName;\n",
       "\n",
       "    element.setAttribute('title', fullParamName);\n",
       "});\n",
       "</script></body>"
      ],
      "text/plain": [
       "ColumnTransformer(transformers=[('num',\n",
       "                                 Pipeline(steps=[('imputer', SimpleImputer()),\n",
       "                                                 ('scaler', StandardScaler())]),\n",
       "                                 ['distance_to_goal', 'angle_to_goal',\n",
       "                                  'possession_duration', 'key_pass_length',\n",
       "                                  'key_pass_angle', 'rivals_in_shot_area',\n",
       "                                  'distance_to_goal_squared',\n",
       "                                  'angle_to_goal_squared',\n",
       "                                  'distance_angle_interaction',\n",
       "                                  'keeper_placement_score']),\n",
       "                                ('cat',\n",
       "                                 Pipeline...\n",
       "                                                  OneHotEncoder(handle_unknown='ignore'))]),\n",
       "                                 ['play_pattern_id', 'shot_body_part_id',\n",
       "                                  'shot_technique_id', 'shot_type_id',\n",
       "                                  'key_pass_height_id', 'key_pass_body_part_id',\n",
       "                                  'under_pressure', 'shot_first_time',\n",
       "                                  'shot_aerial_won', 'key_pass_switch',\n",
       "                                  'key_under_pressure', 'key_pass_cross',\n",
       "                                  'key_pass_cut_back', 'possession_bucket',\n",
       "                                  'key_pass_length_bucket',\n",
       "                                  'key_pass_angle_bucket'])])"
      ]
     },
     "execution_count": 10,
     "metadata": {},
     "output_type": "execute_result"
    }
   ],
   "source": [
    "X = df[numerical_cols + categorical_cols]\n",
    "y = df['is_goal']\n",
    "\n",
    "X_train, X_test, y_train, y_test = train_test_split(\n",
    "    X, y, stratify=y, test_size=0.2, random_state=42\n",
    ")\n",
    "\n",
    "preprocessor.fit(X_train)"
   ]
  },
  {
   "cell_type": "markdown",
   "id": "17a5a353",
   "metadata": {},
   "source": [
    "### 7. Hyperparameter search with RandomizedSearchCV"
   ]
  },
  {
   "cell_type": "code",
   "execution_count": 11,
   "id": "ea65ca9c",
   "metadata": {},
   "outputs": [
    {
     "name": "stdout",
     "output_type": "stream",
     "text": [
      "Fitting 5 folds for each of 100 candidates, totalling 500 fits\n"
     ]
    },
    {
     "name": "stderr",
     "output_type": "stream",
     "text": [
      "c:\\Users\\rgbej\\AppData\\Local\\Programs\\Python\\Python313\\Lib\\site-packages\\xgboost\\training.py:183: UserWarning: [19:56:38] WARNING: C:\\actions-runner\\_work\\xgboost\\xgboost\\src\\learner.cc:738: \n",
      "Parameters: { \"use_label_encoder\" } are not used.\n",
      "\n",
      "  bst.update(dtrain, iteration=i, fobj=obj)\n"
     ]
    },
    {
     "name": "stdout",
     "output_type": "stream",
     "text": [
      "Best parameters: {'classifier__colsample_bytree': np.float64(0.8721080604184118), 'classifier__gamma': np.float64(3.04588790779194), 'classifier__learning_rate': np.float64(0.01787824026911767), 'classifier__max_depth': 6, 'classifier__min_child_weight': 4, 'classifier__n_estimators': 1456, 'classifier__reg_alpha': np.float64(0.08653249019938802), 'classifier__reg_lambda': np.float64(0.47434658727742285), 'classifier__subsample': np.float64(0.9358051867278653)}\n",
      "\n",
      "Best AUC in CV: 0.8232561449943099\n",
      "Test AUC: 0.8237\n"
     ]
    }
   ],
   "source": [
    "xgb = XGBClassifier(use_label_encoder=False, eval_metric='logloss', random_state=0)\n",
    "param_dist = {\n",
    "    'classifier__n_estimators': randint(600, 1500),\n",
    "    'classifier__learning_rate': uniform(0.01, 0.08),\n",
    "    'classifier__max_depth': randint(3, 8),\n",
    "    'classifier__subsample': uniform(0.6, 0.4),\n",
    "    'classifier__colsample_bytree': uniform(0.6, 0.4),\n",
    "    'classifier__gamma': uniform(0, 5),\n",
    "    'classifier__min_child_weight': randint(1, 10),\n",
    "    'classifier__reg_alpha': uniform(0, 1),\n",
    "    'classifier__reg_lambda': uniform(0, 2),\n",
    "}\n",
    "\n",
    "pipe = Pipeline([\n",
    "    ('preprocessor', preprocessor),\n",
    "    ('classifier', xgb)\n",
    "])\n",
    "\n",
    "# CV and search\n",
    "cv = StratifiedKFold(n_splits=5, shuffle=True, random_state=0)\n",
    "\n",
    "search = RandomizedSearchCV(\n",
    "    pipe,\n",
    "    param_distributions=param_dist,\n",
    "    n_iter=100,\n",
    "    scoring='roc_auc',\n",
    "    cv=cv,\n",
    "    verbose=3,\n",
    "    n_jobs=-1,\n",
    "    random_state=0,\n",
    "    refit=True,\n",
    "    return_train_score=True,\n",
    "    error_score=0.0\n",
    ")\n",
    "\n",
    "search.fit(X_train, y_train)\n",
    "print(\"Best parameters:\", search.best_params_)\n",
    "\n",
    "X_train, X_test, y_train, y_test = train_test_split(\n",
    "    X, y, stratify=y, test_size=0.2, random_state=42\n",
    ")\n",
    "\n",
    "# Results\n",
    "print(\"\\nBest AUC in CV:\", search.best_score_)\n",
    "\n",
    "# Final evaluation\n",
    "best_model = search.best_estimator_\n",
    "y_pred_prob = best_model.predict_proba(X_test)[:, 1]\n",
    "auc = roc_auc_score(y_test, y_pred_prob)\n",
    "print(f\"Test AUC: {auc:.4f}\")"
   ]
  },
  {
   "cell_type": "markdown",
   "id": "bb532bce",
   "metadata": {},
   "source": [
    "### 8. Train final model with best parameters"
   ]
  },
  {
   "cell_type": "code",
   "execution_count": 12,
   "id": "6a20c044",
   "metadata": {},
   "outputs": [
    {
     "name": "stderr",
     "output_type": "stream",
     "text": [
      "c:\\Users\\rgbej\\AppData\\Local\\Programs\\Python\\Python313\\Lib\\site-packages\\xgboost\\training.py:183: UserWarning: [19:56:50] WARNING: C:\\actions-runner\\_work\\xgboost\\xgboost\\src\\learner.cc:738: \n",
      "Parameters: { \"use_label_encoder\" } are not used.\n",
      "\n",
      "  bst.update(dtrain, iteration=i, fobj=obj)\n"
     ]
    },
    {
     "data": {
      "text/html": [
       "<style>#sk-container-id-2 {\n",
       "  /* Definition of color scheme common for light and dark mode */\n",
       "  --sklearn-color-text: #000;\n",
       "  --sklearn-color-text-muted: #666;\n",
       "  --sklearn-color-line: gray;\n",
       "  /* Definition of color scheme for unfitted estimators */\n",
       "  --sklearn-color-unfitted-level-0: #fff5e6;\n",
       "  --sklearn-color-unfitted-level-1: #f6e4d2;\n",
       "  --sklearn-color-unfitted-level-2: #ffe0b3;\n",
       "  --sklearn-color-unfitted-level-3: chocolate;\n",
       "  /* Definition of color scheme for fitted estimators */\n",
       "  --sklearn-color-fitted-level-0: #f0f8ff;\n",
       "  --sklearn-color-fitted-level-1: #d4ebff;\n",
       "  --sklearn-color-fitted-level-2: #b3dbfd;\n",
       "  --sklearn-color-fitted-level-3: cornflowerblue;\n",
       "\n",
       "  /* Specific color for light theme */\n",
       "  --sklearn-color-text-on-default-background: var(--sg-text-color, var(--theme-code-foreground, var(--jp-content-font-color1, black)));\n",
       "  --sklearn-color-background: var(--sg-background-color, var(--theme-background, var(--jp-layout-color0, white)));\n",
       "  --sklearn-color-border-box: var(--sg-text-color, var(--theme-code-foreground, var(--jp-content-font-color1, black)));\n",
       "  --sklearn-color-icon: #696969;\n",
       "\n",
       "  @media (prefers-color-scheme: dark) {\n",
       "    /* Redefinition of color scheme for dark theme */\n",
       "    --sklearn-color-text-on-default-background: var(--sg-text-color, var(--theme-code-foreground, var(--jp-content-font-color1, white)));\n",
       "    --sklearn-color-background: var(--sg-background-color, var(--theme-background, var(--jp-layout-color0, #111)));\n",
       "    --sklearn-color-border-box: var(--sg-text-color, var(--theme-code-foreground, var(--jp-content-font-color1, white)));\n",
       "    --sklearn-color-icon: #878787;\n",
       "  }\n",
       "}\n",
       "\n",
       "#sk-container-id-2 {\n",
       "  color: var(--sklearn-color-text);\n",
       "}\n",
       "\n",
       "#sk-container-id-2 pre {\n",
       "  padding: 0;\n",
       "}\n",
       "\n",
       "#sk-container-id-2 input.sk-hidden--visually {\n",
       "  border: 0;\n",
       "  clip: rect(1px 1px 1px 1px);\n",
       "  clip: rect(1px, 1px, 1px, 1px);\n",
       "  height: 1px;\n",
       "  margin: -1px;\n",
       "  overflow: hidden;\n",
       "  padding: 0;\n",
       "  position: absolute;\n",
       "  width: 1px;\n",
       "}\n",
       "\n",
       "#sk-container-id-2 div.sk-dashed-wrapped {\n",
       "  border: 1px dashed var(--sklearn-color-line);\n",
       "  margin: 0 0.4em 0.5em 0.4em;\n",
       "  box-sizing: border-box;\n",
       "  padding-bottom: 0.4em;\n",
       "  background-color: var(--sklearn-color-background);\n",
       "}\n",
       "\n",
       "#sk-container-id-2 div.sk-container {\n",
       "  /* jupyter's `normalize.less` sets `[hidden] { display: none; }`\n",
       "     but bootstrap.min.css set `[hidden] { display: none !important; }`\n",
       "     so we also need the `!important` here to be able to override the\n",
       "     default hidden behavior on the sphinx rendered scikit-learn.org.\n",
       "     See: https://github.com/scikit-learn/scikit-learn/issues/21755 */\n",
       "  display: inline-block !important;\n",
       "  position: relative;\n",
       "}\n",
       "\n",
       "#sk-container-id-2 div.sk-text-repr-fallback {\n",
       "  display: none;\n",
       "}\n",
       "\n",
       "div.sk-parallel-item,\n",
       "div.sk-serial,\n",
       "div.sk-item {\n",
       "  /* draw centered vertical line to link estimators */\n",
       "  background-image: linear-gradient(var(--sklearn-color-text-on-default-background), var(--sklearn-color-text-on-default-background));\n",
       "  background-size: 2px 100%;\n",
       "  background-repeat: no-repeat;\n",
       "  background-position: center center;\n",
       "}\n",
       "\n",
       "/* Parallel-specific style estimator block */\n",
       "\n",
       "#sk-container-id-2 div.sk-parallel-item::after {\n",
       "  content: \"\";\n",
       "  width: 100%;\n",
       "  border-bottom: 2px solid var(--sklearn-color-text-on-default-background);\n",
       "  flex-grow: 1;\n",
       "}\n",
       "\n",
       "#sk-container-id-2 div.sk-parallel {\n",
       "  display: flex;\n",
       "  align-items: stretch;\n",
       "  justify-content: center;\n",
       "  background-color: var(--sklearn-color-background);\n",
       "  position: relative;\n",
       "}\n",
       "\n",
       "#sk-container-id-2 div.sk-parallel-item {\n",
       "  display: flex;\n",
       "  flex-direction: column;\n",
       "}\n",
       "\n",
       "#sk-container-id-2 div.sk-parallel-item:first-child::after {\n",
       "  align-self: flex-end;\n",
       "  width: 50%;\n",
       "}\n",
       "\n",
       "#sk-container-id-2 div.sk-parallel-item:last-child::after {\n",
       "  align-self: flex-start;\n",
       "  width: 50%;\n",
       "}\n",
       "\n",
       "#sk-container-id-2 div.sk-parallel-item:only-child::after {\n",
       "  width: 0;\n",
       "}\n",
       "\n",
       "/* Serial-specific style estimator block */\n",
       "\n",
       "#sk-container-id-2 div.sk-serial {\n",
       "  display: flex;\n",
       "  flex-direction: column;\n",
       "  align-items: center;\n",
       "  background-color: var(--sklearn-color-background);\n",
       "  padding-right: 1em;\n",
       "  padding-left: 1em;\n",
       "}\n",
       "\n",
       "\n",
       "/* Toggleable style: style used for estimator/Pipeline/ColumnTransformer box that is\n",
       "clickable and can be expanded/collapsed.\n",
       "- Pipeline and ColumnTransformer use this feature and define the default style\n",
       "- Estimators will overwrite some part of the style using the `sk-estimator` class\n",
       "*/\n",
       "\n",
       "/* Pipeline and ColumnTransformer style (default) */\n",
       "\n",
       "#sk-container-id-2 div.sk-toggleable {\n",
       "  /* Default theme specific background. It is overwritten whether we have a\n",
       "  specific estimator or a Pipeline/ColumnTransformer */\n",
       "  background-color: var(--sklearn-color-background);\n",
       "}\n",
       "\n",
       "/* Toggleable label */\n",
       "#sk-container-id-2 label.sk-toggleable__label {\n",
       "  cursor: pointer;\n",
       "  display: flex;\n",
       "  width: 100%;\n",
       "  margin-bottom: 0;\n",
       "  padding: 0.5em;\n",
       "  box-sizing: border-box;\n",
       "  text-align: center;\n",
       "  align-items: start;\n",
       "  justify-content: space-between;\n",
       "  gap: 0.5em;\n",
       "}\n",
       "\n",
       "#sk-container-id-2 label.sk-toggleable__label .caption {\n",
       "  font-size: 0.6rem;\n",
       "  font-weight: lighter;\n",
       "  color: var(--sklearn-color-text-muted);\n",
       "}\n",
       "\n",
       "#sk-container-id-2 label.sk-toggleable__label-arrow:before {\n",
       "  /* Arrow on the left of the label */\n",
       "  content: \"▸\";\n",
       "  float: left;\n",
       "  margin-right: 0.25em;\n",
       "  color: var(--sklearn-color-icon);\n",
       "}\n",
       "\n",
       "#sk-container-id-2 label.sk-toggleable__label-arrow:hover:before {\n",
       "  color: var(--sklearn-color-text);\n",
       "}\n",
       "\n",
       "/* Toggleable content - dropdown */\n",
       "\n",
       "#sk-container-id-2 div.sk-toggleable__content {\n",
       "  display: none;\n",
       "  text-align: left;\n",
       "  /* unfitted */\n",
       "  background-color: var(--sklearn-color-unfitted-level-0);\n",
       "}\n",
       "\n",
       "#sk-container-id-2 div.sk-toggleable__content.fitted {\n",
       "  /* fitted */\n",
       "  background-color: var(--sklearn-color-fitted-level-0);\n",
       "}\n",
       "\n",
       "#sk-container-id-2 div.sk-toggleable__content pre {\n",
       "  margin: 0.2em;\n",
       "  border-radius: 0.25em;\n",
       "  color: var(--sklearn-color-text);\n",
       "  /* unfitted */\n",
       "  background-color: var(--sklearn-color-unfitted-level-0);\n",
       "}\n",
       "\n",
       "#sk-container-id-2 div.sk-toggleable__content.fitted pre {\n",
       "  /* unfitted */\n",
       "  background-color: var(--sklearn-color-fitted-level-0);\n",
       "}\n",
       "\n",
       "#sk-container-id-2 input.sk-toggleable__control:checked~div.sk-toggleable__content {\n",
       "  /* Expand drop-down */\n",
       "  display: block;\n",
       "  width: 100%;\n",
       "  overflow: visible;\n",
       "}\n",
       "\n",
       "#sk-container-id-2 input.sk-toggleable__control:checked~label.sk-toggleable__label-arrow:before {\n",
       "  content: \"▾\";\n",
       "}\n",
       "\n",
       "/* Pipeline/ColumnTransformer-specific style */\n",
       "\n",
       "#sk-container-id-2 div.sk-label input.sk-toggleable__control:checked~label.sk-toggleable__label {\n",
       "  color: var(--sklearn-color-text);\n",
       "  background-color: var(--sklearn-color-unfitted-level-2);\n",
       "}\n",
       "\n",
       "#sk-container-id-2 div.sk-label.fitted input.sk-toggleable__control:checked~label.sk-toggleable__label {\n",
       "  background-color: var(--sklearn-color-fitted-level-2);\n",
       "}\n",
       "\n",
       "/* Estimator-specific style */\n",
       "\n",
       "/* Colorize estimator box */\n",
       "#sk-container-id-2 div.sk-estimator input.sk-toggleable__control:checked~label.sk-toggleable__label {\n",
       "  /* unfitted */\n",
       "  background-color: var(--sklearn-color-unfitted-level-2);\n",
       "}\n",
       "\n",
       "#sk-container-id-2 div.sk-estimator.fitted input.sk-toggleable__control:checked~label.sk-toggleable__label {\n",
       "  /* fitted */\n",
       "  background-color: var(--sklearn-color-fitted-level-2);\n",
       "}\n",
       "\n",
       "#sk-container-id-2 div.sk-label label.sk-toggleable__label,\n",
       "#sk-container-id-2 div.sk-label label {\n",
       "  /* The background is the default theme color */\n",
       "  color: var(--sklearn-color-text-on-default-background);\n",
       "}\n",
       "\n",
       "/* On hover, darken the color of the background */\n",
       "#sk-container-id-2 div.sk-label:hover label.sk-toggleable__label {\n",
       "  color: var(--sklearn-color-text);\n",
       "  background-color: var(--sklearn-color-unfitted-level-2);\n",
       "}\n",
       "\n",
       "/* Label box, darken color on hover, fitted */\n",
       "#sk-container-id-2 div.sk-label.fitted:hover label.sk-toggleable__label.fitted {\n",
       "  color: var(--sklearn-color-text);\n",
       "  background-color: var(--sklearn-color-fitted-level-2);\n",
       "}\n",
       "\n",
       "/* Estimator label */\n",
       "\n",
       "#sk-container-id-2 div.sk-label label {\n",
       "  font-family: monospace;\n",
       "  font-weight: bold;\n",
       "  display: inline-block;\n",
       "  line-height: 1.2em;\n",
       "}\n",
       "\n",
       "#sk-container-id-2 div.sk-label-container {\n",
       "  text-align: center;\n",
       "}\n",
       "\n",
       "/* Estimator-specific */\n",
       "#sk-container-id-2 div.sk-estimator {\n",
       "  font-family: monospace;\n",
       "  border: 1px dotted var(--sklearn-color-border-box);\n",
       "  border-radius: 0.25em;\n",
       "  box-sizing: border-box;\n",
       "  margin-bottom: 0.5em;\n",
       "  /* unfitted */\n",
       "  background-color: var(--sklearn-color-unfitted-level-0);\n",
       "}\n",
       "\n",
       "#sk-container-id-2 div.sk-estimator.fitted {\n",
       "  /* fitted */\n",
       "  background-color: var(--sklearn-color-fitted-level-0);\n",
       "}\n",
       "\n",
       "/* on hover */\n",
       "#sk-container-id-2 div.sk-estimator:hover {\n",
       "  /* unfitted */\n",
       "  background-color: var(--sklearn-color-unfitted-level-2);\n",
       "}\n",
       "\n",
       "#sk-container-id-2 div.sk-estimator.fitted:hover {\n",
       "  /* fitted */\n",
       "  background-color: var(--sklearn-color-fitted-level-2);\n",
       "}\n",
       "\n",
       "/* Specification for estimator info (e.g. \"i\" and \"?\") */\n",
       "\n",
       "/* Common style for \"i\" and \"?\" */\n",
       "\n",
       ".sk-estimator-doc-link,\n",
       "a:link.sk-estimator-doc-link,\n",
       "a:visited.sk-estimator-doc-link {\n",
       "  float: right;\n",
       "  font-size: smaller;\n",
       "  line-height: 1em;\n",
       "  font-family: monospace;\n",
       "  background-color: var(--sklearn-color-background);\n",
       "  border-radius: 1em;\n",
       "  height: 1em;\n",
       "  width: 1em;\n",
       "  text-decoration: none !important;\n",
       "  margin-left: 0.5em;\n",
       "  text-align: center;\n",
       "  /* unfitted */\n",
       "  border: var(--sklearn-color-unfitted-level-1) 1pt solid;\n",
       "  color: var(--sklearn-color-unfitted-level-1);\n",
       "}\n",
       "\n",
       ".sk-estimator-doc-link.fitted,\n",
       "a:link.sk-estimator-doc-link.fitted,\n",
       "a:visited.sk-estimator-doc-link.fitted {\n",
       "  /* fitted */\n",
       "  border: var(--sklearn-color-fitted-level-1) 1pt solid;\n",
       "  color: var(--sklearn-color-fitted-level-1);\n",
       "}\n",
       "\n",
       "/* On hover */\n",
       "div.sk-estimator:hover .sk-estimator-doc-link:hover,\n",
       ".sk-estimator-doc-link:hover,\n",
       "div.sk-label-container:hover .sk-estimator-doc-link:hover,\n",
       ".sk-estimator-doc-link:hover {\n",
       "  /* unfitted */\n",
       "  background-color: var(--sklearn-color-unfitted-level-3);\n",
       "  color: var(--sklearn-color-background);\n",
       "  text-decoration: none;\n",
       "}\n",
       "\n",
       "div.sk-estimator.fitted:hover .sk-estimator-doc-link.fitted:hover,\n",
       ".sk-estimator-doc-link.fitted:hover,\n",
       "div.sk-label-container:hover .sk-estimator-doc-link.fitted:hover,\n",
       ".sk-estimator-doc-link.fitted:hover {\n",
       "  /* fitted */\n",
       "  background-color: var(--sklearn-color-fitted-level-3);\n",
       "  color: var(--sklearn-color-background);\n",
       "  text-decoration: none;\n",
       "}\n",
       "\n",
       "/* Span, style for the box shown on hovering the info icon */\n",
       ".sk-estimator-doc-link span {\n",
       "  display: none;\n",
       "  z-index: 9999;\n",
       "  position: relative;\n",
       "  font-weight: normal;\n",
       "  right: .2ex;\n",
       "  padding: .5ex;\n",
       "  margin: .5ex;\n",
       "  width: min-content;\n",
       "  min-width: 20ex;\n",
       "  max-width: 50ex;\n",
       "  color: var(--sklearn-color-text);\n",
       "  box-shadow: 2pt 2pt 4pt #999;\n",
       "  /* unfitted */\n",
       "  background: var(--sklearn-color-unfitted-level-0);\n",
       "  border: .5pt solid var(--sklearn-color-unfitted-level-3);\n",
       "}\n",
       "\n",
       ".sk-estimator-doc-link.fitted span {\n",
       "  /* fitted */\n",
       "  background: var(--sklearn-color-fitted-level-0);\n",
       "  border: var(--sklearn-color-fitted-level-3);\n",
       "}\n",
       "\n",
       ".sk-estimator-doc-link:hover span {\n",
       "  display: block;\n",
       "}\n",
       "\n",
       "/* \"?\"-specific style due to the `<a>` HTML tag */\n",
       "\n",
       "#sk-container-id-2 a.estimator_doc_link {\n",
       "  float: right;\n",
       "  font-size: 1rem;\n",
       "  line-height: 1em;\n",
       "  font-family: monospace;\n",
       "  background-color: var(--sklearn-color-background);\n",
       "  border-radius: 1rem;\n",
       "  height: 1rem;\n",
       "  width: 1rem;\n",
       "  text-decoration: none;\n",
       "  /* unfitted */\n",
       "  color: var(--sklearn-color-unfitted-level-1);\n",
       "  border: var(--sklearn-color-unfitted-level-1) 1pt solid;\n",
       "}\n",
       "\n",
       "#sk-container-id-2 a.estimator_doc_link.fitted {\n",
       "  /* fitted */\n",
       "  border: var(--sklearn-color-fitted-level-1) 1pt solid;\n",
       "  color: var(--sklearn-color-fitted-level-1);\n",
       "}\n",
       "\n",
       "/* On hover */\n",
       "#sk-container-id-2 a.estimator_doc_link:hover {\n",
       "  /* unfitted */\n",
       "  background-color: var(--sklearn-color-unfitted-level-3);\n",
       "  color: var(--sklearn-color-background);\n",
       "  text-decoration: none;\n",
       "}\n",
       "\n",
       "#sk-container-id-2 a.estimator_doc_link.fitted:hover {\n",
       "  /* fitted */\n",
       "  background-color: var(--sklearn-color-fitted-level-3);\n",
       "}\n",
       "\n",
       ".estimator-table summary {\n",
       "    padding: .5rem;\n",
       "    font-family: monospace;\n",
       "    cursor: pointer;\n",
       "}\n",
       "\n",
       ".estimator-table details[open] {\n",
       "    padding-left: 0.1rem;\n",
       "    padding-right: 0.1rem;\n",
       "    padding-bottom: 0.3rem;\n",
       "}\n",
       "\n",
       ".estimator-table .parameters-table {\n",
       "    margin-left: auto !important;\n",
       "    margin-right: auto !important;\n",
       "}\n",
       "\n",
       ".estimator-table .parameters-table tr:nth-child(odd) {\n",
       "    background-color: #fff;\n",
       "}\n",
       "\n",
       ".estimator-table .parameters-table tr:nth-child(even) {\n",
       "    background-color: #f6f6f6;\n",
       "}\n",
       "\n",
       ".estimator-table .parameters-table tr:hover {\n",
       "    background-color: #e0e0e0;\n",
       "}\n",
       "\n",
       ".estimator-table table td {\n",
       "    border: 1px solid rgba(106, 105, 104, 0.232);\n",
       "}\n",
       "\n",
       ".user-set td {\n",
       "    color:rgb(255, 94, 0);\n",
       "    text-align: left;\n",
       "}\n",
       "\n",
       ".user-set td.value pre {\n",
       "    color:rgb(255, 94, 0) !important;\n",
       "    background-color: transparent !important;\n",
       "}\n",
       "\n",
       ".default td {\n",
       "    color: black;\n",
       "    text-align: left;\n",
       "}\n",
       "\n",
       ".user-set td i,\n",
       ".default td i {\n",
       "    color: black;\n",
       "}\n",
       "\n",
       ".copy-paste-icon {\n",
       "    background-image: url(data:image/svg+xml;base64,PHN2ZyB4bWxucz0iaHR0cDovL3d3dy53My5vcmcvMjAwMC9zdmciIHZpZXdCb3g9IjAgMCA0NDggNTEyIj48IS0tIUZvbnQgQXdlc29tZSBGcmVlIDYuNy4yIGJ5IEBmb250YXdlc29tZSAtIGh0dHBzOi8vZm9udGF3ZXNvbWUuY29tIExpY2Vuc2UgLSBodHRwczovL2ZvbnRhd2Vzb21lLmNvbS9saWNlbnNlL2ZyZWUgQ29weXJpZ2h0IDIwMjUgRm9udGljb25zLCBJbmMuLS0+PHBhdGggZD0iTTIwOCAwTDMzMi4xIDBjMTIuNyAwIDI0LjkgNS4xIDMzLjkgMTQuMWw2Ny45IDY3LjljOSA5IDE0LjEgMjEuMiAxNC4xIDMzLjlMNDQ4IDMzNmMwIDI2LjUtMjEuNSA0OC00OCA0OGwtMTkyIDBjLTI2LjUgMC00OC0yMS41LTQ4LTQ4bDAtMjg4YzAtMjYuNSAyMS41LTQ4IDQ4LTQ4ek00OCAxMjhsODAgMCAwIDY0LTY0IDAgMCAyNTYgMTkyIDAgMC0zMiA2NCAwIDAgNDhjMCAyNi41LTIxLjUgNDgtNDggNDhMNDggNTEyYy0yNi41IDAtNDgtMjEuNS00OC00OEwwIDE3NmMwLTI2LjUgMjEuNS00OCA0OC00OHoiLz48L3N2Zz4=);\n",
       "    background-repeat: no-repeat;\n",
       "    background-size: 14px 14px;\n",
       "    background-position: 0;\n",
       "    display: inline-block;\n",
       "    width: 14px;\n",
       "    height: 14px;\n",
       "    cursor: pointer;\n",
       "}\n",
       "</style><body><div id=\"sk-container-id-2\" class=\"sk-top-container\"><div class=\"sk-text-repr-fallback\"><pre>Pipeline(steps=[(&#x27;preprocessor&#x27;,\n",
       "                 ColumnTransformer(transformers=[(&#x27;num&#x27;,\n",
       "                                                  Pipeline(steps=[(&#x27;imputer&#x27;,\n",
       "                                                                   SimpleImputer()),\n",
       "                                                                  (&#x27;scaler&#x27;,\n",
       "                                                                   StandardScaler())]),\n",
       "                                                  [&#x27;distance_to_goal&#x27;,\n",
       "                                                   &#x27;angle_to_goal&#x27;,\n",
       "                                                   &#x27;possession_duration&#x27;,\n",
       "                                                   &#x27;key_pass_length&#x27;,\n",
       "                                                   &#x27;key_pass_angle&#x27;,\n",
       "                                                   &#x27;rivals_in_shot_area&#x27;,\n",
       "                                                   &#x27;distance_to_goal_squared&#x27;,\n",
       "                                                   &#x27;angle_to_goal_squared&#x27;,\n",
       "                                                   &#x27;distance_angle_interaction&#x27;,\n",
       "                                                   &#x27;keeper_pl...\n",
       "                               grow_policy=None, importance_type=None,\n",
       "                               interaction_constraints=None,\n",
       "                               learning_rate=np.float64(0.01787824026911767),\n",
       "                               max_bin=None, max_cat_threshold=None,\n",
       "                               max_cat_to_onehot=None, max_delta_step=None,\n",
       "                               max_depth=6, max_leaves=None, min_child_weight=4,\n",
       "                               missing=nan, monotone_constraints=None,\n",
       "                               multi_strategy=None, n_estimators=1456,\n",
       "                               n_jobs=None, num_parallel_tree=None, ...))])</pre><b>In a Jupyter environment, please rerun this cell to show the HTML representation or trust the notebook. <br />On GitHub, the HTML representation is unable to render, please try loading this page with nbviewer.org.</b></div><div class=\"sk-container\" hidden><div class=\"sk-item sk-dashed-wrapped\"><div class=\"sk-label-container\"><div class=\"sk-label fitted sk-toggleable\"><input class=\"sk-toggleable__control sk-hidden--visually\" id=\"sk-estimator-id-8\" type=\"checkbox\" ><label for=\"sk-estimator-id-8\" class=\"sk-toggleable__label fitted sk-toggleable__label-arrow\"><div><div>Pipeline</div></div><div><a class=\"sk-estimator-doc-link fitted\" rel=\"noreferrer\" target=\"_blank\" href=\"https://scikit-learn.org/1.7/modules/generated/sklearn.pipeline.Pipeline.html\">?<span>Documentation for Pipeline</span></a><span class=\"sk-estimator-doc-link fitted\">i<span>Fitted</span></span></div></label><div class=\"sk-toggleable__content fitted\" data-param-prefix=\"\">\n",
       "        <div class=\"estimator-table\">\n",
       "            <details>\n",
       "                <summary>Parameters</summary>\n",
       "                <table class=\"parameters-table\">\n",
       "                  <tbody>\n",
       "                    \n",
       "        <tr class=\"user-set\">\n",
       "            <td><i class=\"copy-paste-icon\"\n",
       "                 onclick=\"copyToClipboard('steps',\n",
       "                          this.parentElement.nextElementSibling)\"\n",
       "            ></i></td>\n",
       "            <td class=\"param\">steps&nbsp;</td>\n",
       "            <td class=\"value\">[(&#x27;preprocessor&#x27;, ...), (&#x27;classifier&#x27;, ...)]</td>\n",
       "        </tr>\n",
       "    \n",
       "\n",
       "        <tr class=\"default\">\n",
       "            <td><i class=\"copy-paste-icon\"\n",
       "                 onclick=\"copyToClipboard('transform_input',\n",
       "                          this.parentElement.nextElementSibling)\"\n",
       "            ></i></td>\n",
       "            <td class=\"param\">transform_input&nbsp;</td>\n",
       "            <td class=\"value\">None</td>\n",
       "        </tr>\n",
       "    \n",
       "\n",
       "        <tr class=\"default\">\n",
       "            <td><i class=\"copy-paste-icon\"\n",
       "                 onclick=\"copyToClipboard('memory',\n",
       "                          this.parentElement.nextElementSibling)\"\n",
       "            ></i></td>\n",
       "            <td class=\"param\">memory&nbsp;</td>\n",
       "            <td class=\"value\">None</td>\n",
       "        </tr>\n",
       "    \n",
       "\n",
       "        <tr class=\"default\">\n",
       "            <td><i class=\"copy-paste-icon\"\n",
       "                 onclick=\"copyToClipboard('verbose',\n",
       "                          this.parentElement.nextElementSibling)\"\n",
       "            ></i></td>\n",
       "            <td class=\"param\">verbose&nbsp;</td>\n",
       "            <td class=\"value\">False</td>\n",
       "        </tr>\n",
       "    \n",
       "                  </tbody>\n",
       "                </table>\n",
       "            </details>\n",
       "        </div>\n",
       "    </div></div></div><div class=\"sk-serial\"><div class=\"sk-item sk-dashed-wrapped\"><div class=\"sk-label-container\"><div class=\"sk-label fitted sk-toggleable\"><input class=\"sk-toggleable__control sk-hidden--visually\" id=\"sk-estimator-id-9\" type=\"checkbox\" ><label for=\"sk-estimator-id-9\" class=\"sk-toggleable__label fitted sk-toggleable__label-arrow\"><div><div>preprocessor: ColumnTransformer</div></div><div><a class=\"sk-estimator-doc-link fitted\" rel=\"noreferrer\" target=\"_blank\" href=\"https://scikit-learn.org/1.7/modules/generated/sklearn.compose.ColumnTransformer.html\">?<span>Documentation for preprocessor: ColumnTransformer</span></a></div></label><div class=\"sk-toggleable__content fitted\" data-param-prefix=\"preprocessor__\">\n",
       "        <div class=\"estimator-table\">\n",
       "            <details>\n",
       "                <summary>Parameters</summary>\n",
       "                <table class=\"parameters-table\">\n",
       "                  <tbody>\n",
       "                    \n",
       "        <tr class=\"user-set\">\n",
       "            <td><i class=\"copy-paste-icon\"\n",
       "                 onclick=\"copyToClipboard('transformers',\n",
       "                          this.parentElement.nextElementSibling)\"\n",
       "            ></i></td>\n",
       "            <td class=\"param\">transformers&nbsp;</td>\n",
       "            <td class=\"value\">[(&#x27;num&#x27;, ...), (&#x27;cat&#x27;, ...)]</td>\n",
       "        </tr>\n",
       "    \n",
       "\n",
       "        <tr class=\"default\">\n",
       "            <td><i class=\"copy-paste-icon\"\n",
       "                 onclick=\"copyToClipboard('remainder',\n",
       "                          this.parentElement.nextElementSibling)\"\n",
       "            ></i></td>\n",
       "            <td class=\"param\">remainder&nbsp;</td>\n",
       "            <td class=\"value\">&#x27;drop&#x27;</td>\n",
       "        </tr>\n",
       "    \n",
       "\n",
       "        <tr class=\"default\">\n",
       "            <td><i class=\"copy-paste-icon\"\n",
       "                 onclick=\"copyToClipboard('sparse_threshold',\n",
       "                          this.parentElement.nextElementSibling)\"\n",
       "            ></i></td>\n",
       "            <td class=\"param\">sparse_threshold&nbsp;</td>\n",
       "            <td class=\"value\">0.3</td>\n",
       "        </tr>\n",
       "    \n",
       "\n",
       "        <tr class=\"default\">\n",
       "            <td><i class=\"copy-paste-icon\"\n",
       "                 onclick=\"copyToClipboard('n_jobs',\n",
       "                          this.parentElement.nextElementSibling)\"\n",
       "            ></i></td>\n",
       "            <td class=\"param\">n_jobs&nbsp;</td>\n",
       "            <td class=\"value\">None</td>\n",
       "        </tr>\n",
       "    \n",
       "\n",
       "        <tr class=\"default\">\n",
       "            <td><i class=\"copy-paste-icon\"\n",
       "                 onclick=\"copyToClipboard('transformer_weights',\n",
       "                          this.parentElement.nextElementSibling)\"\n",
       "            ></i></td>\n",
       "            <td class=\"param\">transformer_weights&nbsp;</td>\n",
       "            <td class=\"value\">None</td>\n",
       "        </tr>\n",
       "    \n",
       "\n",
       "        <tr class=\"default\">\n",
       "            <td><i class=\"copy-paste-icon\"\n",
       "                 onclick=\"copyToClipboard('verbose',\n",
       "                          this.parentElement.nextElementSibling)\"\n",
       "            ></i></td>\n",
       "            <td class=\"param\">verbose&nbsp;</td>\n",
       "            <td class=\"value\">False</td>\n",
       "        </tr>\n",
       "    \n",
       "\n",
       "        <tr class=\"default\">\n",
       "            <td><i class=\"copy-paste-icon\"\n",
       "                 onclick=\"copyToClipboard('verbose_feature_names_out',\n",
       "                          this.parentElement.nextElementSibling)\"\n",
       "            ></i></td>\n",
       "            <td class=\"param\">verbose_feature_names_out&nbsp;</td>\n",
       "            <td class=\"value\">True</td>\n",
       "        </tr>\n",
       "    \n",
       "\n",
       "        <tr class=\"default\">\n",
       "            <td><i class=\"copy-paste-icon\"\n",
       "                 onclick=\"copyToClipboard('force_int_remainder_cols',\n",
       "                          this.parentElement.nextElementSibling)\"\n",
       "            ></i></td>\n",
       "            <td class=\"param\">force_int_remainder_cols&nbsp;</td>\n",
       "            <td class=\"value\">&#x27;deprecated&#x27;</td>\n",
       "        </tr>\n",
       "    \n",
       "                  </tbody>\n",
       "                </table>\n",
       "            </details>\n",
       "        </div>\n",
       "    </div></div></div><div class=\"sk-parallel\"><div class=\"sk-parallel-item\"><div class=\"sk-item\"><div class=\"sk-label-container\"><div class=\"sk-label fitted sk-toggleable\"><input class=\"sk-toggleable__control sk-hidden--visually\" id=\"sk-estimator-id-10\" type=\"checkbox\" ><label for=\"sk-estimator-id-10\" class=\"sk-toggleable__label fitted sk-toggleable__label-arrow\"><div><div>num</div></div></label><div class=\"sk-toggleable__content fitted\" data-param-prefix=\"preprocessor__num__\"><pre>[&#x27;distance_to_goal&#x27;, &#x27;angle_to_goal&#x27;, &#x27;possession_duration&#x27;, &#x27;key_pass_length&#x27;, &#x27;key_pass_angle&#x27;, &#x27;rivals_in_shot_area&#x27;, &#x27;distance_to_goal_squared&#x27;, &#x27;angle_to_goal_squared&#x27;, &#x27;distance_angle_interaction&#x27;, &#x27;keeper_placement_score&#x27;]</pre></div></div></div><div class=\"sk-serial\"><div class=\"sk-item\"><div class=\"sk-serial\"><div class=\"sk-item\"><div class=\"sk-estimator fitted sk-toggleable\"><input class=\"sk-toggleable__control sk-hidden--visually\" id=\"sk-estimator-id-11\" type=\"checkbox\" ><label for=\"sk-estimator-id-11\" class=\"sk-toggleable__label fitted sk-toggleable__label-arrow\"><div><div>SimpleImputer</div></div><div><a class=\"sk-estimator-doc-link fitted\" rel=\"noreferrer\" target=\"_blank\" href=\"https://scikit-learn.org/1.7/modules/generated/sklearn.impute.SimpleImputer.html\">?<span>Documentation for SimpleImputer</span></a></div></label><div class=\"sk-toggleable__content fitted\" data-param-prefix=\"preprocessor__num__imputer__\">\n",
       "        <div class=\"estimator-table\">\n",
       "            <details>\n",
       "                <summary>Parameters</summary>\n",
       "                <table class=\"parameters-table\">\n",
       "                  <tbody>\n",
       "                    \n",
       "        <tr class=\"default\">\n",
       "            <td><i class=\"copy-paste-icon\"\n",
       "                 onclick=\"copyToClipboard('missing_values',\n",
       "                          this.parentElement.nextElementSibling)\"\n",
       "            ></i></td>\n",
       "            <td class=\"param\">missing_values&nbsp;</td>\n",
       "            <td class=\"value\">nan</td>\n",
       "        </tr>\n",
       "    \n",
       "\n",
       "        <tr class=\"default\">\n",
       "            <td><i class=\"copy-paste-icon\"\n",
       "                 onclick=\"copyToClipboard('strategy',\n",
       "                          this.parentElement.nextElementSibling)\"\n",
       "            ></i></td>\n",
       "            <td class=\"param\">strategy&nbsp;</td>\n",
       "            <td class=\"value\">&#x27;mean&#x27;</td>\n",
       "        </tr>\n",
       "    \n",
       "\n",
       "        <tr class=\"default\">\n",
       "            <td><i class=\"copy-paste-icon\"\n",
       "                 onclick=\"copyToClipboard('fill_value',\n",
       "                          this.parentElement.nextElementSibling)\"\n",
       "            ></i></td>\n",
       "            <td class=\"param\">fill_value&nbsp;</td>\n",
       "            <td class=\"value\">None</td>\n",
       "        </tr>\n",
       "    \n",
       "\n",
       "        <tr class=\"default\">\n",
       "            <td><i class=\"copy-paste-icon\"\n",
       "                 onclick=\"copyToClipboard('copy',\n",
       "                          this.parentElement.nextElementSibling)\"\n",
       "            ></i></td>\n",
       "            <td class=\"param\">copy&nbsp;</td>\n",
       "            <td class=\"value\">True</td>\n",
       "        </tr>\n",
       "    \n",
       "\n",
       "        <tr class=\"default\">\n",
       "            <td><i class=\"copy-paste-icon\"\n",
       "                 onclick=\"copyToClipboard('add_indicator',\n",
       "                          this.parentElement.nextElementSibling)\"\n",
       "            ></i></td>\n",
       "            <td class=\"param\">add_indicator&nbsp;</td>\n",
       "            <td class=\"value\">False</td>\n",
       "        </tr>\n",
       "    \n",
       "\n",
       "        <tr class=\"default\">\n",
       "            <td><i class=\"copy-paste-icon\"\n",
       "                 onclick=\"copyToClipboard('keep_empty_features',\n",
       "                          this.parentElement.nextElementSibling)\"\n",
       "            ></i></td>\n",
       "            <td class=\"param\">keep_empty_features&nbsp;</td>\n",
       "            <td class=\"value\">False</td>\n",
       "        </tr>\n",
       "    \n",
       "                  </tbody>\n",
       "                </table>\n",
       "            </details>\n",
       "        </div>\n",
       "    </div></div></div><div class=\"sk-item\"><div class=\"sk-estimator fitted sk-toggleable\"><input class=\"sk-toggleable__control sk-hidden--visually\" id=\"sk-estimator-id-12\" type=\"checkbox\" ><label for=\"sk-estimator-id-12\" class=\"sk-toggleable__label fitted sk-toggleable__label-arrow\"><div><div>StandardScaler</div></div><div><a class=\"sk-estimator-doc-link fitted\" rel=\"noreferrer\" target=\"_blank\" href=\"https://scikit-learn.org/1.7/modules/generated/sklearn.preprocessing.StandardScaler.html\">?<span>Documentation for StandardScaler</span></a></div></label><div class=\"sk-toggleable__content fitted\" data-param-prefix=\"preprocessor__num__scaler__\">\n",
       "        <div class=\"estimator-table\">\n",
       "            <details>\n",
       "                <summary>Parameters</summary>\n",
       "                <table class=\"parameters-table\">\n",
       "                  <tbody>\n",
       "                    \n",
       "        <tr class=\"default\">\n",
       "            <td><i class=\"copy-paste-icon\"\n",
       "                 onclick=\"copyToClipboard('copy',\n",
       "                          this.parentElement.nextElementSibling)\"\n",
       "            ></i></td>\n",
       "            <td class=\"param\">copy&nbsp;</td>\n",
       "            <td class=\"value\">True</td>\n",
       "        </tr>\n",
       "    \n",
       "\n",
       "        <tr class=\"default\">\n",
       "            <td><i class=\"copy-paste-icon\"\n",
       "                 onclick=\"copyToClipboard('with_mean',\n",
       "                          this.parentElement.nextElementSibling)\"\n",
       "            ></i></td>\n",
       "            <td class=\"param\">with_mean&nbsp;</td>\n",
       "            <td class=\"value\">True</td>\n",
       "        </tr>\n",
       "    \n",
       "\n",
       "        <tr class=\"default\">\n",
       "            <td><i class=\"copy-paste-icon\"\n",
       "                 onclick=\"copyToClipboard('with_std',\n",
       "                          this.parentElement.nextElementSibling)\"\n",
       "            ></i></td>\n",
       "            <td class=\"param\">with_std&nbsp;</td>\n",
       "            <td class=\"value\">True</td>\n",
       "        </tr>\n",
       "    \n",
       "                  </tbody>\n",
       "                </table>\n",
       "            </details>\n",
       "        </div>\n",
       "    </div></div></div></div></div></div></div></div><div class=\"sk-parallel-item\"><div class=\"sk-item\"><div class=\"sk-label-container\"><div class=\"sk-label fitted sk-toggleable\"><input class=\"sk-toggleable__control sk-hidden--visually\" id=\"sk-estimator-id-13\" type=\"checkbox\" ><label for=\"sk-estimator-id-13\" class=\"sk-toggleable__label fitted sk-toggleable__label-arrow\"><div><div>cat</div></div></label><div class=\"sk-toggleable__content fitted\" data-param-prefix=\"preprocessor__cat__\"><pre>[&#x27;play_pattern_id&#x27;, &#x27;shot_body_part_id&#x27;, &#x27;shot_technique_id&#x27;, &#x27;shot_type_id&#x27;, &#x27;key_pass_height_id&#x27;, &#x27;key_pass_body_part_id&#x27;, &#x27;under_pressure&#x27;, &#x27;shot_first_time&#x27;, &#x27;shot_aerial_won&#x27;, &#x27;key_pass_switch&#x27;, &#x27;key_under_pressure&#x27;, &#x27;key_pass_cross&#x27;, &#x27;key_pass_cut_back&#x27;, &#x27;possession_bucket&#x27;, &#x27;key_pass_length_bucket&#x27;, &#x27;key_pass_angle_bucket&#x27;]</pre></div></div></div><div class=\"sk-serial\"><div class=\"sk-item\"><div class=\"sk-serial\"><div class=\"sk-item\"><div class=\"sk-estimator fitted sk-toggleable\"><input class=\"sk-toggleable__control sk-hidden--visually\" id=\"sk-estimator-id-14\" type=\"checkbox\" ><label for=\"sk-estimator-id-14\" class=\"sk-toggleable__label fitted sk-toggleable__label-arrow\"><div><div>SimpleImputer</div></div><div><a class=\"sk-estimator-doc-link fitted\" rel=\"noreferrer\" target=\"_blank\" href=\"https://scikit-learn.org/1.7/modules/generated/sklearn.impute.SimpleImputer.html\">?<span>Documentation for SimpleImputer</span></a></div></label><div class=\"sk-toggleable__content fitted\" data-param-prefix=\"preprocessor__cat__imputer__\">\n",
       "        <div class=\"estimator-table\">\n",
       "            <details>\n",
       "                <summary>Parameters</summary>\n",
       "                <table class=\"parameters-table\">\n",
       "                  <tbody>\n",
       "                    \n",
       "        <tr class=\"default\">\n",
       "            <td><i class=\"copy-paste-icon\"\n",
       "                 onclick=\"copyToClipboard('missing_values',\n",
       "                          this.parentElement.nextElementSibling)\"\n",
       "            ></i></td>\n",
       "            <td class=\"param\">missing_values&nbsp;</td>\n",
       "            <td class=\"value\">nan</td>\n",
       "        </tr>\n",
       "    \n",
       "\n",
       "        <tr class=\"user-set\">\n",
       "            <td><i class=\"copy-paste-icon\"\n",
       "                 onclick=\"copyToClipboard('strategy',\n",
       "                          this.parentElement.nextElementSibling)\"\n",
       "            ></i></td>\n",
       "            <td class=\"param\">strategy&nbsp;</td>\n",
       "            <td class=\"value\">&#x27;most_frequent&#x27;</td>\n",
       "        </tr>\n",
       "    \n",
       "\n",
       "        <tr class=\"default\">\n",
       "            <td><i class=\"copy-paste-icon\"\n",
       "                 onclick=\"copyToClipboard('fill_value',\n",
       "                          this.parentElement.nextElementSibling)\"\n",
       "            ></i></td>\n",
       "            <td class=\"param\">fill_value&nbsp;</td>\n",
       "            <td class=\"value\">None</td>\n",
       "        </tr>\n",
       "    \n",
       "\n",
       "        <tr class=\"default\">\n",
       "            <td><i class=\"copy-paste-icon\"\n",
       "                 onclick=\"copyToClipboard('copy',\n",
       "                          this.parentElement.nextElementSibling)\"\n",
       "            ></i></td>\n",
       "            <td class=\"param\">copy&nbsp;</td>\n",
       "            <td class=\"value\">True</td>\n",
       "        </tr>\n",
       "    \n",
       "\n",
       "        <tr class=\"default\">\n",
       "            <td><i class=\"copy-paste-icon\"\n",
       "                 onclick=\"copyToClipboard('add_indicator',\n",
       "                          this.parentElement.nextElementSibling)\"\n",
       "            ></i></td>\n",
       "            <td class=\"param\">add_indicator&nbsp;</td>\n",
       "            <td class=\"value\">False</td>\n",
       "        </tr>\n",
       "    \n",
       "\n",
       "        <tr class=\"default\">\n",
       "            <td><i class=\"copy-paste-icon\"\n",
       "                 onclick=\"copyToClipboard('keep_empty_features',\n",
       "                          this.parentElement.nextElementSibling)\"\n",
       "            ></i></td>\n",
       "            <td class=\"param\">keep_empty_features&nbsp;</td>\n",
       "            <td class=\"value\">False</td>\n",
       "        </tr>\n",
       "    \n",
       "                  </tbody>\n",
       "                </table>\n",
       "            </details>\n",
       "        </div>\n",
       "    </div></div></div><div class=\"sk-item\"><div class=\"sk-estimator fitted sk-toggleable\"><input class=\"sk-toggleable__control sk-hidden--visually\" id=\"sk-estimator-id-15\" type=\"checkbox\" ><label for=\"sk-estimator-id-15\" class=\"sk-toggleable__label fitted sk-toggleable__label-arrow\"><div><div>OneHotEncoder</div></div><div><a class=\"sk-estimator-doc-link fitted\" rel=\"noreferrer\" target=\"_blank\" href=\"https://scikit-learn.org/1.7/modules/generated/sklearn.preprocessing.OneHotEncoder.html\">?<span>Documentation for OneHotEncoder</span></a></div></label><div class=\"sk-toggleable__content fitted\" data-param-prefix=\"preprocessor__cat__onehot__\">\n",
       "        <div class=\"estimator-table\">\n",
       "            <details>\n",
       "                <summary>Parameters</summary>\n",
       "                <table class=\"parameters-table\">\n",
       "                  <tbody>\n",
       "                    \n",
       "        <tr class=\"default\">\n",
       "            <td><i class=\"copy-paste-icon\"\n",
       "                 onclick=\"copyToClipboard('categories',\n",
       "                          this.parentElement.nextElementSibling)\"\n",
       "            ></i></td>\n",
       "            <td class=\"param\">categories&nbsp;</td>\n",
       "            <td class=\"value\">&#x27;auto&#x27;</td>\n",
       "        </tr>\n",
       "    \n",
       "\n",
       "        <tr class=\"default\">\n",
       "            <td><i class=\"copy-paste-icon\"\n",
       "                 onclick=\"copyToClipboard('drop',\n",
       "                          this.parentElement.nextElementSibling)\"\n",
       "            ></i></td>\n",
       "            <td class=\"param\">drop&nbsp;</td>\n",
       "            <td class=\"value\">None</td>\n",
       "        </tr>\n",
       "    \n",
       "\n",
       "        <tr class=\"default\">\n",
       "            <td><i class=\"copy-paste-icon\"\n",
       "                 onclick=\"copyToClipboard('sparse_output',\n",
       "                          this.parentElement.nextElementSibling)\"\n",
       "            ></i></td>\n",
       "            <td class=\"param\">sparse_output&nbsp;</td>\n",
       "            <td class=\"value\">True</td>\n",
       "        </tr>\n",
       "    \n",
       "\n",
       "        <tr class=\"default\">\n",
       "            <td><i class=\"copy-paste-icon\"\n",
       "                 onclick=\"copyToClipboard('dtype',\n",
       "                          this.parentElement.nextElementSibling)\"\n",
       "            ></i></td>\n",
       "            <td class=\"param\">dtype&nbsp;</td>\n",
       "            <td class=\"value\">&lt;class &#x27;numpy.float64&#x27;&gt;</td>\n",
       "        </tr>\n",
       "    \n",
       "\n",
       "        <tr class=\"user-set\">\n",
       "            <td><i class=\"copy-paste-icon\"\n",
       "                 onclick=\"copyToClipboard('handle_unknown',\n",
       "                          this.parentElement.nextElementSibling)\"\n",
       "            ></i></td>\n",
       "            <td class=\"param\">handle_unknown&nbsp;</td>\n",
       "            <td class=\"value\">&#x27;ignore&#x27;</td>\n",
       "        </tr>\n",
       "    \n",
       "\n",
       "        <tr class=\"default\">\n",
       "            <td><i class=\"copy-paste-icon\"\n",
       "                 onclick=\"copyToClipboard('min_frequency',\n",
       "                          this.parentElement.nextElementSibling)\"\n",
       "            ></i></td>\n",
       "            <td class=\"param\">min_frequency&nbsp;</td>\n",
       "            <td class=\"value\">None</td>\n",
       "        </tr>\n",
       "    \n",
       "\n",
       "        <tr class=\"default\">\n",
       "            <td><i class=\"copy-paste-icon\"\n",
       "                 onclick=\"copyToClipboard('max_categories',\n",
       "                          this.parentElement.nextElementSibling)\"\n",
       "            ></i></td>\n",
       "            <td class=\"param\">max_categories&nbsp;</td>\n",
       "            <td class=\"value\">None</td>\n",
       "        </tr>\n",
       "    \n",
       "\n",
       "        <tr class=\"default\">\n",
       "            <td><i class=\"copy-paste-icon\"\n",
       "                 onclick=\"copyToClipboard('feature_name_combiner',\n",
       "                          this.parentElement.nextElementSibling)\"\n",
       "            ></i></td>\n",
       "            <td class=\"param\">feature_name_combiner&nbsp;</td>\n",
       "            <td class=\"value\">&#x27;concat&#x27;</td>\n",
       "        </tr>\n",
       "    \n",
       "                  </tbody>\n",
       "                </table>\n",
       "            </details>\n",
       "        </div>\n",
       "    </div></div></div></div></div></div></div></div></div></div><div class=\"sk-item\"><div class=\"sk-estimator fitted sk-toggleable\"><input class=\"sk-toggleable__control sk-hidden--visually\" id=\"sk-estimator-id-16\" type=\"checkbox\" ><label for=\"sk-estimator-id-16\" class=\"sk-toggleable__label fitted sk-toggleable__label-arrow\"><div><div>XGBClassifier</div></div><div><a class=\"sk-estimator-doc-link fitted\" rel=\"noreferrer\" target=\"_blank\" href=\"https://xgboost.readthedocs.io/en/release_3.0.0/python/python_api.html#xgboost.XGBClassifier\">?<span>Documentation for XGBClassifier</span></a></div></label><div class=\"sk-toggleable__content fitted\" data-param-prefix=\"classifier__\">\n",
       "        <div class=\"estimator-table\">\n",
       "            <details>\n",
       "                <summary>Parameters</summary>\n",
       "                <table class=\"parameters-table\">\n",
       "                  <tbody>\n",
       "                    \n",
       "        <tr class=\"default\">\n",
       "            <td><i class=\"copy-paste-icon\"\n",
       "                 onclick=\"copyToClipboard('objective',\n",
       "                          this.parentElement.nextElementSibling)\"\n",
       "            ></i></td>\n",
       "            <td class=\"param\">objective&nbsp;</td>\n",
       "            <td class=\"value\">&#x27;binary:logistic&#x27;</td>\n",
       "        </tr>\n",
       "    \n",
       "\n",
       "        <tr class=\"user-set\">\n",
       "            <td><i class=\"copy-paste-icon\"\n",
       "                 onclick=\"copyToClipboard('base_score',\n",
       "                          this.parentElement.nextElementSibling)\"\n",
       "            ></i></td>\n",
       "            <td class=\"param\">base_score&nbsp;</td>\n",
       "            <td class=\"value\">None</td>\n",
       "        </tr>\n",
       "    \n",
       "\n",
       "        <tr class=\"user-set\">\n",
       "            <td><i class=\"copy-paste-icon\"\n",
       "                 onclick=\"copyToClipboard('booster',\n",
       "                          this.parentElement.nextElementSibling)\"\n",
       "            ></i></td>\n",
       "            <td class=\"param\">booster&nbsp;</td>\n",
       "            <td class=\"value\">None</td>\n",
       "        </tr>\n",
       "    \n",
       "\n",
       "        <tr class=\"user-set\">\n",
       "            <td><i class=\"copy-paste-icon\"\n",
       "                 onclick=\"copyToClipboard('callbacks',\n",
       "                          this.parentElement.nextElementSibling)\"\n",
       "            ></i></td>\n",
       "            <td class=\"param\">callbacks&nbsp;</td>\n",
       "            <td class=\"value\">None</td>\n",
       "        </tr>\n",
       "    \n",
       "\n",
       "        <tr class=\"user-set\">\n",
       "            <td><i class=\"copy-paste-icon\"\n",
       "                 onclick=\"copyToClipboard('colsample_bylevel',\n",
       "                          this.parentElement.nextElementSibling)\"\n",
       "            ></i></td>\n",
       "            <td class=\"param\">colsample_bylevel&nbsp;</td>\n",
       "            <td class=\"value\">None</td>\n",
       "        </tr>\n",
       "    \n",
       "\n",
       "        <tr class=\"user-set\">\n",
       "            <td><i class=\"copy-paste-icon\"\n",
       "                 onclick=\"copyToClipboard('colsample_bynode',\n",
       "                          this.parentElement.nextElementSibling)\"\n",
       "            ></i></td>\n",
       "            <td class=\"param\">colsample_bynode&nbsp;</td>\n",
       "            <td class=\"value\">None</td>\n",
       "        </tr>\n",
       "    \n",
       "\n",
       "        <tr class=\"user-set\">\n",
       "            <td><i class=\"copy-paste-icon\"\n",
       "                 onclick=\"copyToClipboard('colsample_bytree',\n",
       "                          this.parentElement.nextElementSibling)\"\n",
       "            ></i></td>\n",
       "            <td class=\"param\">colsample_bytree&nbsp;</td>\n",
       "            <td class=\"value\">np.float64(0.8721080604184118)</td>\n",
       "        </tr>\n",
       "    \n",
       "\n",
       "        <tr class=\"user-set\">\n",
       "            <td><i class=\"copy-paste-icon\"\n",
       "                 onclick=\"copyToClipboard('device',\n",
       "                          this.parentElement.nextElementSibling)\"\n",
       "            ></i></td>\n",
       "            <td class=\"param\">device&nbsp;</td>\n",
       "            <td class=\"value\">None</td>\n",
       "        </tr>\n",
       "    \n",
       "\n",
       "        <tr class=\"user-set\">\n",
       "            <td><i class=\"copy-paste-icon\"\n",
       "                 onclick=\"copyToClipboard('early_stopping_rounds',\n",
       "                          this.parentElement.nextElementSibling)\"\n",
       "            ></i></td>\n",
       "            <td class=\"param\">early_stopping_rounds&nbsp;</td>\n",
       "            <td class=\"value\">None</td>\n",
       "        </tr>\n",
       "    \n",
       "\n",
       "        <tr class=\"user-set\">\n",
       "            <td><i class=\"copy-paste-icon\"\n",
       "                 onclick=\"copyToClipboard('enable_categorical',\n",
       "                          this.parentElement.nextElementSibling)\"\n",
       "            ></i></td>\n",
       "            <td class=\"param\">enable_categorical&nbsp;</td>\n",
       "            <td class=\"value\">False</td>\n",
       "        </tr>\n",
       "    \n",
       "\n",
       "        <tr class=\"user-set\">\n",
       "            <td><i class=\"copy-paste-icon\"\n",
       "                 onclick=\"copyToClipboard('eval_metric',\n",
       "                          this.parentElement.nextElementSibling)\"\n",
       "            ></i></td>\n",
       "            <td class=\"param\">eval_metric&nbsp;</td>\n",
       "            <td class=\"value\">&#x27;logloss&#x27;</td>\n",
       "        </tr>\n",
       "    \n",
       "\n",
       "        <tr class=\"user-set\">\n",
       "            <td><i class=\"copy-paste-icon\"\n",
       "                 onclick=\"copyToClipboard('feature_types',\n",
       "                          this.parentElement.nextElementSibling)\"\n",
       "            ></i></td>\n",
       "            <td class=\"param\">feature_types&nbsp;</td>\n",
       "            <td class=\"value\">None</td>\n",
       "        </tr>\n",
       "    \n",
       "\n",
       "        <tr class=\"user-set\">\n",
       "            <td><i class=\"copy-paste-icon\"\n",
       "                 onclick=\"copyToClipboard('feature_weights',\n",
       "                          this.parentElement.nextElementSibling)\"\n",
       "            ></i></td>\n",
       "            <td class=\"param\">feature_weights&nbsp;</td>\n",
       "            <td class=\"value\">None</td>\n",
       "        </tr>\n",
       "    \n",
       "\n",
       "        <tr class=\"user-set\">\n",
       "            <td><i class=\"copy-paste-icon\"\n",
       "                 onclick=\"copyToClipboard('gamma',\n",
       "                          this.parentElement.nextElementSibling)\"\n",
       "            ></i></td>\n",
       "            <td class=\"param\">gamma&nbsp;</td>\n",
       "            <td class=\"value\">np.float64(3.04588790779194)</td>\n",
       "        </tr>\n",
       "    \n",
       "\n",
       "        <tr class=\"user-set\">\n",
       "            <td><i class=\"copy-paste-icon\"\n",
       "                 onclick=\"copyToClipboard('grow_policy',\n",
       "                          this.parentElement.nextElementSibling)\"\n",
       "            ></i></td>\n",
       "            <td class=\"param\">grow_policy&nbsp;</td>\n",
       "            <td class=\"value\">None</td>\n",
       "        </tr>\n",
       "    \n",
       "\n",
       "        <tr class=\"user-set\">\n",
       "            <td><i class=\"copy-paste-icon\"\n",
       "                 onclick=\"copyToClipboard('importance_type',\n",
       "                          this.parentElement.nextElementSibling)\"\n",
       "            ></i></td>\n",
       "            <td class=\"param\">importance_type&nbsp;</td>\n",
       "            <td class=\"value\">None</td>\n",
       "        </tr>\n",
       "    \n",
       "\n",
       "        <tr class=\"user-set\">\n",
       "            <td><i class=\"copy-paste-icon\"\n",
       "                 onclick=\"copyToClipboard('interaction_constraints',\n",
       "                          this.parentElement.nextElementSibling)\"\n",
       "            ></i></td>\n",
       "            <td class=\"param\">interaction_constraints&nbsp;</td>\n",
       "            <td class=\"value\">None</td>\n",
       "        </tr>\n",
       "    \n",
       "\n",
       "        <tr class=\"user-set\">\n",
       "            <td><i class=\"copy-paste-icon\"\n",
       "                 onclick=\"copyToClipboard('learning_rate',\n",
       "                          this.parentElement.nextElementSibling)\"\n",
       "            ></i></td>\n",
       "            <td class=\"param\">learning_rate&nbsp;</td>\n",
       "            <td class=\"value\">np.float64(0....7824026911767)</td>\n",
       "        </tr>\n",
       "    \n",
       "\n",
       "        <tr class=\"user-set\">\n",
       "            <td><i class=\"copy-paste-icon\"\n",
       "                 onclick=\"copyToClipboard('max_bin',\n",
       "                          this.parentElement.nextElementSibling)\"\n",
       "            ></i></td>\n",
       "            <td class=\"param\">max_bin&nbsp;</td>\n",
       "            <td class=\"value\">None</td>\n",
       "        </tr>\n",
       "    \n",
       "\n",
       "        <tr class=\"user-set\">\n",
       "            <td><i class=\"copy-paste-icon\"\n",
       "                 onclick=\"copyToClipboard('max_cat_threshold',\n",
       "                          this.parentElement.nextElementSibling)\"\n",
       "            ></i></td>\n",
       "            <td class=\"param\">max_cat_threshold&nbsp;</td>\n",
       "            <td class=\"value\">None</td>\n",
       "        </tr>\n",
       "    \n",
       "\n",
       "        <tr class=\"user-set\">\n",
       "            <td><i class=\"copy-paste-icon\"\n",
       "                 onclick=\"copyToClipboard('max_cat_to_onehot',\n",
       "                          this.parentElement.nextElementSibling)\"\n",
       "            ></i></td>\n",
       "            <td class=\"param\">max_cat_to_onehot&nbsp;</td>\n",
       "            <td class=\"value\">None</td>\n",
       "        </tr>\n",
       "    \n",
       "\n",
       "        <tr class=\"user-set\">\n",
       "            <td><i class=\"copy-paste-icon\"\n",
       "                 onclick=\"copyToClipboard('max_delta_step',\n",
       "                          this.parentElement.nextElementSibling)\"\n",
       "            ></i></td>\n",
       "            <td class=\"param\">max_delta_step&nbsp;</td>\n",
       "            <td class=\"value\">None</td>\n",
       "        </tr>\n",
       "    \n",
       "\n",
       "        <tr class=\"user-set\">\n",
       "            <td><i class=\"copy-paste-icon\"\n",
       "                 onclick=\"copyToClipboard('max_depth',\n",
       "                          this.parentElement.nextElementSibling)\"\n",
       "            ></i></td>\n",
       "            <td class=\"param\">max_depth&nbsp;</td>\n",
       "            <td class=\"value\">6</td>\n",
       "        </tr>\n",
       "    \n",
       "\n",
       "        <tr class=\"user-set\">\n",
       "            <td><i class=\"copy-paste-icon\"\n",
       "                 onclick=\"copyToClipboard('max_leaves',\n",
       "                          this.parentElement.nextElementSibling)\"\n",
       "            ></i></td>\n",
       "            <td class=\"param\">max_leaves&nbsp;</td>\n",
       "            <td class=\"value\">None</td>\n",
       "        </tr>\n",
       "    \n",
       "\n",
       "        <tr class=\"user-set\">\n",
       "            <td><i class=\"copy-paste-icon\"\n",
       "                 onclick=\"copyToClipboard('min_child_weight',\n",
       "                          this.parentElement.nextElementSibling)\"\n",
       "            ></i></td>\n",
       "            <td class=\"param\">min_child_weight&nbsp;</td>\n",
       "            <td class=\"value\">4</td>\n",
       "        </tr>\n",
       "    \n",
       "\n",
       "        <tr class=\"user-set\">\n",
       "            <td><i class=\"copy-paste-icon\"\n",
       "                 onclick=\"copyToClipboard('missing',\n",
       "                          this.parentElement.nextElementSibling)\"\n",
       "            ></i></td>\n",
       "            <td class=\"param\">missing&nbsp;</td>\n",
       "            <td class=\"value\">nan</td>\n",
       "        </tr>\n",
       "    \n",
       "\n",
       "        <tr class=\"user-set\">\n",
       "            <td><i class=\"copy-paste-icon\"\n",
       "                 onclick=\"copyToClipboard('monotone_constraints',\n",
       "                          this.parentElement.nextElementSibling)\"\n",
       "            ></i></td>\n",
       "            <td class=\"param\">monotone_constraints&nbsp;</td>\n",
       "            <td class=\"value\">None</td>\n",
       "        </tr>\n",
       "    \n",
       "\n",
       "        <tr class=\"user-set\">\n",
       "            <td><i class=\"copy-paste-icon\"\n",
       "                 onclick=\"copyToClipboard('multi_strategy',\n",
       "                          this.parentElement.nextElementSibling)\"\n",
       "            ></i></td>\n",
       "            <td class=\"param\">multi_strategy&nbsp;</td>\n",
       "            <td class=\"value\">None</td>\n",
       "        </tr>\n",
       "    \n",
       "\n",
       "        <tr class=\"user-set\">\n",
       "            <td><i class=\"copy-paste-icon\"\n",
       "                 onclick=\"copyToClipboard('n_estimators',\n",
       "                          this.parentElement.nextElementSibling)\"\n",
       "            ></i></td>\n",
       "            <td class=\"param\">n_estimators&nbsp;</td>\n",
       "            <td class=\"value\">1456</td>\n",
       "        </tr>\n",
       "    \n",
       "\n",
       "        <tr class=\"user-set\">\n",
       "            <td><i class=\"copy-paste-icon\"\n",
       "                 onclick=\"copyToClipboard('n_jobs',\n",
       "                          this.parentElement.nextElementSibling)\"\n",
       "            ></i></td>\n",
       "            <td class=\"param\">n_jobs&nbsp;</td>\n",
       "            <td class=\"value\">None</td>\n",
       "        </tr>\n",
       "    \n",
       "\n",
       "        <tr class=\"user-set\">\n",
       "            <td><i class=\"copy-paste-icon\"\n",
       "                 onclick=\"copyToClipboard('num_parallel_tree',\n",
       "                          this.parentElement.nextElementSibling)\"\n",
       "            ></i></td>\n",
       "            <td class=\"param\">num_parallel_tree&nbsp;</td>\n",
       "            <td class=\"value\">None</td>\n",
       "        </tr>\n",
       "    \n",
       "\n",
       "        <tr class=\"user-set\">\n",
       "            <td><i class=\"copy-paste-icon\"\n",
       "                 onclick=\"copyToClipboard('random_state',\n",
       "                          this.parentElement.nextElementSibling)\"\n",
       "            ></i></td>\n",
       "            <td class=\"param\">random_state&nbsp;</td>\n",
       "            <td class=\"value\">0</td>\n",
       "        </tr>\n",
       "    \n",
       "\n",
       "        <tr class=\"user-set\">\n",
       "            <td><i class=\"copy-paste-icon\"\n",
       "                 onclick=\"copyToClipboard('reg_alpha',\n",
       "                          this.parentElement.nextElementSibling)\"\n",
       "            ></i></td>\n",
       "            <td class=\"param\">reg_alpha&nbsp;</td>\n",
       "            <td class=\"value\">np.float64(0....3249019938802)</td>\n",
       "        </tr>\n",
       "    \n",
       "\n",
       "        <tr class=\"user-set\">\n",
       "            <td><i class=\"copy-paste-icon\"\n",
       "                 onclick=\"copyToClipboard('reg_lambda',\n",
       "                          this.parentElement.nextElementSibling)\"\n",
       "            ></i></td>\n",
       "            <td class=\"param\">reg_lambda&nbsp;</td>\n",
       "            <td class=\"value\">np.float64(0....4658727742285)</td>\n",
       "        </tr>\n",
       "    \n",
       "\n",
       "        <tr class=\"user-set\">\n",
       "            <td><i class=\"copy-paste-icon\"\n",
       "                 onclick=\"copyToClipboard('sampling_method',\n",
       "                          this.parentElement.nextElementSibling)\"\n",
       "            ></i></td>\n",
       "            <td class=\"param\">sampling_method&nbsp;</td>\n",
       "            <td class=\"value\">None</td>\n",
       "        </tr>\n",
       "    \n",
       "\n",
       "        <tr class=\"user-set\">\n",
       "            <td><i class=\"copy-paste-icon\"\n",
       "                 onclick=\"copyToClipboard('scale_pos_weight',\n",
       "                          this.parentElement.nextElementSibling)\"\n",
       "            ></i></td>\n",
       "            <td class=\"param\">scale_pos_weight&nbsp;</td>\n",
       "            <td class=\"value\">None</td>\n",
       "        </tr>\n",
       "    \n",
       "\n",
       "        <tr class=\"user-set\">\n",
       "            <td><i class=\"copy-paste-icon\"\n",
       "                 onclick=\"copyToClipboard('subsample',\n",
       "                          this.parentElement.nextElementSibling)\"\n",
       "            ></i></td>\n",
       "            <td class=\"param\">subsample&nbsp;</td>\n",
       "            <td class=\"value\">np.float64(0.9358051867278653)</td>\n",
       "        </tr>\n",
       "    \n",
       "\n",
       "        <tr class=\"user-set\">\n",
       "            <td><i class=\"copy-paste-icon\"\n",
       "                 onclick=\"copyToClipboard('tree_method',\n",
       "                          this.parentElement.nextElementSibling)\"\n",
       "            ></i></td>\n",
       "            <td class=\"param\">tree_method&nbsp;</td>\n",
       "            <td class=\"value\">None</td>\n",
       "        </tr>\n",
       "    \n",
       "\n",
       "        <tr class=\"user-set\">\n",
       "            <td><i class=\"copy-paste-icon\"\n",
       "                 onclick=\"copyToClipboard('validate_parameters',\n",
       "                          this.parentElement.nextElementSibling)\"\n",
       "            ></i></td>\n",
       "            <td class=\"param\">validate_parameters&nbsp;</td>\n",
       "            <td class=\"value\">None</td>\n",
       "        </tr>\n",
       "    \n",
       "\n",
       "        <tr class=\"user-set\">\n",
       "            <td><i class=\"copy-paste-icon\"\n",
       "                 onclick=\"copyToClipboard('verbosity',\n",
       "                          this.parentElement.nextElementSibling)\"\n",
       "            ></i></td>\n",
       "            <td class=\"param\">verbosity&nbsp;</td>\n",
       "            <td class=\"value\">None</td>\n",
       "        </tr>\n",
       "    \n",
       "\n",
       "        <tr class=\"user-set\">\n",
       "            <td><i class=\"copy-paste-icon\"\n",
       "                 onclick=\"copyToClipboard('use_label_encoder',\n",
       "                          this.parentElement.nextElementSibling)\"\n",
       "            ></i></td>\n",
       "            <td class=\"param\">use_label_encoder&nbsp;</td>\n",
       "            <td class=\"value\">False</td>\n",
       "        </tr>\n",
       "    \n",
       "                  </tbody>\n",
       "                </table>\n",
       "            </details>\n",
       "        </div>\n",
       "    </div></div></div></div></div></div></div><script>function copyToClipboard(text, element) {\n",
       "    // Get the parameter prefix from the closest toggleable content\n",
       "    const toggleableContent = element.closest('.sk-toggleable__content');\n",
       "    const paramPrefix = toggleableContent ? toggleableContent.dataset.paramPrefix : '';\n",
       "    const fullParamName = paramPrefix ? `${paramPrefix}${text}` : text;\n",
       "\n",
       "    const originalStyle = element.style;\n",
       "    const computedStyle = window.getComputedStyle(element);\n",
       "    const originalWidth = computedStyle.width;\n",
       "    const originalHTML = element.innerHTML.replace('Copied!', '');\n",
       "\n",
       "    navigator.clipboard.writeText(fullParamName)\n",
       "        .then(() => {\n",
       "            element.style.width = originalWidth;\n",
       "            element.style.color = 'green';\n",
       "            element.innerHTML = \"Copied!\";\n",
       "\n",
       "            setTimeout(() => {\n",
       "                element.innerHTML = originalHTML;\n",
       "                element.style = originalStyle;\n",
       "            }, 2000);\n",
       "        })\n",
       "        .catch(err => {\n",
       "            console.error('Failed to copy:', err);\n",
       "            element.style.color = 'red';\n",
       "            element.innerHTML = \"Failed!\";\n",
       "            setTimeout(() => {\n",
       "                element.innerHTML = originalHTML;\n",
       "                element.style = originalStyle;\n",
       "            }, 2000);\n",
       "        });\n",
       "    return false;\n",
       "}\n",
       "\n",
       "document.querySelectorAll('.fa-regular.fa-copy').forEach(function(element) {\n",
       "    const toggleableContent = element.closest('.sk-toggleable__content');\n",
       "    const paramPrefix = toggleableContent ? toggleableContent.dataset.paramPrefix : '';\n",
       "    const paramName = element.parentElement.nextElementSibling.textContent.trim();\n",
       "    const fullParamName = paramPrefix ? `${paramPrefix}${paramName}` : paramName;\n",
       "\n",
       "    element.setAttribute('title', fullParamName);\n",
       "});\n",
       "</script></body>"
      ],
      "text/plain": [
       "Pipeline(steps=[('preprocessor',\n",
       "                 ColumnTransformer(transformers=[('num',\n",
       "                                                  Pipeline(steps=[('imputer',\n",
       "                                                                   SimpleImputer()),\n",
       "                                                                  ('scaler',\n",
       "                                                                   StandardScaler())]),\n",
       "                                                  ['distance_to_goal',\n",
       "                                                   'angle_to_goal',\n",
       "                                                   'possession_duration',\n",
       "                                                   'key_pass_length',\n",
       "                                                   'key_pass_angle',\n",
       "                                                   'rivals_in_shot_area',\n",
       "                                                   'distance_to_goal_squared',\n",
       "                                                   'angle_to_goal_squared',\n",
       "                                                   'distance_angle_interaction',\n",
       "                                                   'keeper_pl...\n",
       "                               grow_policy=None, importance_type=None,\n",
       "                               interaction_constraints=None,\n",
       "                               learning_rate=np.float64(0.01787824026911767),\n",
       "                               max_bin=None, max_cat_threshold=None,\n",
       "                               max_cat_to_onehot=None, max_delta_step=None,\n",
       "                               max_depth=6, max_leaves=None, min_child_weight=4,\n",
       "                               missing=nan, monotone_constraints=None,\n",
       "                               multi_strategy=None, n_estimators=1456,\n",
       "                               n_jobs=None, num_parallel_tree=None, ...))])"
      ]
     },
     "execution_count": 12,
     "metadata": {},
     "output_type": "execute_result"
    }
   ],
   "source": [
    "final_pipeline = search.best_estimator_\n",
    "final_pipeline.fit(X_train, y_train)"
   ]
  },
  {
   "cell_type": "markdown",
   "id": "bc4b59d6",
   "metadata": {},
   "source": [
    "### 9. Evaluation on test set"
   ]
  },
  {
   "cell_type": "code",
   "execution_count": 13,
   "id": "fb21ee03",
   "metadata": {},
   "outputs": [
    {
     "name": "stdout",
     "output_type": "stream",
     "text": [
      "Final AUC: 0.8227\n"
     ]
    }
   ],
   "source": [
    "y_pred_prob = final_pipeline.predict_proba(X_test)[:,1]\n",
    "# Override penalty shots with constant xG\n",
    "PENALTY_ID = 88\n",
    "penalty_mask = (X_test['shot_type_id'] == PENALTY_ID)\n",
    "y_pred_prob[penalty_mask] = 0.75\n",
    "auc = roc_auc_score(y_test, y_pred_prob)\n",
    "print(f\"Final AUC: {auc:.4f}\")"
   ]
  },
  {
   "cell_type": "markdown",
   "id": "b80df73b",
   "metadata": {},
   "source": [
    "### 10. Feature importances and SHAP analysis"
   ]
  },
  {
   "cell_type": "code",
   "execution_count": 22,
   "id": "62fd7e31",
   "metadata": {},
   "outputs": [
    {
     "name": "stdout",
     "output_type": "stream",
     "text": [
      "Top 10 XGBoost feature importances:\n",
      "num__rivals_in_shot_area           78.185318\n",
      "num__distance_to_goal              55.385925\n",
      "num__distance_to_goal_squared      40.600906\n",
      "cat__shot_body_part_id_37.0        38.814301\n",
      "cat__shot_aerial_won_False         30.399969\n",
      "cat__key_pass_height_id_1.0        26.207796\n",
      "cat__shot_aerial_won_True          24.858734\n",
      "num__keeper_placement_score        20.698584\n",
      "cat__key_pass_height_id_3.0        19.902857\n",
      "num__distance_angle_interaction    19.047121\n",
      "dtype: float64\n"
     ]
    },
    {
     "data": {
      "application/vnd.plotly.v1+json": {
       "config": {
        "plotlyServerURL": "https://plot.ly"
       },
       "data": [
        {
         "hovertemplate": "|SHAP value| mitjà=%{x}<br>Variable=%{y}<extra></extra>",
         "legendgroup": "",
         "marker": {
          "color": "#636efa",
          "pattern": {
           "shape": ""
          }
         },
         "name": "",
         "orientation": "h",
         "showlegend": false,
         "textposition": "auto",
         "type": "bar",
         "x": {
          "bdata": "V5KZWsaU5j8ENr6dMi/SP85/C+lmWMk/ZvsCpcQUxD9EC30/Wny7P+mVV5pcY7E/gGqxUfNGsT8YBGlLDnquP8jDesJFQqs/LpnZ+lZBqD8pqbBnXoKmP+nARbAzE6Y/FfuC0XOzoT/HVDh/4OWgP9hfikKzoJo/6B0v4iXFlj/W51ad7fyQPxPpb90Tdok/DzbCDjR6hz+92iq3UiWGPw==",
          "dtype": "f8"
         },
         "xaxis": "x",
         "y": [
          "num__distance_to_goal",
          "num__rivals_in_shot_area",
          "num__distance_angle_interaction",
          "cat__shot_body_part_id_37.0",
          "num__possession_duration",
          "num__angle_to_goal",
          "cat__shot_technique_id_93.0",
          "num__keeper_placement_score",
          "num__distance_to_goal_squared",
          "cat__shot_aerial_won_False",
          "cat__key_pass_height_id_1.0",
          "num__key_pass_angle",
          "cat__play_pattern_id_2",
          "num__key_pass_length",
          "cat__key_pass_height_id_3.0",
          "cat__key_pass_angle_bucket_Forward",
          "cat__shot_technique_id_92.0",
          "cat__under_pressure_False",
          "cat__play_pattern_id_1",
          "num__angle_to_goal_squared"
         ],
         "yaxis": "y"
        }
       ],
       "layout": {
        "barmode": "relative",
        "height": 600,
        "legend": {
         "tracegroupgap": 0
        },
        "margin": {
         "b": 20,
         "l": 150,
         "r": 20,
         "t": 50
        },
        "template": {
         "data": {
          "bar": [
           {
            "error_x": {
             "color": "#2a3f5f"
            },
            "error_y": {
             "color": "#2a3f5f"
            },
            "marker": {
             "line": {
              "color": "#E5ECF6",
              "width": 0.5
             },
             "pattern": {
              "fillmode": "overlay",
              "size": 10,
              "solidity": 0.2
             }
            },
            "type": "bar"
           }
          ],
          "barpolar": [
           {
            "marker": {
             "line": {
              "color": "#E5ECF6",
              "width": 0.5
             },
             "pattern": {
              "fillmode": "overlay",
              "size": 10,
              "solidity": 0.2
             }
            },
            "type": "barpolar"
           }
          ],
          "carpet": [
           {
            "aaxis": {
             "endlinecolor": "#2a3f5f",
             "gridcolor": "white",
             "linecolor": "white",
             "minorgridcolor": "white",
             "startlinecolor": "#2a3f5f"
            },
            "baxis": {
             "endlinecolor": "#2a3f5f",
             "gridcolor": "white",
             "linecolor": "white",
             "minorgridcolor": "white",
             "startlinecolor": "#2a3f5f"
            },
            "type": "carpet"
           }
          ],
          "choropleth": [
           {
            "colorbar": {
             "outlinewidth": 0,
             "ticks": ""
            },
            "type": "choropleth"
           }
          ],
          "contour": [
           {
            "colorbar": {
             "outlinewidth": 0,
             "ticks": ""
            },
            "colorscale": [
             [
              0,
              "#0d0887"
             ],
             [
              0.1111111111111111,
              "#46039f"
             ],
             [
              0.2222222222222222,
              "#7201a8"
             ],
             [
              0.3333333333333333,
              "#9c179e"
             ],
             [
              0.4444444444444444,
              "#bd3786"
             ],
             [
              0.5555555555555556,
              "#d8576b"
             ],
             [
              0.6666666666666666,
              "#ed7953"
             ],
             [
              0.7777777777777778,
              "#fb9f3a"
             ],
             [
              0.8888888888888888,
              "#fdca26"
             ],
             [
              1,
              "#f0f921"
             ]
            ],
            "type": "contour"
           }
          ],
          "contourcarpet": [
           {
            "colorbar": {
             "outlinewidth": 0,
             "ticks": ""
            },
            "type": "contourcarpet"
           }
          ],
          "heatmap": [
           {
            "colorbar": {
             "outlinewidth": 0,
             "ticks": ""
            },
            "colorscale": [
             [
              0,
              "#0d0887"
             ],
             [
              0.1111111111111111,
              "#46039f"
             ],
             [
              0.2222222222222222,
              "#7201a8"
             ],
             [
              0.3333333333333333,
              "#9c179e"
             ],
             [
              0.4444444444444444,
              "#bd3786"
             ],
             [
              0.5555555555555556,
              "#d8576b"
             ],
             [
              0.6666666666666666,
              "#ed7953"
             ],
             [
              0.7777777777777778,
              "#fb9f3a"
             ],
             [
              0.8888888888888888,
              "#fdca26"
             ],
             [
              1,
              "#f0f921"
             ]
            ],
            "type": "heatmap"
           }
          ],
          "histogram": [
           {
            "marker": {
             "pattern": {
              "fillmode": "overlay",
              "size": 10,
              "solidity": 0.2
             }
            },
            "type": "histogram"
           }
          ],
          "histogram2d": [
           {
            "colorbar": {
             "outlinewidth": 0,
             "ticks": ""
            },
            "colorscale": [
             [
              0,
              "#0d0887"
             ],
             [
              0.1111111111111111,
              "#46039f"
             ],
             [
              0.2222222222222222,
              "#7201a8"
             ],
             [
              0.3333333333333333,
              "#9c179e"
             ],
             [
              0.4444444444444444,
              "#bd3786"
             ],
             [
              0.5555555555555556,
              "#d8576b"
             ],
             [
              0.6666666666666666,
              "#ed7953"
             ],
             [
              0.7777777777777778,
              "#fb9f3a"
             ],
             [
              0.8888888888888888,
              "#fdca26"
             ],
             [
              1,
              "#f0f921"
             ]
            ],
            "type": "histogram2d"
           }
          ],
          "histogram2dcontour": [
           {
            "colorbar": {
             "outlinewidth": 0,
             "ticks": ""
            },
            "colorscale": [
             [
              0,
              "#0d0887"
             ],
             [
              0.1111111111111111,
              "#46039f"
             ],
             [
              0.2222222222222222,
              "#7201a8"
             ],
             [
              0.3333333333333333,
              "#9c179e"
             ],
             [
              0.4444444444444444,
              "#bd3786"
             ],
             [
              0.5555555555555556,
              "#d8576b"
             ],
             [
              0.6666666666666666,
              "#ed7953"
             ],
             [
              0.7777777777777778,
              "#fb9f3a"
             ],
             [
              0.8888888888888888,
              "#fdca26"
             ],
             [
              1,
              "#f0f921"
             ]
            ],
            "type": "histogram2dcontour"
           }
          ],
          "mesh3d": [
           {
            "colorbar": {
             "outlinewidth": 0,
             "ticks": ""
            },
            "type": "mesh3d"
           }
          ],
          "parcoords": [
           {
            "line": {
             "colorbar": {
              "outlinewidth": 0,
              "ticks": ""
             }
            },
            "type": "parcoords"
           }
          ],
          "pie": [
           {
            "automargin": true,
            "type": "pie"
           }
          ],
          "scatter": [
           {
            "fillpattern": {
             "fillmode": "overlay",
             "size": 10,
             "solidity": 0.2
            },
            "type": "scatter"
           }
          ],
          "scatter3d": [
           {
            "line": {
             "colorbar": {
              "outlinewidth": 0,
              "ticks": ""
             }
            },
            "marker": {
             "colorbar": {
              "outlinewidth": 0,
              "ticks": ""
             }
            },
            "type": "scatter3d"
           }
          ],
          "scattercarpet": [
           {
            "marker": {
             "colorbar": {
              "outlinewidth": 0,
              "ticks": ""
             }
            },
            "type": "scattercarpet"
           }
          ],
          "scattergeo": [
           {
            "marker": {
             "colorbar": {
              "outlinewidth": 0,
              "ticks": ""
             }
            },
            "type": "scattergeo"
           }
          ],
          "scattergl": [
           {
            "marker": {
             "colorbar": {
              "outlinewidth": 0,
              "ticks": ""
             }
            },
            "type": "scattergl"
           }
          ],
          "scattermap": [
           {
            "marker": {
             "colorbar": {
              "outlinewidth": 0,
              "ticks": ""
             }
            },
            "type": "scattermap"
           }
          ],
          "scattermapbox": [
           {
            "marker": {
             "colorbar": {
              "outlinewidth": 0,
              "ticks": ""
             }
            },
            "type": "scattermapbox"
           }
          ],
          "scatterpolar": [
           {
            "marker": {
             "colorbar": {
              "outlinewidth": 0,
              "ticks": ""
             }
            },
            "type": "scatterpolar"
           }
          ],
          "scatterpolargl": [
           {
            "marker": {
             "colorbar": {
              "outlinewidth": 0,
              "ticks": ""
             }
            },
            "type": "scatterpolargl"
           }
          ],
          "scatterternary": [
           {
            "marker": {
             "colorbar": {
              "outlinewidth": 0,
              "ticks": ""
             }
            },
            "type": "scatterternary"
           }
          ],
          "surface": [
           {
            "colorbar": {
             "outlinewidth": 0,
             "ticks": ""
            },
            "colorscale": [
             [
              0,
              "#0d0887"
             ],
             [
              0.1111111111111111,
              "#46039f"
             ],
             [
              0.2222222222222222,
              "#7201a8"
             ],
             [
              0.3333333333333333,
              "#9c179e"
             ],
             [
              0.4444444444444444,
              "#bd3786"
             ],
             [
              0.5555555555555556,
              "#d8576b"
             ],
             [
              0.6666666666666666,
              "#ed7953"
             ],
             [
              0.7777777777777778,
              "#fb9f3a"
             ],
             [
              0.8888888888888888,
              "#fdca26"
             ],
             [
              1,
              "#f0f921"
             ]
            ],
            "type": "surface"
           }
          ],
          "table": [
           {
            "cells": {
             "fill": {
              "color": "#EBF0F8"
             },
             "line": {
              "color": "white"
             }
            },
            "header": {
             "fill": {
              "color": "#C8D4E3"
             },
             "line": {
              "color": "white"
             }
            },
            "type": "table"
           }
          ]
         },
         "layout": {
          "annotationdefaults": {
           "arrowcolor": "#2a3f5f",
           "arrowhead": 0,
           "arrowwidth": 1
          },
          "autotypenumbers": "strict",
          "coloraxis": {
           "colorbar": {
            "outlinewidth": 0,
            "ticks": ""
           }
          },
          "colorscale": {
           "diverging": [
            [
             0,
             "#8e0152"
            ],
            [
             0.1,
             "#c51b7d"
            ],
            [
             0.2,
             "#de77ae"
            ],
            [
             0.3,
             "#f1b6da"
            ],
            [
             0.4,
             "#fde0ef"
            ],
            [
             0.5,
             "#f7f7f7"
            ],
            [
             0.6,
             "#e6f5d0"
            ],
            [
             0.7,
             "#b8e186"
            ],
            [
             0.8,
             "#7fbc41"
            ],
            [
             0.9,
             "#4d9221"
            ],
            [
             1,
             "#276419"
            ]
           ],
           "sequential": [
            [
             0,
             "#0d0887"
            ],
            [
             0.1111111111111111,
             "#46039f"
            ],
            [
             0.2222222222222222,
             "#7201a8"
            ],
            [
             0.3333333333333333,
             "#9c179e"
            ],
            [
             0.4444444444444444,
             "#bd3786"
            ],
            [
             0.5555555555555556,
             "#d8576b"
            ],
            [
             0.6666666666666666,
             "#ed7953"
            ],
            [
             0.7777777777777778,
             "#fb9f3a"
            ],
            [
             0.8888888888888888,
             "#fdca26"
            ],
            [
             1,
             "#f0f921"
            ]
           ],
           "sequentialminus": [
            [
             0,
             "#0d0887"
            ],
            [
             0.1111111111111111,
             "#46039f"
            ],
            [
             0.2222222222222222,
             "#7201a8"
            ],
            [
             0.3333333333333333,
             "#9c179e"
            ],
            [
             0.4444444444444444,
             "#bd3786"
            ],
            [
             0.5555555555555556,
             "#d8576b"
            ],
            [
             0.6666666666666666,
             "#ed7953"
            ],
            [
             0.7777777777777778,
             "#fb9f3a"
            ],
            [
             0.8888888888888888,
             "#fdca26"
            ],
            [
             1,
             "#f0f921"
            ]
           ]
          },
          "colorway": [
           "#636efa",
           "#EF553B",
           "#00cc96",
           "#ab63fa",
           "#FFA15A",
           "#19d3f3",
           "#FF6692",
           "#B6E880",
           "#FF97FF",
           "#FECB52"
          ],
          "font": {
           "color": "#2a3f5f"
          },
          "geo": {
           "bgcolor": "white",
           "lakecolor": "white",
           "landcolor": "#E5ECF6",
           "showlakes": true,
           "showland": true,
           "subunitcolor": "white"
          },
          "hoverlabel": {
           "align": "left"
          },
          "hovermode": "closest",
          "mapbox": {
           "style": "light"
          },
          "paper_bgcolor": "white",
          "plot_bgcolor": "#E5ECF6",
          "polar": {
           "angularaxis": {
            "gridcolor": "white",
            "linecolor": "white",
            "ticks": ""
           },
           "bgcolor": "#E5ECF6",
           "radialaxis": {
            "gridcolor": "white",
            "linecolor": "white",
            "ticks": ""
           }
          },
          "scene": {
           "xaxis": {
            "backgroundcolor": "#E5ECF6",
            "gridcolor": "white",
            "gridwidth": 2,
            "linecolor": "white",
            "showbackground": true,
            "ticks": "",
            "zerolinecolor": "white"
           },
           "yaxis": {
            "backgroundcolor": "#E5ECF6",
            "gridcolor": "white",
            "gridwidth": 2,
            "linecolor": "white",
            "showbackground": true,
            "ticks": "",
            "zerolinecolor": "white"
           },
           "zaxis": {
            "backgroundcolor": "#E5ECF6",
            "gridcolor": "white",
            "gridwidth": 2,
            "linecolor": "white",
            "showbackground": true,
            "ticks": "",
            "zerolinecolor": "white"
           }
          },
          "shapedefaults": {
           "line": {
            "color": "#2a3f5f"
           }
          },
          "ternary": {
           "aaxis": {
            "gridcolor": "white",
            "linecolor": "white",
            "ticks": ""
           },
           "baxis": {
            "gridcolor": "white",
            "linecolor": "white",
            "ticks": ""
           },
           "bgcolor": "#E5ECF6",
           "caxis": {
            "gridcolor": "white",
            "linecolor": "white",
            "ticks": ""
           }
          },
          "title": {
           "x": 0.05
          },
          "xaxis": {
           "automargin": true,
           "gridcolor": "white",
           "linecolor": "white",
           "ticks": "",
           "title": {
            "standoff": 15
           },
           "zerolinecolor": "white",
           "zerolinewidth": 2
          },
          "yaxis": {
           "automargin": true,
           "gridcolor": "white",
           "linecolor": "white",
           "ticks": "",
           "title": {
            "standoff": 15
           },
           "zerolinecolor": "white",
           "zerolinewidth": 2
          }
         }
        },
        "title": {
         "text": "Top 20 SHAP Feature Importances"
        },
        "xaxis": {
         "anchor": "y",
         "domain": [
          0,
          1
         ],
         "title": {
          "text": "|SHAP value| mitjà"
         }
        },
        "yaxis": {
         "anchor": "x",
         "categoryorder": "total ascending",
         "domain": [
          0,
          1
         ],
         "title": {
          "text": "Variable"
         }
        }
       }
      }
     },
     "metadata": {},
     "output_type": "display_data"
    },
    {
     "data": {
      "application/vnd.plotly.v1+json": {
       "config": {
        "plotlyServerURL": "https://plot.ly"
       },
       "data": [
        {
         "alignmentgroup": "True",
         "box": {
          "visible": true
         },
         "hovertemplate": "SHAP value=%{x}<br>Variable=%{y}<extra></extra>",
         "legendgroup": "",
         "marker": {
          "color": "#636efa"
         },
         "name": "",
         "offsetgroup": "",
         "orientation": "h",
         "points": "all",
         "scalegroup": "True",
         "showlegend": false,
         "type": "violin",
         "x": {
          "bdata": "PaoJkUIL8D9cP89PDgsBQMOVUOIYRdq/zUz+E9d81L9cj1z8ZzLJv3G9uPKwtdI/9vhE/J8i+T9cD/TY2vPdv1JIiwLxOfA/pPDmilQR3D+uR2f7ES3DP3E9HLhFhrI/zczsmdpvz7+amUsUNke8PwAAyiU0w9Y/ZuYee4Bn1T/XI59A3L7jvwpXka19X/G/pCADSZZi9b+4XlFdkFX4v9ejqU9649M/9qjy3iOY0z+PomowqQPoP3sUrQiyS+E/j8LcRJKywb97VEQkfAL9P1yfkZYz5P0/7NHsbzs807+4Lnr4oJrrv7geHCDhodS/7HFi30My6z+4ngfyBqfQv6Qwn1Fjy+U/CpdnDnU06L8fhefBboS3P3E9DNqoY9o/mpkRvb4suD/2qGhIDg34v4VrOu6HgO+/H4Uh1Jyjxj+kcHDG+8rMPz0KYmIB6PO/ChfK+7ce4D8fpZtClj72vync2dGiK/C/pFCm7sNe8D9I4aAtGo65P0jhZlkex+A/9ii2psflsj+k8K5qJk3hv7ge8S0tesm/j/LchqJu9D8AAA8/KELmvxTu6JE7v/a/mpmSxM8zyb8K1/oeZtTbP/boO8uHzug/SGGrpeqo6b9IYbhJYDzZv2aGtLzgZPW/MzOWL2UUx7/2qDjLpPryvyk8N7SiBvc/CncWmlJb0b/s0ZEJ8D7uv0jhCIfk+7e/CjcJ/PtJ97+uN7a5xKnyP2amRzKlbu2/j0Klax8y8L97FLo0lln2v4/CY1yNP/Q/PUonU7cZ2j8K5/fqk13iP5q5w9IXTtS/hesrO8wawj8UjkOrU07ivxSuQhDtte2/jwIDFDRo5z8AANIPyYy3P5oh2loFkPK/wzWfbQw+8D/Xo6MyOs7KPwpX1ECfVeG/1+P2DChU4L8zw57tHCb+Pz0K2cXrXs0/7FECNZEi078UjqQqKQfzv6Rw+1J/krA/AMBBqhAQ4D+ul9+BK5jxPz2KvK29iN0/rmeEc2Yg/z/D9bo7lkbrP3sUQyLho82/uB4Sgecq8b+kcAMQK9joPz0KlbUz4r4/cb0bITMD3L9IoSQR4wv2P0ihZHCf5ek/cT3ComL7yr+amSz7Lu3Tv3E9oncQ08a/9ijkmzg2w7+ux2UfY27OPwAQR2OmFtC/pPAZ+w/TyD+4Hs3SLjvXv0jh9pPtjdY/4Xrgznp5yb/higPwPUPUv+F6HduU89M/7NEkSsDL1L9mZqJmRMXev+F6DjqWMM6/pHBVrlcOvD89CodYeW3EPylcXL8zD8M/1yOOI9dT1b9SeGQLuJXYv8P1iyDr59C/7FEl0YJ41D+kkAYYwIbDP2ampMwwYcU/uB7YWHAQzz/heprsG9vAP0jh6s5xIr4/XI8h1/pn179cj2SMKCTfv81MUhJdkeA/rkeA0DG2uj+4bsLL2W/Sv+xRZqc0D84/AACIzClPzL9cjywdF17MP1yPo6aMlNG/hevLeboOxD8pXK1AwJPCP1K466zOqNM/KVzr6Ddz1L9xPWLBcHzYvwrXrQ5Mg86/ZmYpvUNHz79IIdvUY0bOv5qZrT/o1s0/AABrj1h9xz9xPVU8QR3ev0jhlDewVcY/zUxon2KF0j9mZjiBvBHCvwrXdzrU470/rker0AU2wT9S2AfbtS3NP3HNX0sVU9Q/j9LNV+N1078fpX7bBgfHPz0KF39nS8E/KVwmCwEJwz9cj5oDd5zTv1K4wuf7Ib8/CtfwCM791D97FAL1vZDEv3E96iBW28e/7FGQKxGb0L9SuL9WIbHKv+F6ne3Zx9u/rkcUwLGZwD9IkRM2vRzwPx+FjfJAtcu/PcpnPz3s1z+F66HJiQrUv83MQxd3188/16PJ9uDP0r89Kg4K8xLPP65Hq5VlQty/cT35DnHmzL9I4TDGJJ/SP65HR0zsztC/4fqV3TK7zL+F69leKDLSv1K4RgF938o/zUxf9+CB0r8K17tIR7TPv1yPWFVpl9K/FK75oDl80z9I4SzE04PAP4VrSiqEXtK/XI/P/UzPyD+PUkzVd4XUP0jhEEa45NU/9nhiwqxc5b/2KN470L3RP65HtwwoW84/7NExgiOC1r9SuC7cu8rRv1K4OdfXT9Q/cT0OhbhY0j+Pwr+GfZnHP1I41KaCgds/Clf94/CY2T9cj4JSE9HZv3E9GirA378/het3vsA7ur+kcPX3nOnOv3E9Z5fwkNU/7FE8z8zfs79cj9EKaVLCP8M1FyadT9M/FK5eCaYsxr8pXPSMMXDNPwpXIFfr8ru/4foI6bY2zT89yuVWEmTPPzPzdEHGC9A/Ctdf9CsMv78UrjJoAEbZv6RwnuxJKLk/j8LuWKLGuT8pXO0E7sKZPx8FIcpTx7e/H4VVckA2wD/h+gULRJfXP0ghf2iX/uW/M7Npmn+C0T9xPYzJDCTcP5qZq5c82eS/FM6CNN4I2L8pXND4UxvYP1K4HOGsLss/7NGEdCDy4b8UrtMpBFPJv3sUAs2u5KI/SCGzRSKItD/hegzGOvKwvwoX5Kc0YMi/rodeSuCguT+k8JG1xfm3v4/C1mV2AsY/1yOoysyrvD+4HjZ1Wsyiv+H6MvQgt7S/zcxeA5Eblb/hehWYhiWqv1yPVrvhILk/hevXvz66yL/hemBUsEqvv49Cub4DH9I/jwJI4jiDw7979JGIuqDDP5qZc5Hbh9Q/uD4cg5R51b89SrhGfUvDv/Yo+BwWFL6/j8IrRQZTs79mZtBcnXixP7ieQZYZUbS/9sgt9B7J3r8zc3vS+ZHKvyncw/NCr7C/SAEtGPDt1L+uR3E7bwnVPxSudnZByNe/e5TNWf4Mzj+F6xH6g/Gev4UrwQAdSsq/MzMcyz5pyT+4HsXr12iqP7jeIdmDjdK/XM8zEOKxuD+uR5m+pHHWP7ge7Wu3z9k/e5QiSSFl3j/NDN98Myy5P1L4YsDOF8a/9igqN81CsT8Ktxh0zd3Sv64H4wKRp7I/j0Iisw8ssL+uR8FUgD+7v8P1DBOvm6K/4XrF7vJjvb9IYbYsMIjDP4/CzdSjE3g/PQpf5h9Hzj89CimazOaNv6RAebCM0ee/H4XErYpfoL+a2THV/W+wv1yPzATriJO/pHDFU+M8gb8AAB+xiEa9P1wP/FOHkdM/XI/yMxEBmj/sUW/bGlOtP5qZWYlavXw/AMAAU2081T/NTIcWhSLDP83s/TY739a/XI/cwvNywz+F60GLIxzjv0jhVt22LbA/mpmxzdy5tz9xPWyR+keyP7genXqr0rM/H4XhXUkSuD+F60ss796wP+G6KUwRCeK/AACsj1FV37/D9caEERTAP9ejOo1wR+a/exQ6i3s0tD+PwoXCSifBPwAAos2x8MA/j8JJd0VXvz+Pwj/EKYazP4/CrRoWB68/KVw9l6wotT8fhfvi5VC2P9ej9kguy70/AABEF0tNvT+uR8f0Jhnfv65Hadd7xME/7FFUqnjXuj/hegq/TlDavwrXt7HmoLU/j8L5ZGWktz8K1+08lEmyP0jhrOccrbQ/4TouQl6E4L+4Hhiuyhbjv+F6NHyhvLE/PQrdjYpAsj89Cl8kTNG/P49CXwtNiNe/MzP/mbyYuj/2KArky7mxP4/CYcDG4LQ/UvhuEAYy7L/sUXiCmOy6P5qZ7QZgCK0/SOHb0NIrvD+F6zVcyH+tPwrX6+kOb7A/CtdfSeqxrT8zM5dDNEK6P5oZS9ljpN+/exQ2a3GevT9mZrapb+S0P8P1eBpFB7o/pHCBAA3L179xPRYTLaiyP0jhKg529LE/mhnGJR2YtD+kcM8GOEnEP0jhKmNCo7g/AACE6ydBtT9xPWb42Zu2P9ejqAF++bI/mpkJhkgXtT+uRyXhmfSvPz0Kj4g2mrY/9ii0vGK/sz9mZpa35HSzP2Zm6ERmULQ/XI8mXbyZrz/NTIo5Embdv3sUWAUZ2LY/XI+O3qx3tT97FCB7TSqyP9ejsrgL3Lk/hetPzZ8mwT9mZpoj8UC+P2ZmhoxQgbY/XI82pqvvvD+4Hq2I/xG0PwAAtOParLE/cT2EBUS6vT8AABBQUeW4P4/C1Xbwp7A/mpljC2AwsT+F64QrkF7kv0jhCm5d+LM/AADYeplUsj9IoVWZ07nRvwAATGZ5vb8/mhmyPruUtD9SuOoSyjixPxSuu1+0z7w/CtetygjhxD9mZrjC/FyzP+H6gNr5Fb0/rkdR3fzctj8ULvh3V4i5Pz0K44SuBLY/FK4JGBUhsT/D9fyWAtPFPwrXIzJ5EMA/cT0wRa27tT/NzEqnRUytv6Rw9rc5IbA/XI/2eOd2uj/sURAzl6CBP1wvRORUdeg/exRGTFUfyb/sUZcfu9Wyv4XrfcDTv5U/rkd3GdAtvT+kcEd2DEW3PxSuK1/jpts/rkeAJPmpyr8AAID6fhiNv1K4VqaaYJE/XI9dyoX4vL8z8/EvUuDSP5qZ+RT+Qpe/pHArcuVSz7/heuEw3xfJv/Yo022cRbm/exTZBsDJpL9Ioci4QNHKP7gePxiVw7U/cb3pK0CnxD8K1/MuLS57v1yPcre6nZ4/zcwCxpt4pD9I4XKtQKiNP4WrVMaFnsi/AAAoiY3NsL+amY9Dzwu4vx8FH/xPxLy/16P/usiQqr8KV9Xp29DGv1K4WXiwDLG/PQp1yZLs3j9mJsbbp6nIv2ZmrCxZDsO/XI/CWx3qaj+k8EjJzgmyv1K4EkeyfrK/mplpsuI3lr/D9cv9SSzUP2bmjhBWdcY/9ihLqs9nwb9xPXoKBa+tv65HdR3QMZA/XI+4Jsbzlz89igCs1VzUP2ZmFp+0jLK/pHDaAonLur/Xo06Ghw2qv1yPDn1meai/7FES5zYrur/heg4SnGarP8P16LXZQGa/7FFI9ENrdr9cj5LkKp6TP8P1IFjWjZw/16MIeXWfr7/Xo7zAwdmgP6RwTUrhPHa/ZmaA7ZXeuL8fhZKfc9fCv/YofLN7eWS/w3XurlYesr+4HkVTgPdVvylcgNIlp8a/j4KpfMALwb+kcGq4JRqzvwDAXzlswcO/rkdIRN5C1T/2qCHXFwi5vwAANoAvw62/Ziatc9zAw7/D9ZjCZD+PP4/C7plFlrU/XE/z/OlMxb9IYS/42/7KP7gerWvGWKY/hes1qGFsrL+uR3JoohC7v5oZcrLD8dI/KdyhbxOjtr+uR9WwMJKyv3F9oMBpHtI/SOFUAsZDqr/NzFpB5l+sP1K41nLVKbC/H4XH+LWRub9xPbBtmAenP+E6g9UXUsW/pHCNAH3LfL/NzFSV+Di7v1K4Lm9w6o4/16P4AVnHgD8AAHgv++WDvx+FO/89N40/PQqZQcY1qD/D9VAxrmeVv3sUW/FtIqu/FK5sfaOMvD/sUfj7NmSxvx+FQb37IaQ/7FEq3HPSqL+aWdYRwC3Rv3sUehTCOLw/cT3Op7Ikmj9mZuy6SCOxP3sULviZvju/PQrXE+twPz+F671gAEuXPylcY4L3s5M/1yPFXsVgsD8zM8mFthOqP0jh5YZCwao/zczWP7H1oz97FH63anGGv7ge0cirJJ2/1yNOkYz6tL/hegKs+yWrPx+FHwHQ16g/PQrr3jsksj+4HnzAapWgv2bmzCukG8q/ZmZeTxjTuD8AAEO35VS9PwpXtYrZPc+/PQonJwv+pj/D9crFOTu6P3sUvqiuwoA/XE/l7fU23b89Oh2pgFLjv2ZmzNt/ppo/MzMRKZ1qpD/D9czBclagv7geJcY+IGC/rkd32hwCt7+4Hi3Zv3WfPwAA6u6jZLE/hevUdqsDsD9cj5KwxBybP2ZmtiL5xow/16P4miwKgr8pXI8vDFeYPx+F0Q88cLA/H4VrVe0zQz/Xw7Rf0pvTv8P1zXCBvqQ/16OWTAL2pT+uR/jU1Xi3P1K4zsio53w/w/WuPczCrj8pXG+ATMl0P83MZrm3Cqs/Zmam8NRjWT9I4fuuiU+yPz0KpVPgtac/KVyzuZOBsb9cjzrZKFemP1yP6qKSypY/9iiMIfI/oj+amRmG+QZlvyncKjssD7a/j0I+dAaBsb+kcF6mReK3P6RwdHLIQrY/SOGO6Ijtnj8pXD5ltd+kPwAATRG3a7S/FC7LxVxhsL97lMhe/+26PxSuH9i7GXi/hWsAny9Etz97FEeT7GylP7gehZgh8mk/hetp0p/Pjb97FLamBEyqPzMzsUWUsKw/4Xph7ROdoz/Xo2BNVU6LP7geLx2IP6O/uB4R0sp7n79cj+j2aSuhPwAAJM2APqY/UrisFnZEqT89Cvs+kkiqP3F9KYg2cNG/mpn5Qvr8fj9xPQp7ep2nP6RwN1oHMq8/mhlpy6ejsL97FDlmS2+xP4Xr8TRnBKs/H4V0A/Zkr78fhe1OyJOsP7ge9o4iEK8/PQof6L3drT+F6y//YquwP/YofYgSnrI/CterWGEBqz8zM7NrahqVP4/CtaAc3p4/AADoDccoqD8pXFu1cAupP5qZIUsExKM/UrheOPifnj9xPWoWTi64v1K43nYUtXi/AABQb29FkT/2KIAiQMGxP+xR2ERW25w/XI+y+YQxpj9cj4qCjDerP83MBMGbia8/ZmZ6Oz//pz8AAFiuQEWrPz0KDJiF5cS/16MA1/NIqj89Cmd5kXumP6RwJb4UMqw/w/U0my4lsD/NzLwrRiGGP0jhAQb5PM+/MzN7a5LspT+kcF1eHRaBP+xRuLVIp6I/9iic6/ByqD+amYFafhOmP9ejNgVb6Kc/CtdzgLXugz/henwzk8ahP1K4kzRwici/uB6pt956qD/2KHQ1PGqkP/YofOYF1oc/pHAlHXh+qj8K1+lm92ynP5qZWaYqCao/4XqoRSV0lz/Xo6X1LCnLv2ZmDXs3lsa/AACoB6doqj8fhcwzJD7CvxSuY6gzlKc/rkeXjiGGtr/het8f0CfPv+F6tGnChZc/CteXuHxNsT/sUZQF0t2jP65HIT02860/KVwXTnd6jT8AALDA+eGkP2ZmngN1HqY/MzPft/YJyb97FOgmnNSxP3sUEhEnvZs/PQpXBG4nqT8K16NXy/uoP3E9PhvbHaQ/pHBRIa1IpD89Cseo417EvzMzW6ncraI/het5C2aLoj+kcGXXIzerP1yPfZSDh8m/rkeJ7otasL8fhcvHrqeLP3E9Ko6hk60/mpn98CQbrT/Xo0jclUOnP3E99Zq25sG/mpnph2GOqT8Urtbop0zLv1K43tzzPqU/exTGP7/NrD/hesSuYs6rP3E9atG07ak/mpmZnXb7pT8fhSMDB6itP1yPhiGGJ6s/w/W100cVx7+uRzWhPRy1v3E9Qvr5z6w/FK4ne+92oz/NzGx8fTt4P+xRqKFcPao/CtczegSypT9mZsJkXGulP7ge9f8kWqY/7FFIHL2brT8AAL537DHKv/YoxI5scMW/cT2KEo1Jkz9I4RPS2GXKv/YofD8FTao/MzMNu+Ykqj+ambkF0EitP83MvL1DGqs/pHDdFComoz/sETUdrEfYP8P1TFfcRdM/w/W5qdQoob8K15kyeZasvx+FlwtS1qe/SOEGuWQCmD97FO7iQ/BRP/YotluVY6M/FK6PV4pErr8AAOgDiXCNP7geJaZtQ5g/PQq/km1Scj9xPQ5UTSi8v1yPOYDzRsO/9igYVr5cpb/heoTVJyeNP6RwX2TXj6w/hetpJQcDkb9cjwIlautqP+F6xjYTmLa/H4UDPAGvgz9I4fqYVyZPvzMzjiG5IbS/hetx/Ri9fL/heqGMHWOuv+xRWKjwF5q/PQoHOATQg78KV2+aeTG6v8P1ge1nJrG/H4XjaRHauz9mZiLItrWpvwAAbq2fxbk/zcwMNY9mkr9I4brQlsxyv1wP03dot8K/cT0Ktgrxbz8UrsVPOo+6v+F6BBXFubI/16NknbN5rT8zM5brITSwv2ZmZjBjsq0/9ihs2BhSej/hejDMCD2mv/YoUIH/54i/uB5FyPi3br+PQtcLRPnSP1K4HnTLnWm/exTePvMwoD8zM2MwYOuBv1K45mgv7qw/H4WstwwQvz/Xo6g1ZK2Yv1K4vhJ5E5O/exQ4exc7wj8fherE7Ou0P5qZy9H4E7A/mpmNY2f3o7+kcLmZt/OtPz0Khxu2GLa/CtfL9BlMkj+amUmvfQerv3sUoMbDoqO/SOHAdHLMoL8UrqGa5rSWP7gedomIhbe/cT1GSfanoz+aman8t+Gwv83MTAUb1I+/H4VPoeP5pT+uh4jt9L7QPwrXk70cOHq/ZmauWZ26lD/hemwCs+uivzMzPT4TAKG/7FEKTldEqL89Cp+p+IKSv7geL8Q0krm/cT1q3KHxaj89Cod4MMqBvzMzq2WfSKc/PQrDNFr1r78fhYuFnu1yP+H6nLj6q7S/MzMLbzfLtj8K120t6y/Bv5qZRr9Ybse/j8JNDwdRrj+amUld8zRmv4/CDYGzlJK/XI/0JHv6s7/heqiba3SoP2ZmTgFIPY4/w/VIVeYaiD9xPZaLk6env83MbIzVCXY/pHA3GWuFrz8zM+FfEA20P65HzXlb+LS/AADn/jDZxL9mZkac8RGYP3E9ysmPHKw/pHCGZbDFxj+F67MHPfWgvzMzhVrgfKC/CtdjmuT3UL/sUfiL0aaFP3E9KoqsTr0/AAAUaA7Hm7/2KDwa5Ty0P6RwrWgBfqA/KVyPNe5Odz+kcF1oPGyAP83MkFNw9p6/AAD4YGyuiT8UrkOZKSWePx+FT1vMLZw/rkdhCwpWpr8fhdCogAKzv8P1on73hbe/zcx1XB1pvL9I4fJMKB+aPz0Kz+x9PJ0/H4VT8ALnsT+PwjWQ3KakP+F61MfpKXe/w/VA2F7gwD8UrkNQK4zAP+F6FAoHloi/AAC5JWIQsL8pXNN2RcCgv9ejkN3kELE/ZmZm/qHzfr9xPfpRVv2iP2ZmmFjwf62/XI/iANsKdT/Xo/qZ7eugP6RwrWYi/ns/ZmZ34+Ufvr/NzOWAKZewv83MzJ4cEWK/pHC5Z3q+lj+kcN7Txl67v1yPejiH8ac/e5TC7dIAwL+uR0pVpVO1vwAAaD12SbU/j8IxGYYTkD9SuJ5wKjOdP3E9wgLvsYY/j8KZJxxonb8K1yeDLUuTv1K4zoVH5bc/cT1edNhKob8fhUX6vGO8v3sU1kTJ/Yu/MzMTzX4vnD8AAJDhB3m0P7geNw8xDa+/AACk/1Opn7+PwmbdqYC5v7gerW7QRJO/9ihVoffptr+amR3XOkW1P7ge9TNjcJq/9ih1euVms7+4Hk2ajDCHv+xRyWZ6ZLu/16OIFLSDtz97FIufm2mxv/YomngAtqe/XI8bBzwSvL89Ck/o1y+4P83MmpFjOKE/H4Wzf7qXpD+F63PU2f2gv9ejKHD0QYg/9ijgP/MVqL97FG70AsK0v0jhAmHAq6s/XI86qMItij/Xo82kjf64v1K43hHoKbU/FK4no1ougT/D9dyANI6mv7geef5aGqa/w/Xa3BHawj/2KLjUJaOTPzMzT5wOl5G/zcwFV67pur8UrjczSeZxPwAA7l4bmqU/w/W0nxqEsT9SuC5wWMmhP0jhsnsu1cU/zcy0HyIwsD+4HgnEAOCYv3E9u4JHn7S/PQpX5U1tqz8pXD9tqryFP1K4QpdPC5G/XI/i6DOdnj+PwlUpxpSdP+xRsDu9B5I/uB6FjMX2lD9cjzI8FsKTP7geRfkkDKA/9iicL9Kioz/sUeh1hFKWPx+FZ8O74NC/pHB7MXGN079mZgbRU0ebPx+FP0RQesu/FK53/haKlT9xPRpo3VObP4/CvVKZPKA/ZmbyRF89mz/2KDwu196XPzMzy5R0z5U/MzOzrva4lT+PwtWgB+mWP8P1qD4ND6A/MzPTZ6Itnj9IoXi8MqfMv+F6THP2o6I/AAAgno83mj8AAFAxseenP4/CJXvWnqI/FK6nOvKRlz8zMztUSB6VPx+FW8Uqa5M/mlkbKqp+y7+uR08y5OfAvxSuR+xrb54/uB4hXBU6lT/sUbiBSAubPwAAyHUaaKQ/CteDOVh0lz/2KIz5pcSSP8P1CBqDAJc/cT0KxslwpT89CrchNdGZPwrXc/BQNpM/MzNjDLrHoz/XoyCCZgmTP4/CIT19WZE/rkehnSzCkz+4HnVvk5KXP8P1WJfbaac/rkcBAkPNlz9SuE4RfQqXP/Yo3OE+f5Y/zcyKPNjFzb/D9XgyeKmTP6RwBSO12ZQ/mpn53TOhlT/D9TgnfI2iP3sU/qnCMaU/16NgFponlz97FE4dnryWP/YodJlFeZY/7FG4ZeyFlD+kcD3OJYSVP9ejYOQbmKM/4XrEndcglj/Xo3DweZ+UPz0Kp/0TrZY/rkdBrzIXlD9mJiIW7WHLv1yP4hxQ1ZY/rkdB/BMtjz+PwlVcY2aTPwAAAA/956A/zczMSEQOnz/2KGxmc82kPwAAgLW/6JQ/j8JljxfqmD+PwqGQPeuTPx+FMzrHSJQ/H4WTpBVNpD+4HjVRR1eYP2ZmFl40d5M/Zma27U9joD9x/dpS0YPTvz0KRx3RcJU/KVy/iTPRlT/NLCoAds7Qv5qZiWQBMZo/exR+GL2XlT9mZvZU/xOUP+F6JLcESJc/Ctcb0i1voT8K1xusBPCgPx+Fs/uLdaA/XI+KvdShpz/sUSAHXcmlP3E9WpEC/5Y/Ctd/9UN+kz8AAPiT5mqkPz0KR/qhS5s/MzMzaZjjlT97FGrqII6yP4Xr/W7+srW/mpkZfAcVlz9cjyKSKVKbP4/C9U00Tpw/zcz2avzko78AABg4lPmtP65HAfqYUoi/cT2WoXWTsr8pXDXfJ2S1v6RwNcDlIKa/H4UD9pcdsL/D9agxQIiYPwrXY7ONZqQ/7FEg7Mp5pT8K1xOXts+kP0jhmnHdFou/FK5nJ+4ejr8K1zN+UtCYP3sUhstlopo/zcwc/GOxpD9cj5Lft7+kP83MZNTQ6bq/cT0kHt/owL/heoT0s5yTv83MbAXeSrO/UrhG2ObErT9xPdq3oiuTv2ZmZu4ccJo/9ij0tANYlj/helTOg6S6vwrX+39upKu/rkfhbF+Por/D9dhyYJ+YP5qZeYLFd6O/PQo5Dtm0o78K1yOzwLaiP4/ChVbuf5U/FK53WU2Xmz+PwjUL1li5v4/CI3f/ZqU/XI8C3fE2mD/2KOzl/9SvPx+F+y9hTJc/H4Vb8sbylj+PwtWZz1KdP3sUziVgHp6/FK7ecTQssr/NzJyQmPymPylcrxhHv5c/ZmYym1jFnD8UrkEI+3ivv4/C1dke3pg/w/XwfyFslz9SuL5TQZ+Nv1K4LuB5taU/9ii8yv9Lrz/2KMxBeZecP9ej0O9Br58/KVxvaqpHmD/Xo6gGvXCUPwAAUKE8Ups/XI96mgN5uL8K12Pi6biSvwAAuLWodZk/KVzPSl40jr+amUkLmc6kP65HLSmfure/MzPzGgU0k7/sUejwQEyUP0jh2u5VVJk/AAAYTa/Jr79cj9IMtRemP+F6ZkgRnrq/w/UUJSy6mT8UrpfG876jPwrXo104Lps/KVxPpViWmT9mZu7IF/K0P5qZ58++iaA/9igcrU74mj8pXPdn3KeoPync1NeFJ8K/uB6VTGGdmz8zMxeJJFqWP3E9Sn7W9rC/MzND0RdLoz8pXAdiFVeUP6RwDaVkLZg/mpktQh+noD9SuP648tKrP8P17CEpKrG/Ctcbl37cqj/NzBhuKfeyv2ZmypU51b6/cT0miE4VmT9xPaobMr2WP+F6tMqD2LM/w/XYk/4PpT+kcEkc5uOdP1K4Og/UxK4/H4WWXn+Owr/2KPxqdTS4v4XrAdma/Km/16PQ10Mzoj+kcHXj9lCQv+xRMH58K5W/uB5V86HKgL/sUQwj2MGyvz0K18yYM3w/cT1KixXHrz+F67FRxHaDv3E9WrtTtZ0/hesFBhs/qj/sUbh3kbRTvwrX49iNwJs/exT2jj1lmD9I4dLhBtWRP7gexUI1an4/16PUYV8GqL8pXG8iopd8vx+Fe97x07Y/cT2Oet2xvL+F69HubbF1v+xR6I1BdbQ/PQpncZEKmT8zM1sJrneRPwAAoGIr+5c/4Xq8pjI8kj/D9SohCV28P9ejbq6QdLW/j8LlUPv5hb8K14l2rGPJv7geJScANIs/H4XT+rj6l79I4XYEQ+uwvx+FNyeitbE/FK6rtx8RsL8zM3M8YzKlP6RwPb3YAoq/Ctd1ek0YsD8fhYs5YJZ+PxSun3CyO5U/zcwsScxNnD+uR6lp5JuUP4Vr3k5/HNC/XI9C0PWyd7+amWWRs7yhP9ejELzpLIK/exROaS/ijT/Xo8C0TfOiP9ejYMFnmIa/SOHqSOYWrL9I4epGJhGjP9ejoMGQJYW/Zmb2hkxcsz+amf1ZQ9uhP3sUbtY6UaY/pHC9WR1Ge789CgdEN2ibPx+Fo1bF876/UriO00i0mD/hemwP6pqXPzMz8zwMO3S/uB6NXI80kj/hepTZk+lvv/YoHMDCWZ4/H4VvcNAbu79cjyIj+hKFPx+FGakiZqU/ZmbGNFWWjD+4HqX+79yMP1yPsvr6lpY/zcwUV55Ckj/sUQgU0kWVP3E9urT1K7U/j8L9AQKPlr9cj14HJcyhP7geMfVvtbM/cT1s7AsItr/NzPSz9fauv5qZ6TwxSqE/hetZGg19iT/NzLSlkQmYv3sUThfqJ6W/zczUu3tLr79cj36lzdSzP4/CQaQRm6g/mpmZ0Wp5lT9SuFj3Ij7Lv5qZ8cqMIrU/AADggsu6hj/2KPzNbVqLP65HWQ63GqQ/FK7H8gW1mT9cj1IOm/6WP65H0W/C/Io/FK53Nm5cj78fhU9pGQ6mPylc34LpzKA/cT1qTN1JnD9SuG49Q1+4v1yPAlx2V3I/7FFYGJa3kT+amVnTuyaOP3E9pgigu7a/rkcRyd8NrT/hehSyn5WOPz0K28RRv7e/AADgJ0Eghr+4Hp3D58WGP0jhuro2oJ8/zcycaY3Bmj+F6/FohBKZP65HwWIEmJQ/MzMT8TqFlD+uR8F3aryWP+xRKLlMhYM/7FEgOR7PlD9xPYrE2EOQP+xRMOexjqM/PQo3OBxQij89Cv8Sb1m9v1yPwmJDy28/w/UY8mmIlT9cj3KUYzKjPylcnwB5zaA/ZmZWlmNBkT+uR0lfX4OQP3sUnqDPFZc/j8J7N+iex7+4HgVWhC5+Pz0Kd2IPz58/mpkpre11nz9mZhbQKLmaP+F6pD3Km66/FK4nm2IwmT89Cs+aYomUPylcL0t8c40/H4XbqAC5nD8fhasVLXeaP3E9rq4dgK2/exSKkbZckD+amSnXFE6RvwrXm15KfLS/cT0iBIHooT/Xo2DZFJeZP/YoBJn57LS/9ij0HqDWhT8UrhcnEDyQP6Rwbe1K85E/cT2YsxzWwr/D9XAZNHSrvzMzU8RHIpE/H4ULC9ytjD/NzOyuN0mYPxSuJ9nXb58/w/V4MaI1kD+kcJ2bdH2IP+xR+LNaSok/mplJEukokT9mZobCO3WMP1K4BlNFt6g/mpmpVyuakz9xPaocG82RP+xRWFopfps/mpn5N3h6hD+4ngqh4BLQv4Xreamhy5I/SOG6OxKQhr+kcBU4TViaP65HoaZ9Ins/w/UwEIrspD89ChcabRmMP0jhKis29qE/H4WLmfeCmD8fhTvLtmCSP1K45nEYbpc/hetBtiVSkz9xPaqThh+WP3E9CmORrT6/KVxfjMFDnT/Xo3Ae/YAwv1K4Di3T45c/4XpEb5K5nz/2KKRaDWWzvx+FL6yWQLe/XI/iDGLGhT/D9b7mEEy0v8P1KCf1mZU/Uri+CV66mj/sUciPknqjPxSuGcGyP8G/UrgGIPompD+amZkrIAabP6RwLWcPeZ0/SOF6oBh9WL8fhfvZSaidPwrXY3GZLZM/9ij8hF5fkj/D9TjnKGJ4P7ge0RmoJ7k/heupTvbWlL8fhUOwE5iSP1K4NgD2fo+/KVx3yxy5or+kcN1UiL2Wvx+FGxXxD5G/9ij0jxwolb8zM+MHTux1P4/CCbHcCrU/mpktCqB3nr97FK6cIghhvzMzgwBv24E/7FH4RMRohL8AAADE5fQhP4XrjcrGMsE/ZmZmonZzoL/NzJSEddeXv8P1IMmnEaK/7FFsJI6Qo78AAEDSRo5+v+xR8HSdd7q/XI9CeEloi789Co0YPxO4PwrXw9uSXXG/hevRhzZXVT8p3HPzIOTQP6RwbejR8pS/PQoIMn2hwz/sUZDO7sCrv65HR3CWaai/9iiOusd1ob+kcJXgTe6Cv1K43jtapG0/rkdB7eyDpb+4HgWRRLVlv7getWiAaYy/MzODrCvdjb8AAKARBKR0vz0Kt0nFonA/SOGSyVXAm7/NzLTtpwCTv+xRaB0rnJe/mpnpJXeKob8fhbfmKTafP6Rw3adcoIq/uB5hfitaqD9I4TJOOESUv8P1eLFo0ZW/KVwP6WkgXb8zM0dCaAuZPx+FX9FiZKY/pHBtyHaEiL9mZmYF55JWv5qZfUKhNbg/ZmYWQ7j/kD9xPZoIGgCGv8P1KBCsE26/AAC0tpLtpr/Xo/BxLPxcP83MQKa3ZqK/16OcCm3moD89Cv3FOirPP3E90oemFIC/MzPzKGouZj/sUSfuSLG2vx+FleSxi7m/XI9ygQgEk79cj65QH8GQvylcY/95g5+/pHD1V7vyhL9cjyrN+9WAPylcj7MDv4G/SOF6v91qYT9xPSpeb3N3v83MGLjiFrA/16N+WvthuD9SuNYFztKNv1yPomNtQHu/AADwxF+4n78AAIDrt5dKvxSu7wa55pG/16NwTIQNkz+amTFeoNioP1wPwuiyDcK/SOGKON6Vgr89Cpfs8cqDv6RwxXlYuJu/mpn5H9xgg789CvfG5Zh2v1yPyA+TkKW/rkdhVEkSZr+4Hs2USDqmv0jh4tWW8IG/4XoUZsq5E79mZl4tEzySvxSuRzFoM3u/7FG4rGflZj8Urv9nSTacv4/CtbZtJp8/ZmbiIBAIt78pXI8fcS+PP0jhqsiD7pY/16Pwiykfkz+uR3GY3DqVP9ejcPRgL4s/uB4VQuOlnL+PwoV1SZKov3sUls5f06+/mpl5I1fwp7/NzHB4wsG1v9ej8F9qhJE/uB6FH4uNkT8pXG9iUm6fP1yPgqZoBaU/w/XADCvup79I4bo0OyGZvxSuhzPO44s/j8K1ZWbFiT/2KMzIfX6YPzMzg75h4J8/H4V/8UYbs78pXG/JmQ2lvwAAsN+Nqpi/uB7FhQFsmr9I4fpnj3OMP/Yo1I8tGaa/zczsUhWjgD/Xo9A3OuOZP65H9bggvrO/zczEwaCorr/Xo1D5Ke+GPx+FW5q/jpE/H4U7lnO2kr+uRxl193Whv65HIQep25A/SOGapQnfkz9cj8K7E1KOP3sU/g3nyay/w/VojsFelj89Chdwaz6QP7geBZs/X5k/4XqULxFtkj/NzIzzAVWPP83MjOU/15Q/rkcxQcojor8zM+OQYByZv9ej0KZrgJg/4Xp0TdrLij+F61EByICWP1yPgl8bB6K/FK4HqAupij89Cjcs/UWRPxSut4Mw1pq/MzODaG0rmz/2KFw5W6yYP1yPgq+3YZE/9ijsIftbkD9mZiahnjmIP65HYV1GcpI/MzNTNGcMjD/2KFxFtXaYv8P1iMdEl5S/w/XIPjgLkD9cj4IXqjGgv4Xr8ROhj4g/uB5N1vqdob8pXF8EJWGRvwrXY6MWYo8/Urj+GzImkT+kcJ25GdmTPx+F07XjgKA/hesZgFaEob+uR8GLut6PP6RwPRflIpI/AABA6oQBlj+4HoXMHbCNP2ZmVjjEwI8/uB6FcVnomz9cj5JwFDSQP1yPQkTIdZY/j8IthKGCq7+4HnWL8M+WP3E9KojIpYw/w/U8N17Nob+4HpXCcy6RP1yPwpDl8JM/w/VIgcFkkj/helRT9RONP5qZaRI9RJQ/7FG4GkM3n79mZl5p8d+iPwrXowe/yIq/ZmbWcRpnkj/D9Ug/zeeQP/YofAtn0JU/rkcBooKKlT9xPUotOZ6QP4/C1dkftZI/MzMD5v9mj78Urkdwgn14vwAAYNwyuXm/MzOzV1d7a78K16OeD618P1K4rrw2VpC/16OgDrdRgL9I4Ur7GQ2vP4XriX9H6ZS/zczEA7o7rT+uR0f4cu+zP9ejOEK5caQ/AACwrJtrlL9cj/KR8ESUv1yP4so2mX2/FK7H0iHDk7/NzJLvPUGwP1K4Rnq9Bac/9iiUPwNcoj+4HiVtun16v0jhugEFe4q/zcx8z32JhL/sUThZoQ2Nv2ZmjqVe6pS/mpn9Vkccsz+PwhXyY0uNv4Xrobe3z4K/mpmBTQkXqD+kcB3gyF2dP8P1yPLHs3S/exTOCFJUjr8zMxMlrN+YPxSud4l4KZu/XI+CnC/qe789Cjf7omaPv8P1wN1KrKK/w/UQf7yMkr/sUYhJOz6Bvylc/xB7w5G/4Xp0r8A4ib+F63nYwPORv2Zmzq0fcJS/4XrU//cqpz9I4ZLqJFuYv+F6FJqkbH2/16PQz6Cygr/2KBzXq8WXv7getRdX2aS/rkeRiZI/gb/hesQjnLKlP6RwXV9LcKc/exRuIRHMhL/2KBxIcFR+v3E9OlJ/GIW/MzMTDwgruD/sUWRV5W24P/Yo/JlfyoO/hesBz7o6kL/D9ejk+HqOv+F69D4j/YG/mpkJ8SLpkL8fhStKzoOFv/YojKQvloi/7FGYA3lpgL/sUbi5rPaGv1yPOsxmFbA/exSeMwyGpj9mZqZObc5+v0jhCgXw/YC/AABgYULhg7/NzOzzVrl8vxSuDz1K4ao/UrjOWSiUgr8fhQNyB3GUvzMzE4ffWHG/AACw6uSpkr8pXC9sBVB8v83M7DkpWnm/KVwvt9CunL8AALBuUuOYv6Rw3S2Oy3m/SOE6WHWoir+amRlq836VvzMzc8sSIHe/ZmYmcEMtd7/sUbgTvreUv1yPcgjjjJa/7FFoQphWsT9I4Wq9CraDv/YolFcr/5O/cT2qHOINl79mZuanMCCQv4/CdSxwyZa/H4WLrLhHgr8UrhdPPDidvwAA8LIpRJK/uB7lS7pYer8AANDsWyyJvwAAcFmh1JO/pHC9sVpXhL8UrkfOAGZ2v3sUrtfl/W2/Urie+rMPhb/NzMz11FSBv65HYYZRtn2/cT0KsDlseb9SuB5x6iN2v65H4fw4eIi/9ijcQiVYd7+uR+G6BnJ3v3sUbsAePYC/uB6FVTgGeb8AAACTZ3yCv9ej8Bh1U4S/9ig8AB+8dr+F69EEik15vwAAQGJbIIe/H4Xr0mR3hr/NzMwZdD+Ev4XrUR0QuIK/exQukUkRfr+PwnU9H/lxvzMzs5Dve3W/exQudHytgL8K16OVjOiDvwrXI1WCZ3O/MzMzOm3ldL8UrkeJkWaEv0jh6vN5vIa/SOFK3lRdh7+kcL38jLl0v4/C9UousHS/PQrX4bHndr+4HoV2bZaHv5qZWSWCPYO/9ihc6Ipldr/hehSg0bOFv4Xr0SxM7YK/AAAAYcrkib/sUbjiEt9yv1K43rGqqYa/AAAASkQahr9SuB76Gix2v7gehd82moW/ZmbWrdlAg7/NzMw00kl2vzMzs52i14i/zczMFo7IfL9SuB7OhiWCv+F6FG/iIIe/FK7HbAqGgb8pXA+0DNlyv+xROGHlwIm/Ctcj2jRvg78zM3NjfZmDv3E9il93L3+/zcxMv7r7dL/D9SijGCOIv4XrUULpE3+/AAAAVBzPfL+4HgV06bl9v1yPQmcew4a/cT0KG8xBeb9I4fpIQEmGvzMzM7qV0Ie/w/Xo1AKEhL89ytdFM4vqPxSuRyPkJ3S/zcxMO2r9hr+kcD0rlkx+v5qZmXI9HIa/4XoUP0fPer8K1yPSKvt+v9ejcMmIOHq/cT0KS3O7hL9SuB4NiyiFv1yPwqgMGYu/Zmbm/x47hb9SuJ5Qmg19v/YoXJy5qIG/PQpXZT81gr+F6zHQpwF+v2ZmZqiR5Xq/FK5HqbwLh7/NzMyb93yJv6RwPcrx63O/exQuRT3Tg78zMzOiMFiDv4XrUYzSTYS/ZmbmqLnlgb9mZuYGDPl9v65HoWKs5Xy/FK7HIwxNfr9I4XpfOGVzv6RwvThktHe/exQu/Jzvhb+4HgUY3myFv9ejcKq6EHa/zcwMT74jgb8K12MF1NuKv9ejQNoywpY/heuB9aZpjz/D9ajjUiliPwAAwBu00Hw/zczM8E7Mdz8K1yNWemZ3P83MjHCNLnw/mplZFzQDcT8pXM9FUfGlv/YoIBPzU6W/SOGavEFSfT+uR8GOiBWjv8P1aDSR4XI/KVwPfu3kcj/NzIx9YeKBP3sULguBKmI/PQqX7xHteD8UricZnXiHP/YoXLux14k/pHC9FpLRiT/NzMyTHn1+P1K4nvJpKoM/Urju7JqNp797FN6hE3SEPz0KF69yP34/MzMTfuGafT+4HiXd8f5wPx+FY+tIwpi/FK4H6GLjgj8zM9PlbPpwP7geFTFmoZu/H4Uvewweqb9cj2KT6UqHPxSux+xQd4Q/4Xooz7gSo7/D9Wj+Hy2CPwrXC3UQnJq/CtfDDscPfz+uR4F+s/yEP3E9OkzQ7oU/XI8Cg2wgdj8K1xPD4XyEP0jhegQ+I3s/KVyvP8AviD9SuA6JidOEP0jhauZgy5E/cT0KY6utdz+PwtU2i+WAP9ej8CD5rHc/cT3KNqWZdj/sUahz4zqYvxSu544yp5y/heuxDHClfD8UrncuB/iIP4/C9VhE3V4/H4Wr9G4ncj89CqfNDZOGP+xROGWPwnk/Urj2bqXDlL97FO4OjOuHP8P1qK/er1o/cT2qGaGhiD/2KBwN5EpiP65HoTV+pmg/j8K1fp0agz9xPYqOZ/94P6RwPekGM4E/UrguwKzflb89Crc0NSuFP9ejENjQUI4/PQo3Jmijiz/NzHxfdHyBP9ej8OIcvHU/mpkJnGvDgT/sUbi/H8F5P65HaSMH2pe/w/UoKKwhYr+F6xHWrEaJPz0KV0SlFHs/cT2KK9UlfT8fhYtUKHeHP7gedWjtFp2/PQonJg6Rlb+F6zHwfnGhvxSuZyn+W3k/zcwMt3Cjkb+F61EDUHJxP4/CtZ8pZ3A/cT1aX/zUhz8K1yO0J21Rv1K43iKp7nc/16MQRVBxdz+F6xExA/KJv83M7I3GdnU/uB7FybAifj+amdkjtbR4PzMzP975Oa2/zcxsQkSNfj/helQnekR6P2Zmpgo+A3Y/9igsIWRbkr89CvdlENmPvzMzy8Y8ZHw/16Nwl7HQTb/sUQBgsFR0v2ZmRmsMEYW/mpkJCVg1mz+kcM0GWRVzv2Zm1rNelpC/w/XINFjIkj9cjwJmMaBzvwAAwDdqZne/16NAgtkKc79mZuZtJ1h5v83MLEGOcmy/AABovxPph7/Xo8ANbIZ5v65HYblB32e/XI9eqcSygT/Xo4CoyM2FPwAAcM+Ss3+/4Xp0A//Fgj+PwhWC32+Nv4/Cxfd6zYc/KVxfJZ81fb8fhWdgz/eTv+xRqAlWO6k/7FGIjVMhfr/Xo1xmFdKCP+xRmI3vn2m/zcwMOXLakb8K17Pt9K5/v83MLKAuJIa/UriWeVRqgL/NzAwUh4J6vwrXy5lsr4m/H4XrtwVOcb8fhZO31gqLP8P1+J8O54w/exSahx8DkD9SuN6GaLx9v4/CpWwB73+/rkfhSZdkaL9mZhZM3b9+vylcbyZYq2S/H4XrRqIJfb+4HjVG1iySP3E9HkMajpe/16MQLCLWdz9cj7LtM1aGP6RwvcEuAmq/zczMSFsLkb8K1ysTFR2Gv3sUVquhDIO/9igk2zcPgr+uR1kbCh6FvzMzU2Ur0oO/FK4XKdmFdL/NzHy0LCaOP2Zmbi+BhpY/9ihci4EAcb/hehSekY94v0jhLPN0JrA/H4XrsxNWfL9cj+pIsDyeP5qZ2WRZK5E/PQqP0svOkj9I4VraMXGMv2ZmZviwi2y/CtejnKHwfb9cj5LN/HGMP83MvD7qxpA/PQqfKPh1nD8K1+P+b6Fyv1K4zvHSK2U/PQr7YqsnoD/D9ZjO4OKGv4XrUXH3GIG/uB7lryW8hr9mZjZqEJ50v7gewYHtKoE/j8JVYsUjfL8UrjOEqdWGP6RwHQBKJmS/hetBZ7G8f7+F6+G28EyTv2Zmtsg5wX6/rkdxYqsefb8K15POVDJ5vzMzw6Yus4Y/zcxkhvLIlj9I4epzwB+Gv+xR4JLWVIG/H4Vr1oGuib/D9TCAokSFv2ZmpjarV3O/AADkkYqFgD8AADgqg2qcPzMzk5ED3IC/AADQcwIQdL8AAACfn6mMvwAA+PzTM5E/XI/ioxi+ib/sURiTdVKGP3sUrnPfN0E/cT2a8+yEq7+amdkGyg2UP83MbBJF24A/pHC9AvDFhj8AAKCYsvWFP3E9CvsXhzi/PQrXegx6Zz8pXI9zCrZvP+F6NEpw94c/ZmYmqjs4cz9mZmYyHDZ6P3sUbiNti38/hevRNC35br9SuL5prF2DP4Xr0R7h+2K/PQr37oErgD8K16N2Ua5hv/YonOfURIQ/MzOT/0/ceT/Xozgt1GWkv2Zm9tJsmY4/CtcT0m8Zlj8K12Mx/zykv0jh+qP6+GY/AACQ+ORRkj/sURhb3p9/PwAA9FlPCKu/PQo3e5azuL9cj8J1Kwx5P1yPAmnXxno/ZmZmK8mSeb+uR2HS0X5pv0jhmnPhEIS/ZmYmD65hdz8Uruez+xaFP2ZmZoSXQ3M/16Nw0F0yZz89CtcjDXD+PpqZ2UjxVXK/w/UoW+ygWT8zM3MQ7CqCPwrXo8hK8im/SOHycbj6rr/sUTje9c5xP6RwPbI0WWg/16PQmpthkD+4HsWaaYaOP4/C9bpj02M/mpmZCYf+Yr8zM7ML2qNjv4/C9ZwzkmK/cT3KjmObgz9I4TojiOx+P9ejQOiyEpO/7FH4ZAYyij8pXA+LAhZ1Pylc7+KAhHw/PQpXDvEWcD8K1yM+cnN4v65H4a7wA2W/mpmZ6RPUdj8Uri+F+6eUP1K47j3+34M/uB6FgZODcj9cj3Jd6huOv4XrUTQh5Ha/exRurzsOlT9I4fro1JJ3vx+FWzeAqow/ZmZm5uaqeD+uR+EH6ZlfvwrXo6+UqWM/H4XrO2dmVD+PwrVvf4qEP83MDG8Qe3I/pHD9i28ygD/2KFyVsWl8v8P16P+ss3G/exQujS++bT+F69FNVp6BPxSux/foqXI/j8K1W2chcj8fhZtvYomnv4XrUbvwxmY/mpkZieOndT+4HkUJpTZ0P8P1qIInp4G/16MQ4PD1gj+uR0HwPxGEP1yPwtCKDYa/16MwOnXqcz97FO4JIuJ2P6Rw/WogXYU/9igcWnSBhj9mZuYesHhgPw==",
          "dtype": "f8"
         },
         "x0": " ",
         "xaxis": "x",
         "y": [
          "num__distance_to_goal",
          "num__distance_to_goal",
          "num__distance_to_goal",
          "num__distance_to_goal",
          "num__distance_to_goal",
          "num__distance_to_goal",
          "num__distance_to_goal",
          "num__distance_to_goal",
          "num__distance_to_goal",
          "num__distance_to_goal",
          "num__distance_to_goal",
          "num__distance_to_goal",
          "num__distance_to_goal",
          "num__distance_to_goal",
          "num__distance_to_goal",
          "num__distance_to_goal",
          "num__distance_to_goal",
          "num__distance_to_goal",
          "num__distance_to_goal",
          "num__distance_to_goal",
          "num__distance_to_goal",
          "num__distance_to_goal",
          "num__distance_to_goal",
          "num__distance_to_goal",
          "num__distance_to_goal",
          "num__distance_to_goal",
          "num__distance_to_goal",
          "num__distance_to_goal",
          "num__distance_to_goal",
          "num__distance_to_goal",
          "num__distance_to_goal",
          "num__distance_to_goal",
          "num__distance_to_goal",
          "num__distance_to_goal",
          "num__distance_to_goal",
          "num__distance_to_goal",
          "num__distance_to_goal",
          "num__distance_to_goal",
          "num__distance_to_goal",
          "num__distance_to_goal",
          "num__distance_to_goal",
          "num__distance_to_goal",
          "num__distance_to_goal",
          "num__distance_to_goal",
          "num__distance_to_goal",
          "num__distance_to_goal",
          "num__distance_to_goal",
          "num__distance_to_goal",
          "num__distance_to_goal",
          "num__distance_to_goal",
          "num__distance_to_goal",
          "num__distance_to_goal",
          "num__distance_to_goal",
          "num__distance_to_goal",
          "num__distance_to_goal",
          "num__distance_to_goal",
          "num__distance_to_goal",
          "num__distance_to_goal",
          "num__distance_to_goal",
          "num__distance_to_goal",
          "num__distance_to_goal",
          "num__distance_to_goal",
          "num__distance_to_goal",
          "num__distance_to_goal",
          "num__distance_to_goal",
          "num__distance_to_goal",
          "num__distance_to_goal",
          "num__distance_to_goal",
          "num__distance_to_goal",
          "num__distance_to_goal",
          "num__distance_to_goal",
          "num__distance_to_goal",
          "num__distance_to_goal",
          "num__distance_to_goal",
          "num__distance_to_goal",
          "num__distance_to_goal",
          "num__distance_to_goal",
          "num__distance_to_goal",
          "num__distance_to_goal",
          "num__distance_to_goal",
          "num__distance_to_goal",
          "num__distance_to_goal",
          "num__distance_to_goal",
          "num__distance_to_goal",
          "num__distance_to_goal",
          "num__distance_to_goal",
          "num__distance_to_goal",
          "num__distance_to_goal",
          "num__distance_to_goal",
          "num__distance_to_goal",
          "num__distance_to_goal",
          "num__distance_to_goal",
          "num__distance_to_goal",
          "num__distance_to_goal",
          "num__distance_to_goal",
          "num__distance_to_goal",
          "num__distance_to_goal",
          "num__distance_to_goal",
          "num__distance_to_goal",
          "num__distance_to_goal",
          "num__rivals_in_shot_area",
          "num__rivals_in_shot_area",
          "num__rivals_in_shot_area",
          "num__rivals_in_shot_area",
          "num__rivals_in_shot_area",
          "num__rivals_in_shot_area",
          "num__rivals_in_shot_area",
          "num__rivals_in_shot_area",
          "num__rivals_in_shot_area",
          "num__rivals_in_shot_area",
          "num__rivals_in_shot_area",
          "num__rivals_in_shot_area",
          "num__rivals_in_shot_area",
          "num__rivals_in_shot_area",
          "num__rivals_in_shot_area",
          "num__rivals_in_shot_area",
          "num__rivals_in_shot_area",
          "num__rivals_in_shot_area",
          "num__rivals_in_shot_area",
          "num__rivals_in_shot_area",
          "num__rivals_in_shot_area",
          "num__rivals_in_shot_area",
          "num__rivals_in_shot_area",
          "num__rivals_in_shot_area",
          "num__rivals_in_shot_area",
          "num__rivals_in_shot_area",
          "num__rivals_in_shot_area",
          "num__rivals_in_shot_area",
          "num__rivals_in_shot_area",
          "num__rivals_in_shot_area",
          "num__rivals_in_shot_area",
          "num__rivals_in_shot_area",
          "num__rivals_in_shot_area",
          "num__rivals_in_shot_area",
          "num__rivals_in_shot_area",
          "num__rivals_in_shot_area",
          "num__rivals_in_shot_area",
          "num__rivals_in_shot_area",
          "num__rivals_in_shot_area",
          "num__rivals_in_shot_area",
          "num__rivals_in_shot_area",
          "num__rivals_in_shot_area",
          "num__rivals_in_shot_area",
          "num__rivals_in_shot_area",
          "num__rivals_in_shot_area",
          "num__rivals_in_shot_area",
          "num__rivals_in_shot_area",
          "num__rivals_in_shot_area",
          "num__rivals_in_shot_area",
          "num__rivals_in_shot_area",
          "num__rivals_in_shot_area",
          "num__rivals_in_shot_area",
          "num__rivals_in_shot_area",
          "num__rivals_in_shot_area",
          "num__rivals_in_shot_area",
          "num__rivals_in_shot_area",
          "num__rivals_in_shot_area",
          "num__rivals_in_shot_area",
          "num__rivals_in_shot_area",
          "num__rivals_in_shot_area",
          "num__rivals_in_shot_area",
          "num__rivals_in_shot_area",
          "num__rivals_in_shot_area",
          "num__rivals_in_shot_area",
          "num__rivals_in_shot_area",
          "num__rivals_in_shot_area",
          "num__rivals_in_shot_area",
          "num__rivals_in_shot_area",
          "num__rivals_in_shot_area",
          "num__rivals_in_shot_area",
          "num__rivals_in_shot_area",
          "num__rivals_in_shot_area",
          "num__rivals_in_shot_area",
          "num__rivals_in_shot_area",
          "num__rivals_in_shot_area",
          "num__rivals_in_shot_area",
          "num__rivals_in_shot_area",
          "num__rivals_in_shot_area",
          "num__rivals_in_shot_area",
          "num__rivals_in_shot_area",
          "num__rivals_in_shot_area",
          "num__rivals_in_shot_area",
          "num__rivals_in_shot_area",
          "num__rivals_in_shot_area",
          "num__rivals_in_shot_area",
          "num__rivals_in_shot_area",
          "num__rivals_in_shot_area",
          "num__rivals_in_shot_area",
          "num__rivals_in_shot_area",
          "num__rivals_in_shot_area",
          "num__rivals_in_shot_area",
          "num__rivals_in_shot_area",
          "num__rivals_in_shot_area",
          "num__rivals_in_shot_area",
          "num__rivals_in_shot_area",
          "num__rivals_in_shot_area",
          "num__rivals_in_shot_area",
          "num__rivals_in_shot_area",
          "num__rivals_in_shot_area",
          "num__rivals_in_shot_area",
          "num__distance_angle_interaction",
          "num__distance_angle_interaction",
          "num__distance_angle_interaction",
          "num__distance_angle_interaction",
          "num__distance_angle_interaction",
          "num__distance_angle_interaction",
          "num__distance_angle_interaction",
          "num__distance_angle_interaction",
          "num__distance_angle_interaction",
          "num__distance_angle_interaction",
          "num__distance_angle_interaction",
          "num__distance_angle_interaction",
          "num__distance_angle_interaction",
          "num__distance_angle_interaction",
          "num__distance_angle_interaction",
          "num__distance_angle_interaction",
          "num__distance_angle_interaction",
          "num__distance_angle_interaction",
          "num__distance_angle_interaction",
          "num__distance_angle_interaction",
          "num__distance_angle_interaction",
          "num__distance_angle_interaction",
          "num__distance_angle_interaction",
          "num__distance_angle_interaction",
          "num__distance_angle_interaction",
          "num__distance_angle_interaction",
          "num__distance_angle_interaction",
          "num__distance_angle_interaction",
          "num__distance_angle_interaction",
          "num__distance_angle_interaction",
          "num__distance_angle_interaction",
          "num__distance_angle_interaction",
          "num__distance_angle_interaction",
          "num__distance_angle_interaction",
          "num__distance_angle_interaction",
          "num__distance_angle_interaction",
          "num__distance_angle_interaction",
          "num__distance_angle_interaction",
          "num__distance_angle_interaction",
          "num__distance_angle_interaction",
          "num__distance_angle_interaction",
          "num__distance_angle_interaction",
          "num__distance_angle_interaction",
          "num__distance_angle_interaction",
          "num__distance_angle_interaction",
          "num__distance_angle_interaction",
          "num__distance_angle_interaction",
          "num__distance_angle_interaction",
          "num__distance_angle_interaction",
          "num__distance_angle_interaction",
          "num__distance_angle_interaction",
          "num__distance_angle_interaction",
          "num__distance_angle_interaction",
          "num__distance_angle_interaction",
          "num__distance_angle_interaction",
          "num__distance_angle_interaction",
          "num__distance_angle_interaction",
          "num__distance_angle_interaction",
          "num__distance_angle_interaction",
          "num__distance_angle_interaction",
          "num__distance_angle_interaction",
          "num__distance_angle_interaction",
          "num__distance_angle_interaction",
          "num__distance_angle_interaction",
          "num__distance_angle_interaction",
          "num__distance_angle_interaction",
          "num__distance_angle_interaction",
          "num__distance_angle_interaction",
          "num__distance_angle_interaction",
          "num__distance_angle_interaction",
          "num__distance_angle_interaction",
          "num__distance_angle_interaction",
          "num__distance_angle_interaction",
          "num__distance_angle_interaction",
          "num__distance_angle_interaction",
          "num__distance_angle_interaction",
          "num__distance_angle_interaction",
          "num__distance_angle_interaction",
          "num__distance_angle_interaction",
          "num__distance_angle_interaction",
          "num__distance_angle_interaction",
          "num__distance_angle_interaction",
          "num__distance_angle_interaction",
          "num__distance_angle_interaction",
          "num__distance_angle_interaction",
          "num__distance_angle_interaction",
          "num__distance_angle_interaction",
          "num__distance_angle_interaction",
          "num__distance_angle_interaction",
          "num__distance_angle_interaction",
          "num__distance_angle_interaction",
          "num__distance_angle_interaction",
          "num__distance_angle_interaction",
          "num__distance_angle_interaction",
          "num__distance_angle_interaction",
          "num__distance_angle_interaction",
          "num__distance_angle_interaction",
          "num__distance_angle_interaction",
          "num__distance_angle_interaction",
          "num__distance_angle_interaction",
          "cat__shot_body_part_id_37.0",
          "cat__shot_body_part_id_37.0",
          "cat__shot_body_part_id_37.0",
          "cat__shot_body_part_id_37.0",
          "cat__shot_body_part_id_37.0",
          "cat__shot_body_part_id_37.0",
          "cat__shot_body_part_id_37.0",
          "cat__shot_body_part_id_37.0",
          "cat__shot_body_part_id_37.0",
          "cat__shot_body_part_id_37.0",
          "cat__shot_body_part_id_37.0",
          "cat__shot_body_part_id_37.0",
          "cat__shot_body_part_id_37.0",
          "cat__shot_body_part_id_37.0",
          "cat__shot_body_part_id_37.0",
          "cat__shot_body_part_id_37.0",
          "cat__shot_body_part_id_37.0",
          "cat__shot_body_part_id_37.0",
          "cat__shot_body_part_id_37.0",
          "cat__shot_body_part_id_37.0",
          "cat__shot_body_part_id_37.0",
          "cat__shot_body_part_id_37.0",
          "cat__shot_body_part_id_37.0",
          "cat__shot_body_part_id_37.0",
          "cat__shot_body_part_id_37.0",
          "cat__shot_body_part_id_37.0",
          "cat__shot_body_part_id_37.0",
          "cat__shot_body_part_id_37.0",
          "cat__shot_body_part_id_37.0",
          "cat__shot_body_part_id_37.0",
          "cat__shot_body_part_id_37.0",
          "cat__shot_body_part_id_37.0",
          "cat__shot_body_part_id_37.0",
          "cat__shot_body_part_id_37.0",
          "cat__shot_body_part_id_37.0",
          "cat__shot_body_part_id_37.0",
          "cat__shot_body_part_id_37.0",
          "cat__shot_body_part_id_37.0",
          "cat__shot_body_part_id_37.0",
          "cat__shot_body_part_id_37.0",
          "cat__shot_body_part_id_37.0",
          "cat__shot_body_part_id_37.0",
          "cat__shot_body_part_id_37.0",
          "cat__shot_body_part_id_37.0",
          "cat__shot_body_part_id_37.0",
          "cat__shot_body_part_id_37.0",
          "cat__shot_body_part_id_37.0",
          "cat__shot_body_part_id_37.0",
          "cat__shot_body_part_id_37.0",
          "cat__shot_body_part_id_37.0",
          "cat__shot_body_part_id_37.0",
          "cat__shot_body_part_id_37.0",
          "cat__shot_body_part_id_37.0",
          "cat__shot_body_part_id_37.0",
          "cat__shot_body_part_id_37.0",
          "cat__shot_body_part_id_37.0",
          "cat__shot_body_part_id_37.0",
          "cat__shot_body_part_id_37.0",
          "cat__shot_body_part_id_37.0",
          "cat__shot_body_part_id_37.0",
          "cat__shot_body_part_id_37.0",
          "cat__shot_body_part_id_37.0",
          "cat__shot_body_part_id_37.0",
          "cat__shot_body_part_id_37.0",
          "cat__shot_body_part_id_37.0",
          "cat__shot_body_part_id_37.0",
          "cat__shot_body_part_id_37.0",
          "cat__shot_body_part_id_37.0",
          "cat__shot_body_part_id_37.0",
          "cat__shot_body_part_id_37.0",
          "cat__shot_body_part_id_37.0",
          "cat__shot_body_part_id_37.0",
          "cat__shot_body_part_id_37.0",
          "cat__shot_body_part_id_37.0",
          "cat__shot_body_part_id_37.0",
          "cat__shot_body_part_id_37.0",
          "cat__shot_body_part_id_37.0",
          "cat__shot_body_part_id_37.0",
          "cat__shot_body_part_id_37.0",
          "cat__shot_body_part_id_37.0",
          "cat__shot_body_part_id_37.0",
          "cat__shot_body_part_id_37.0",
          "cat__shot_body_part_id_37.0",
          "cat__shot_body_part_id_37.0",
          "cat__shot_body_part_id_37.0",
          "cat__shot_body_part_id_37.0",
          "cat__shot_body_part_id_37.0",
          "cat__shot_body_part_id_37.0",
          "cat__shot_body_part_id_37.0",
          "cat__shot_body_part_id_37.0",
          "cat__shot_body_part_id_37.0",
          "cat__shot_body_part_id_37.0",
          "cat__shot_body_part_id_37.0",
          "cat__shot_body_part_id_37.0",
          "cat__shot_body_part_id_37.0",
          "cat__shot_body_part_id_37.0",
          "cat__shot_body_part_id_37.0",
          "cat__shot_body_part_id_37.0",
          "cat__shot_body_part_id_37.0",
          "cat__shot_body_part_id_37.0",
          "num__possession_duration",
          "num__possession_duration",
          "num__possession_duration",
          "num__possession_duration",
          "num__possession_duration",
          "num__possession_duration",
          "num__possession_duration",
          "num__possession_duration",
          "num__possession_duration",
          "num__possession_duration",
          "num__possession_duration",
          "num__possession_duration",
          "num__possession_duration",
          "num__possession_duration",
          "num__possession_duration",
          "num__possession_duration",
          "num__possession_duration",
          "num__possession_duration",
          "num__possession_duration",
          "num__possession_duration",
          "num__possession_duration",
          "num__possession_duration",
          "num__possession_duration",
          "num__possession_duration",
          "num__possession_duration",
          "num__possession_duration",
          "num__possession_duration",
          "num__possession_duration",
          "num__possession_duration",
          "num__possession_duration",
          "num__possession_duration",
          "num__possession_duration",
          "num__possession_duration",
          "num__possession_duration",
          "num__possession_duration",
          "num__possession_duration",
          "num__possession_duration",
          "num__possession_duration",
          "num__possession_duration",
          "num__possession_duration",
          "num__possession_duration",
          "num__possession_duration",
          "num__possession_duration",
          "num__possession_duration",
          "num__possession_duration",
          "num__possession_duration",
          "num__possession_duration",
          "num__possession_duration",
          "num__possession_duration",
          "num__possession_duration",
          "num__possession_duration",
          "num__possession_duration",
          "num__possession_duration",
          "num__possession_duration",
          "num__possession_duration",
          "num__possession_duration",
          "num__possession_duration",
          "num__possession_duration",
          "num__possession_duration",
          "num__possession_duration",
          "num__possession_duration",
          "num__possession_duration",
          "num__possession_duration",
          "num__possession_duration",
          "num__possession_duration",
          "num__possession_duration",
          "num__possession_duration",
          "num__possession_duration",
          "num__possession_duration",
          "num__possession_duration",
          "num__possession_duration",
          "num__possession_duration",
          "num__possession_duration",
          "num__possession_duration",
          "num__possession_duration",
          "num__possession_duration",
          "num__possession_duration",
          "num__possession_duration",
          "num__possession_duration",
          "num__possession_duration",
          "num__possession_duration",
          "num__possession_duration",
          "num__possession_duration",
          "num__possession_duration",
          "num__possession_duration",
          "num__possession_duration",
          "num__possession_duration",
          "num__possession_duration",
          "num__possession_duration",
          "num__possession_duration",
          "num__possession_duration",
          "num__possession_duration",
          "num__possession_duration",
          "num__possession_duration",
          "num__possession_duration",
          "num__possession_duration",
          "num__possession_duration",
          "num__possession_duration",
          "num__possession_duration",
          "num__possession_duration",
          "num__angle_to_goal",
          "num__angle_to_goal",
          "num__angle_to_goal",
          "num__angle_to_goal",
          "num__angle_to_goal",
          "num__angle_to_goal",
          "num__angle_to_goal",
          "num__angle_to_goal",
          "num__angle_to_goal",
          "num__angle_to_goal",
          "num__angle_to_goal",
          "num__angle_to_goal",
          "num__angle_to_goal",
          "num__angle_to_goal",
          "num__angle_to_goal",
          "num__angle_to_goal",
          "num__angle_to_goal",
          "num__angle_to_goal",
          "num__angle_to_goal",
          "num__angle_to_goal",
          "num__angle_to_goal",
          "num__angle_to_goal",
          "num__angle_to_goal",
          "num__angle_to_goal",
          "num__angle_to_goal",
          "num__angle_to_goal",
          "num__angle_to_goal",
          "num__angle_to_goal",
          "num__angle_to_goal",
          "num__angle_to_goal",
          "num__angle_to_goal",
          "num__angle_to_goal",
          "num__angle_to_goal",
          "num__angle_to_goal",
          "num__angle_to_goal",
          "num__angle_to_goal",
          "num__angle_to_goal",
          "num__angle_to_goal",
          "num__angle_to_goal",
          "num__angle_to_goal",
          "num__angle_to_goal",
          "num__angle_to_goal",
          "num__angle_to_goal",
          "num__angle_to_goal",
          "num__angle_to_goal",
          "num__angle_to_goal",
          "num__angle_to_goal",
          "num__angle_to_goal",
          "num__angle_to_goal",
          "num__angle_to_goal",
          "num__angle_to_goal",
          "num__angle_to_goal",
          "num__angle_to_goal",
          "num__angle_to_goal",
          "num__angle_to_goal",
          "num__angle_to_goal",
          "num__angle_to_goal",
          "num__angle_to_goal",
          "num__angle_to_goal",
          "num__angle_to_goal",
          "num__angle_to_goal",
          "num__angle_to_goal",
          "num__angle_to_goal",
          "num__angle_to_goal",
          "num__angle_to_goal",
          "num__angle_to_goal",
          "num__angle_to_goal",
          "num__angle_to_goal",
          "num__angle_to_goal",
          "num__angle_to_goal",
          "num__angle_to_goal",
          "num__angle_to_goal",
          "num__angle_to_goal",
          "num__angle_to_goal",
          "num__angle_to_goal",
          "num__angle_to_goal",
          "num__angle_to_goal",
          "num__angle_to_goal",
          "num__angle_to_goal",
          "num__angle_to_goal",
          "num__angle_to_goal",
          "num__angle_to_goal",
          "num__angle_to_goal",
          "num__angle_to_goal",
          "num__angle_to_goal",
          "num__angle_to_goal",
          "num__angle_to_goal",
          "num__angle_to_goal",
          "num__angle_to_goal",
          "num__angle_to_goal",
          "num__angle_to_goal",
          "num__angle_to_goal",
          "num__angle_to_goal",
          "num__angle_to_goal",
          "num__angle_to_goal",
          "num__angle_to_goal",
          "num__angle_to_goal",
          "num__angle_to_goal",
          "num__angle_to_goal",
          "num__angle_to_goal",
          "cat__shot_technique_id_93.0",
          "cat__shot_technique_id_93.0",
          "cat__shot_technique_id_93.0",
          "cat__shot_technique_id_93.0",
          "cat__shot_technique_id_93.0",
          "cat__shot_technique_id_93.0",
          "cat__shot_technique_id_93.0",
          "cat__shot_technique_id_93.0",
          "cat__shot_technique_id_93.0",
          "cat__shot_technique_id_93.0",
          "cat__shot_technique_id_93.0",
          "cat__shot_technique_id_93.0",
          "cat__shot_technique_id_93.0",
          "cat__shot_technique_id_93.0",
          "cat__shot_technique_id_93.0",
          "cat__shot_technique_id_93.0",
          "cat__shot_technique_id_93.0",
          "cat__shot_technique_id_93.0",
          "cat__shot_technique_id_93.0",
          "cat__shot_technique_id_93.0",
          "cat__shot_technique_id_93.0",
          "cat__shot_technique_id_93.0",
          "cat__shot_technique_id_93.0",
          "cat__shot_technique_id_93.0",
          "cat__shot_technique_id_93.0",
          "cat__shot_technique_id_93.0",
          "cat__shot_technique_id_93.0",
          "cat__shot_technique_id_93.0",
          "cat__shot_technique_id_93.0",
          "cat__shot_technique_id_93.0",
          "cat__shot_technique_id_93.0",
          "cat__shot_technique_id_93.0",
          "cat__shot_technique_id_93.0",
          "cat__shot_technique_id_93.0",
          "cat__shot_technique_id_93.0",
          "cat__shot_technique_id_93.0",
          "cat__shot_technique_id_93.0",
          "cat__shot_technique_id_93.0",
          "cat__shot_technique_id_93.0",
          "cat__shot_technique_id_93.0",
          "cat__shot_technique_id_93.0",
          "cat__shot_technique_id_93.0",
          "cat__shot_technique_id_93.0",
          "cat__shot_technique_id_93.0",
          "cat__shot_technique_id_93.0",
          "cat__shot_technique_id_93.0",
          "cat__shot_technique_id_93.0",
          "cat__shot_technique_id_93.0",
          "cat__shot_technique_id_93.0",
          "cat__shot_technique_id_93.0",
          "cat__shot_technique_id_93.0",
          "cat__shot_technique_id_93.0",
          "cat__shot_technique_id_93.0",
          "cat__shot_technique_id_93.0",
          "cat__shot_technique_id_93.0",
          "cat__shot_technique_id_93.0",
          "cat__shot_technique_id_93.0",
          "cat__shot_technique_id_93.0",
          "cat__shot_technique_id_93.0",
          "cat__shot_technique_id_93.0",
          "cat__shot_technique_id_93.0",
          "cat__shot_technique_id_93.0",
          "cat__shot_technique_id_93.0",
          "cat__shot_technique_id_93.0",
          "cat__shot_technique_id_93.0",
          "cat__shot_technique_id_93.0",
          "cat__shot_technique_id_93.0",
          "cat__shot_technique_id_93.0",
          "cat__shot_technique_id_93.0",
          "cat__shot_technique_id_93.0",
          "cat__shot_technique_id_93.0",
          "cat__shot_technique_id_93.0",
          "cat__shot_technique_id_93.0",
          "cat__shot_technique_id_93.0",
          "cat__shot_technique_id_93.0",
          "cat__shot_technique_id_93.0",
          "cat__shot_technique_id_93.0",
          "cat__shot_technique_id_93.0",
          "cat__shot_technique_id_93.0",
          "cat__shot_technique_id_93.0",
          "cat__shot_technique_id_93.0",
          "cat__shot_technique_id_93.0",
          "cat__shot_technique_id_93.0",
          "cat__shot_technique_id_93.0",
          "cat__shot_technique_id_93.0",
          "cat__shot_technique_id_93.0",
          "cat__shot_technique_id_93.0",
          "cat__shot_technique_id_93.0",
          "cat__shot_technique_id_93.0",
          "cat__shot_technique_id_93.0",
          "cat__shot_technique_id_93.0",
          "cat__shot_technique_id_93.0",
          "cat__shot_technique_id_93.0",
          "cat__shot_technique_id_93.0",
          "cat__shot_technique_id_93.0",
          "cat__shot_technique_id_93.0",
          "cat__shot_technique_id_93.0",
          "cat__shot_technique_id_93.0",
          "cat__shot_technique_id_93.0",
          "cat__shot_technique_id_93.0",
          "num__keeper_placement_score",
          "num__keeper_placement_score",
          "num__keeper_placement_score",
          "num__keeper_placement_score",
          "num__keeper_placement_score",
          "num__keeper_placement_score",
          "num__keeper_placement_score",
          "num__keeper_placement_score",
          "num__keeper_placement_score",
          "num__keeper_placement_score",
          "num__keeper_placement_score",
          "num__keeper_placement_score",
          "num__keeper_placement_score",
          "num__keeper_placement_score",
          "num__keeper_placement_score",
          "num__keeper_placement_score",
          "num__keeper_placement_score",
          "num__keeper_placement_score",
          "num__keeper_placement_score",
          "num__keeper_placement_score",
          "num__keeper_placement_score",
          "num__keeper_placement_score",
          "num__keeper_placement_score",
          "num__keeper_placement_score",
          "num__keeper_placement_score",
          "num__keeper_placement_score",
          "num__keeper_placement_score",
          "num__keeper_placement_score",
          "num__keeper_placement_score",
          "num__keeper_placement_score",
          "num__keeper_placement_score",
          "num__keeper_placement_score",
          "num__keeper_placement_score",
          "num__keeper_placement_score",
          "num__keeper_placement_score",
          "num__keeper_placement_score",
          "num__keeper_placement_score",
          "num__keeper_placement_score",
          "num__keeper_placement_score",
          "num__keeper_placement_score",
          "num__keeper_placement_score",
          "num__keeper_placement_score",
          "num__keeper_placement_score",
          "num__keeper_placement_score",
          "num__keeper_placement_score",
          "num__keeper_placement_score",
          "num__keeper_placement_score",
          "num__keeper_placement_score",
          "num__keeper_placement_score",
          "num__keeper_placement_score",
          "num__keeper_placement_score",
          "num__keeper_placement_score",
          "num__keeper_placement_score",
          "num__keeper_placement_score",
          "num__keeper_placement_score",
          "num__keeper_placement_score",
          "num__keeper_placement_score",
          "num__keeper_placement_score",
          "num__keeper_placement_score",
          "num__keeper_placement_score",
          "num__keeper_placement_score",
          "num__keeper_placement_score",
          "num__keeper_placement_score",
          "num__keeper_placement_score",
          "num__keeper_placement_score",
          "num__keeper_placement_score",
          "num__keeper_placement_score",
          "num__keeper_placement_score",
          "num__keeper_placement_score",
          "num__keeper_placement_score",
          "num__keeper_placement_score",
          "num__keeper_placement_score",
          "num__keeper_placement_score",
          "num__keeper_placement_score",
          "num__keeper_placement_score",
          "num__keeper_placement_score",
          "num__keeper_placement_score",
          "num__keeper_placement_score",
          "num__keeper_placement_score",
          "num__keeper_placement_score",
          "num__keeper_placement_score",
          "num__keeper_placement_score",
          "num__keeper_placement_score",
          "num__keeper_placement_score",
          "num__keeper_placement_score",
          "num__keeper_placement_score",
          "num__keeper_placement_score",
          "num__keeper_placement_score",
          "num__keeper_placement_score",
          "num__keeper_placement_score",
          "num__keeper_placement_score",
          "num__keeper_placement_score",
          "num__keeper_placement_score",
          "num__keeper_placement_score",
          "num__keeper_placement_score",
          "num__keeper_placement_score",
          "num__keeper_placement_score",
          "num__keeper_placement_score",
          "num__keeper_placement_score",
          "num__keeper_placement_score",
          "num__distance_to_goal_squared",
          "num__distance_to_goal_squared",
          "num__distance_to_goal_squared",
          "num__distance_to_goal_squared",
          "num__distance_to_goal_squared",
          "num__distance_to_goal_squared",
          "num__distance_to_goal_squared",
          "num__distance_to_goal_squared",
          "num__distance_to_goal_squared",
          "num__distance_to_goal_squared",
          "num__distance_to_goal_squared",
          "num__distance_to_goal_squared",
          "num__distance_to_goal_squared",
          "num__distance_to_goal_squared",
          "num__distance_to_goal_squared",
          "num__distance_to_goal_squared",
          "num__distance_to_goal_squared",
          "num__distance_to_goal_squared",
          "num__distance_to_goal_squared",
          "num__distance_to_goal_squared",
          "num__distance_to_goal_squared",
          "num__distance_to_goal_squared",
          "num__distance_to_goal_squared",
          "num__distance_to_goal_squared",
          "num__distance_to_goal_squared",
          "num__distance_to_goal_squared",
          "num__distance_to_goal_squared",
          "num__distance_to_goal_squared",
          "num__distance_to_goal_squared",
          "num__distance_to_goal_squared",
          "num__distance_to_goal_squared",
          "num__distance_to_goal_squared",
          "num__distance_to_goal_squared",
          "num__distance_to_goal_squared",
          "num__distance_to_goal_squared",
          "num__distance_to_goal_squared",
          "num__distance_to_goal_squared",
          "num__distance_to_goal_squared",
          "num__distance_to_goal_squared",
          "num__distance_to_goal_squared",
          "num__distance_to_goal_squared",
          "num__distance_to_goal_squared",
          "num__distance_to_goal_squared",
          "num__distance_to_goal_squared",
          "num__distance_to_goal_squared",
          "num__distance_to_goal_squared",
          "num__distance_to_goal_squared",
          "num__distance_to_goal_squared",
          "num__distance_to_goal_squared",
          "num__distance_to_goal_squared",
          "num__distance_to_goal_squared",
          "num__distance_to_goal_squared",
          "num__distance_to_goal_squared",
          "num__distance_to_goal_squared",
          "num__distance_to_goal_squared",
          "num__distance_to_goal_squared",
          "num__distance_to_goal_squared",
          "num__distance_to_goal_squared",
          "num__distance_to_goal_squared",
          "num__distance_to_goal_squared",
          "num__distance_to_goal_squared",
          "num__distance_to_goal_squared",
          "num__distance_to_goal_squared",
          "num__distance_to_goal_squared",
          "num__distance_to_goal_squared",
          "num__distance_to_goal_squared",
          "num__distance_to_goal_squared",
          "num__distance_to_goal_squared",
          "num__distance_to_goal_squared",
          "num__distance_to_goal_squared",
          "num__distance_to_goal_squared",
          "num__distance_to_goal_squared",
          "num__distance_to_goal_squared",
          "num__distance_to_goal_squared",
          "num__distance_to_goal_squared",
          "num__distance_to_goal_squared",
          "num__distance_to_goal_squared",
          "num__distance_to_goal_squared",
          "num__distance_to_goal_squared",
          "num__distance_to_goal_squared",
          "num__distance_to_goal_squared",
          "num__distance_to_goal_squared",
          "num__distance_to_goal_squared",
          "num__distance_to_goal_squared",
          "num__distance_to_goal_squared",
          "num__distance_to_goal_squared",
          "num__distance_to_goal_squared",
          "num__distance_to_goal_squared",
          "num__distance_to_goal_squared",
          "num__distance_to_goal_squared",
          "num__distance_to_goal_squared",
          "num__distance_to_goal_squared",
          "num__distance_to_goal_squared",
          "num__distance_to_goal_squared",
          "num__distance_to_goal_squared",
          "num__distance_to_goal_squared",
          "num__distance_to_goal_squared",
          "num__distance_to_goal_squared",
          "num__distance_to_goal_squared",
          "num__distance_to_goal_squared",
          "cat__shot_aerial_won_False",
          "cat__shot_aerial_won_False",
          "cat__shot_aerial_won_False",
          "cat__shot_aerial_won_False",
          "cat__shot_aerial_won_False",
          "cat__shot_aerial_won_False",
          "cat__shot_aerial_won_False",
          "cat__shot_aerial_won_False",
          "cat__shot_aerial_won_False",
          "cat__shot_aerial_won_False",
          "cat__shot_aerial_won_False",
          "cat__shot_aerial_won_False",
          "cat__shot_aerial_won_False",
          "cat__shot_aerial_won_False",
          "cat__shot_aerial_won_False",
          "cat__shot_aerial_won_False",
          "cat__shot_aerial_won_False",
          "cat__shot_aerial_won_False",
          "cat__shot_aerial_won_False",
          "cat__shot_aerial_won_False",
          "cat__shot_aerial_won_False",
          "cat__shot_aerial_won_False",
          "cat__shot_aerial_won_False",
          "cat__shot_aerial_won_False",
          "cat__shot_aerial_won_False",
          "cat__shot_aerial_won_False",
          "cat__shot_aerial_won_False",
          "cat__shot_aerial_won_False",
          "cat__shot_aerial_won_False",
          "cat__shot_aerial_won_False",
          "cat__shot_aerial_won_False",
          "cat__shot_aerial_won_False",
          "cat__shot_aerial_won_False",
          "cat__shot_aerial_won_False",
          "cat__shot_aerial_won_False",
          "cat__shot_aerial_won_False",
          "cat__shot_aerial_won_False",
          "cat__shot_aerial_won_False",
          "cat__shot_aerial_won_False",
          "cat__shot_aerial_won_False",
          "cat__shot_aerial_won_False",
          "cat__shot_aerial_won_False",
          "cat__shot_aerial_won_False",
          "cat__shot_aerial_won_False",
          "cat__shot_aerial_won_False",
          "cat__shot_aerial_won_False",
          "cat__shot_aerial_won_False",
          "cat__shot_aerial_won_False",
          "cat__shot_aerial_won_False",
          "cat__shot_aerial_won_False",
          "cat__shot_aerial_won_False",
          "cat__shot_aerial_won_False",
          "cat__shot_aerial_won_False",
          "cat__shot_aerial_won_False",
          "cat__shot_aerial_won_False",
          "cat__shot_aerial_won_False",
          "cat__shot_aerial_won_False",
          "cat__shot_aerial_won_False",
          "cat__shot_aerial_won_False",
          "cat__shot_aerial_won_False",
          "cat__shot_aerial_won_False",
          "cat__shot_aerial_won_False",
          "cat__shot_aerial_won_False",
          "cat__shot_aerial_won_False",
          "cat__shot_aerial_won_False",
          "cat__shot_aerial_won_False",
          "cat__shot_aerial_won_False",
          "cat__shot_aerial_won_False",
          "cat__shot_aerial_won_False",
          "cat__shot_aerial_won_False",
          "cat__shot_aerial_won_False",
          "cat__shot_aerial_won_False",
          "cat__shot_aerial_won_False",
          "cat__shot_aerial_won_False",
          "cat__shot_aerial_won_False",
          "cat__shot_aerial_won_False",
          "cat__shot_aerial_won_False",
          "cat__shot_aerial_won_False",
          "cat__shot_aerial_won_False",
          "cat__shot_aerial_won_False",
          "cat__shot_aerial_won_False",
          "cat__shot_aerial_won_False",
          "cat__shot_aerial_won_False",
          "cat__shot_aerial_won_False",
          "cat__shot_aerial_won_False",
          "cat__shot_aerial_won_False",
          "cat__shot_aerial_won_False",
          "cat__shot_aerial_won_False",
          "cat__shot_aerial_won_False",
          "cat__shot_aerial_won_False",
          "cat__shot_aerial_won_False",
          "cat__shot_aerial_won_False",
          "cat__shot_aerial_won_False",
          "cat__shot_aerial_won_False",
          "cat__shot_aerial_won_False",
          "cat__shot_aerial_won_False",
          "cat__shot_aerial_won_False",
          "cat__shot_aerial_won_False",
          "cat__shot_aerial_won_False",
          "cat__shot_aerial_won_False",
          "cat__key_pass_height_id_1.0",
          "cat__key_pass_height_id_1.0",
          "cat__key_pass_height_id_1.0",
          "cat__key_pass_height_id_1.0",
          "cat__key_pass_height_id_1.0",
          "cat__key_pass_height_id_1.0",
          "cat__key_pass_height_id_1.0",
          "cat__key_pass_height_id_1.0",
          "cat__key_pass_height_id_1.0",
          "cat__key_pass_height_id_1.0",
          "cat__key_pass_height_id_1.0",
          "cat__key_pass_height_id_1.0",
          "cat__key_pass_height_id_1.0",
          "cat__key_pass_height_id_1.0",
          "cat__key_pass_height_id_1.0",
          "cat__key_pass_height_id_1.0",
          "cat__key_pass_height_id_1.0",
          "cat__key_pass_height_id_1.0",
          "cat__key_pass_height_id_1.0",
          "cat__key_pass_height_id_1.0",
          "cat__key_pass_height_id_1.0",
          "cat__key_pass_height_id_1.0",
          "cat__key_pass_height_id_1.0",
          "cat__key_pass_height_id_1.0",
          "cat__key_pass_height_id_1.0",
          "cat__key_pass_height_id_1.0",
          "cat__key_pass_height_id_1.0",
          "cat__key_pass_height_id_1.0",
          "cat__key_pass_height_id_1.0",
          "cat__key_pass_height_id_1.0",
          "cat__key_pass_height_id_1.0",
          "cat__key_pass_height_id_1.0",
          "cat__key_pass_height_id_1.0",
          "cat__key_pass_height_id_1.0",
          "cat__key_pass_height_id_1.0",
          "cat__key_pass_height_id_1.0",
          "cat__key_pass_height_id_1.0",
          "cat__key_pass_height_id_1.0",
          "cat__key_pass_height_id_1.0",
          "cat__key_pass_height_id_1.0",
          "cat__key_pass_height_id_1.0",
          "cat__key_pass_height_id_1.0",
          "cat__key_pass_height_id_1.0",
          "cat__key_pass_height_id_1.0",
          "cat__key_pass_height_id_1.0",
          "cat__key_pass_height_id_1.0",
          "cat__key_pass_height_id_1.0",
          "cat__key_pass_height_id_1.0",
          "cat__key_pass_height_id_1.0",
          "cat__key_pass_height_id_1.0",
          "cat__key_pass_height_id_1.0",
          "cat__key_pass_height_id_1.0",
          "cat__key_pass_height_id_1.0",
          "cat__key_pass_height_id_1.0",
          "cat__key_pass_height_id_1.0",
          "cat__key_pass_height_id_1.0",
          "cat__key_pass_height_id_1.0",
          "cat__key_pass_height_id_1.0",
          "cat__key_pass_height_id_1.0",
          "cat__key_pass_height_id_1.0",
          "cat__key_pass_height_id_1.0",
          "cat__key_pass_height_id_1.0",
          "cat__key_pass_height_id_1.0",
          "cat__key_pass_height_id_1.0",
          "cat__key_pass_height_id_1.0",
          "cat__key_pass_height_id_1.0",
          "cat__key_pass_height_id_1.0",
          "cat__key_pass_height_id_1.0",
          "cat__key_pass_height_id_1.0",
          "cat__key_pass_height_id_1.0",
          "cat__key_pass_height_id_1.0",
          "cat__key_pass_height_id_1.0",
          "cat__key_pass_height_id_1.0",
          "cat__key_pass_height_id_1.0",
          "cat__key_pass_height_id_1.0",
          "cat__key_pass_height_id_1.0",
          "cat__key_pass_height_id_1.0",
          "cat__key_pass_height_id_1.0",
          "cat__key_pass_height_id_1.0",
          "cat__key_pass_height_id_1.0",
          "cat__key_pass_height_id_1.0",
          "cat__key_pass_height_id_1.0",
          "cat__key_pass_height_id_1.0",
          "cat__key_pass_height_id_1.0",
          "cat__key_pass_height_id_1.0",
          "cat__key_pass_height_id_1.0",
          "cat__key_pass_height_id_1.0",
          "cat__key_pass_height_id_1.0",
          "cat__key_pass_height_id_1.0",
          "cat__key_pass_height_id_1.0",
          "cat__key_pass_height_id_1.0",
          "cat__key_pass_height_id_1.0",
          "cat__key_pass_height_id_1.0",
          "cat__key_pass_height_id_1.0",
          "cat__key_pass_height_id_1.0",
          "cat__key_pass_height_id_1.0",
          "cat__key_pass_height_id_1.0",
          "cat__key_pass_height_id_1.0",
          "cat__key_pass_height_id_1.0",
          "cat__key_pass_height_id_1.0",
          "num__key_pass_angle",
          "num__key_pass_angle",
          "num__key_pass_angle",
          "num__key_pass_angle",
          "num__key_pass_angle",
          "num__key_pass_angle",
          "num__key_pass_angle",
          "num__key_pass_angle",
          "num__key_pass_angle",
          "num__key_pass_angle",
          "num__key_pass_angle",
          "num__key_pass_angle",
          "num__key_pass_angle",
          "num__key_pass_angle",
          "num__key_pass_angle",
          "num__key_pass_angle",
          "num__key_pass_angle",
          "num__key_pass_angle",
          "num__key_pass_angle",
          "num__key_pass_angle",
          "num__key_pass_angle",
          "num__key_pass_angle",
          "num__key_pass_angle",
          "num__key_pass_angle",
          "num__key_pass_angle",
          "num__key_pass_angle",
          "num__key_pass_angle",
          "num__key_pass_angle",
          "num__key_pass_angle",
          "num__key_pass_angle",
          "num__key_pass_angle",
          "num__key_pass_angle",
          "num__key_pass_angle",
          "num__key_pass_angle",
          "num__key_pass_angle",
          "num__key_pass_angle",
          "num__key_pass_angle",
          "num__key_pass_angle",
          "num__key_pass_angle",
          "num__key_pass_angle",
          "num__key_pass_angle",
          "num__key_pass_angle",
          "num__key_pass_angle",
          "num__key_pass_angle",
          "num__key_pass_angle",
          "num__key_pass_angle",
          "num__key_pass_angle",
          "num__key_pass_angle",
          "num__key_pass_angle",
          "num__key_pass_angle",
          "num__key_pass_angle",
          "num__key_pass_angle",
          "num__key_pass_angle",
          "num__key_pass_angle",
          "num__key_pass_angle",
          "num__key_pass_angle",
          "num__key_pass_angle",
          "num__key_pass_angle",
          "num__key_pass_angle",
          "num__key_pass_angle",
          "num__key_pass_angle",
          "num__key_pass_angle",
          "num__key_pass_angle",
          "num__key_pass_angle",
          "num__key_pass_angle",
          "num__key_pass_angle",
          "num__key_pass_angle",
          "num__key_pass_angle",
          "num__key_pass_angle",
          "num__key_pass_angle",
          "num__key_pass_angle",
          "num__key_pass_angle",
          "num__key_pass_angle",
          "num__key_pass_angle",
          "num__key_pass_angle",
          "num__key_pass_angle",
          "num__key_pass_angle",
          "num__key_pass_angle",
          "num__key_pass_angle",
          "num__key_pass_angle",
          "num__key_pass_angle",
          "num__key_pass_angle",
          "num__key_pass_angle",
          "num__key_pass_angle",
          "num__key_pass_angle",
          "num__key_pass_angle",
          "num__key_pass_angle",
          "num__key_pass_angle",
          "num__key_pass_angle",
          "num__key_pass_angle",
          "num__key_pass_angle",
          "num__key_pass_angle",
          "num__key_pass_angle",
          "num__key_pass_angle",
          "num__key_pass_angle",
          "num__key_pass_angle",
          "num__key_pass_angle",
          "num__key_pass_angle",
          "num__key_pass_angle",
          "num__key_pass_angle",
          "cat__play_pattern_id_2",
          "cat__play_pattern_id_2",
          "cat__play_pattern_id_2",
          "cat__play_pattern_id_2",
          "cat__play_pattern_id_2",
          "cat__play_pattern_id_2",
          "cat__play_pattern_id_2",
          "cat__play_pattern_id_2",
          "cat__play_pattern_id_2",
          "cat__play_pattern_id_2",
          "cat__play_pattern_id_2",
          "cat__play_pattern_id_2",
          "cat__play_pattern_id_2",
          "cat__play_pattern_id_2",
          "cat__play_pattern_id_2",
          "cat__play_pattern_id_2",
          "cat__play_pattern_id_2",
          "cat__play_pattern_id_2",
          "cat__play_pattern_id_2",
          "cat__play_pattern_id_2",
          "cat__play_pattern_id_2",
          "cat__play_pattern_id_2",
          "cat__play_pattern_id_2",
          "cat__play_pattern_id_2",
          "cat__play_pattern_id_2",
          "cat__play_pattern_id_2",
          "cat__play_pattern_id_2",
          "cat__play_pattern_id_2",
          "cat__play_pattern_id_2",
          "cat__play_pattern_id_2",
          "cat__play_pattern_id_2",
          "cat__play_pattern_id_2",
          "cat__play_pattern_id_2",
          "cat__play_pattern_id_2",
          "cat__play_pattern_id_2",
          "cat__play_pattern_id_2",
          "cat__play_pattern_id_2",
          "cat__play_pattern_id_2",
          "cat__play_pattern_id_2",
          "cat__play_pattern_id_2",
          "cat__play_pattern_id_2",
          "cat__play_pattern_id_2",
          "cat__play_pattern_id_2",
          "cat__play_pattern_id_2",
          "cat__play_pattern_id_2",
          "cat__play_pattern_id_2",
          "cat__play_pattern_id_2",
          "cat__play_pattern_id_2",
          "cat__play_pattern_id_2",
          "cat__play_pattern_id_2",
          "cat__play_pattern_id_2",
          "cat__play_pattern_id_2",
          "cat__play_pattern_id_2",
          "cat__play_pattern_id_2",
          "cat__play_pattern_id_2",
          "cat__play_pattern_id_2",
          "cat__play_pattern_id_2",
          "cat__play_pattern_id_2",
          "cat__play_pattern_id_2",
          "cat__play_pattern_id_2",
          "cat__play_pattern_id_2",
          "cat__play_pattern_id_2",
          "cat__play_pattern_id_2",
          "cat__play_pattern_id_2",
          "cat__play_pattern_id_2",
          "cat__play_pattern_id_2",
          "cat__play_pattern_id_2",
          "cat__play_pattern_id_2",
          "cat__play_pattern_id_2",
          "cat__play_pattern_id_2",
          "cat__play_pattern_id_2",
          "cat__play_pattern_id_2",
          "cat__play_pattern_id_2",
          "cat__play_pattern_id_2",
          "cat__play_pattern_id_2",
          "cat__play_pattern_id_2",
          "cat__play_pattern_id_2",
          "cat__play_pattern_id_2",
          "cat__play_pattern_id_2",
          "cat__play_pattern_id_2",
          "cat__play_pattern_id_2",
          "cat__play_pattern_id_2",
          "cat__play_pattern_id_2",
          "cat__play_pattern_id_2",
          "cat__play_pattern_id_2",
          "cat__play_pattern_id_2",
          "cat__play_pattern_id_2",
          "cat__play_pattern_id_2",
          "cat__play_pattern_id_2",
          "cat__play_pattern_id_2",
          "cat__play_pattern_id_2",
          "cat__play_pattern_id_2",
          "cat__play_pattern_id_2",
          "cat__play_pattern_id_2",
          "cat__play_pattern_id_2",
          "cat__play_pattern_id_2",
          "cat__play_pattern_id_2",
          "cat__play_pattern_id_2",
          "cat__play_pattern_id_2",
          "cat__play_pattern_id_2",
          "num__key_pass_length",
          "num__key_pass_length",
          "num__key_pass_length",
          "num__key_pass_length",
          "num__key_pass_length",
          "num__key_pass_length",
          "num__key_pass_length",
          "num__key_pass_length",
          "num__key_pass_length",
          "num__key_pass_length",
          "num__key_pass_length",
          "num__key_pass_length",
          "num__key_pass_length",
          "num__key_pass_length",
          "num__key_pass_length",
          "num__key_pass_length",
          "num__key_pass_length",
          "num__key_pass_length",
          "num__key_pass_length",
          "num__key_pass_length",
          "num__key_pass_length",
          "num__key_pass_length",
          "num__key_pass_length",
          "num__key_pass_length",
          "num__key_pass_length",
          "num__key_pass_length",
          "num__key_pass_length",
          "num__key_pass_length",
          "num__key_pass_length",
          "num__key_pass_length",
          "num__key_pass_length",
          "num__key_pass_length",
          "num__key_pass_length",
          "num__key_pass_length",
          "num__key_pass_length",
          "num__key_pass_length",
          "num__key_pass_length",
          "num__key_pass_length",
          "num__key_pass_length",
          "num__key_pass_length",
          "num__key_pass_length",
          "num__key_pass_length",
          "num__key_pass_length",
          "num__key_pass_length",
          "num__key_pass_length",
          "num__key_pass_length",
          "num__key_pass_length",
          "num__key_pass_length",
          "num__key_pass_length",
          "num__key_pass_length",
          "num__key_pass_length",
          "num__key_pass_length",
          "num__key_pass_length",
          "num__key_pass_length",
          "num__key_pass_length",
          "num__key_pass_length",
          "num__key_pass_length",
          "num__key_pass_length",
          "num__key_pass_length",
          "num__key_pass_length",
          "num__key_pass_length",
          "num__key_pass_length",
          "num__key_pass_length",
          "num__key_pass_length",
          "num__key_pass_length",
          "num__key_pass_length",
          "num__key_pass_length",
          "num__key_pass_length",
          "num__key_pass_length",
          "num__key_pass_length",
          "num__key_pass_length",
          "num__key_pass_length",
          "num__key_pass_length",
          "num__key_pass_length",
          "num__key_pass_length",
          "num__key_pass_length",
          "num__key_pass_length",
          "num__key_pass_length",
          "num__key_pass_length",
          "num__key_pass_length",
          "num__key_pass_length",
          "num__key_pass_length",
          "num__key_pass_length",
          "num__key_pass_length",
          "num__key_pass_length",
          "num__key_pass_length",
          "num__key_pass_length",
          "num__key_pass_length",
          "num__key_pass_length",
          "num__key_pass_length",
          "num__key_pass_length",
          "num__key_pass_length",
          "num__key_pass_length",
          "num__key_pass_length",
          "num__key_pass_length",
          "num__key_pass_length",
          "num__key_pass_length",
          "num__key_pass_length",
          "num__key_pass_length",
          "num__key_pass_length",
          "cat__key_pass_height_id_3.0",
          "cat__key_pass_height_id_3.0",
          "cat__key_pass_height_id_3.0",
          "cat__key_pass_height_id_3.0",
          "cat__key_pass_height_id_3.0",
          "cat__key_pass_height_id_3.0",
          "cat__key_pass_height_id_3.0",
          "cat__key_pass_height_id_3.0",
          "cat__key_pass_height_id_3.0",
          "cat__key_pass_height_id_3.0",
          "cat__key_pass_height_id_3.0",
          "cat__key_pass_height_id_3.0",
          "cat__key_pass_height_id_3.0",
          "cat__key_pass_height_id_3.0",
          "cat__key_pass_height_id_3.0",
          "cat__key_pass_height_id_3.0",
          "cat__key_pass_height_id_3.0",
          "cat__key_pass_height_id_3.0",
          "cat__key_pass_height_id_3.0",
          "cat__key_pass_height_id_3.0",
          "cat__key_pass_height_id_3.0",
          "cat__key_pass_height_id_3.0",
          "cat__key_pass_height_id_3.0",
          "cat__key_pass_height_id_3.0",
          "cat__key_pass_height_id_3.0",
          "cat__key_pass_height_id_3.0",
          "cat__key_pass_height_id_3.0",
          "cat__key_pass_height_id_3.0",
          "cat__key_pass_height_id_3.0",
          "cat__key_pass_height_id_3.0",
          "cat__key_pass_height_id_3.0",
          "cat__key_pass_height_id_3.0",
          "cat__key_pass_height_id_3.0",
          "cat__key_pass_height_id_3.0",
          "cat__key_pass_height_id_3.0",
          "cat__key_pass_height_id_3.0",
          "cat__key_pass_height_id_3.0",
          "cat__key_pass_height_id_3.0",
          "cat__key_pass_height_id_3.0",
          "cat__key_pass_height_id_3.0",
          "cat__key_pass_height_id_3.0",
          "cat__key_pass_height_id_3.0",
          "cat__key_pass_height_id_3.0",
          "cat__key_pass_height_id_3.0",
          "cat__key_pass_height_id_3.0",
          "cat__key_pass_height_id_3.0",
          "cat__key_pass_height_id_3.0",
          "cat__key_pass_height_id_3.0",
          "cat__key_pass_height_id_3.0",
          "cat__key_pass_height_id_3.0",
          "cat__key_pass_height_id_3.0",
          "cat__key_pass_height_id_3.0",
          "cat__key_pass_height_id_3.0",
          "cat__key_pass_height_id_3.0",
          "cat__key_pass_height_id_3.0",
          "cat__key_pass_height_id_3.0",
          "cat__key_pass_height_id_3.0",
          "cat__key_pass_height_id_3.0",
          "cat__key_pass_height_id_3.0",
          "cat__key_pass_height_id_3.0",
          "cat__key_pass_height_id_3.0",
          "cat__key_pass_height_id_3.0",
          "cat__key_pass_height_id_3.0",
          "cat__key_pass_height_id_3.0",
          "cat__key_pass_height_id_3.0",
          "cat__key_pass_height_id_3.0",
          "cat__key_pass_height_id_3.0",
          "cat__key_pass_height_id_3.0",
          "cat__key_pass_height_id_3.0",
          "cat__key_pass_height_id_3.0",
          "cat__key_pass_height_id_3.0",
          "cat__key_pass_height_id_3.0",
          "cat__key_pass_height_id_3.0",
          "cat__key_pass_height_id_3.0",
          "cat__key_pass_height_id_3.0",
          "cat__key_pass_height_id_3.0",
          "cat__key_pass_height_id_3.0",
          "cat__key_pass_height_id_3.0",
          "cat__key_pass_height_id_3.0",
          "cat__key_pass_height_id_3.0",
          "cat__key_pass_height_id_3.0",
          "cat__key_pass_height_id_3.0",
          "cat__key_pass_height_id_3.0",
          "cat__key_pass_height_id_3.0",
          "cat__key_pass_height_id_3.0",
          "cat__key_pass_height_id_3.0",
          "cat__key_pass_height_id_3.0",
          "cat__key_pass_height_id_3.0",
          "cat__key_pass_height_id_3.0",
          "cat__key_pass_height_id_3.0",
          "cat__key_pass_height_id_3.0",
          "cat__key_pass_height_id_3.0",
          "cat__key_pass_height_id_3.0",
          "cat__key_pass_height_id_3.0",
          "cat__key_pass_height_id_3.0",
          "cat__key_pass_height_id_3.0",
          "cat__key_pass_height_id_3.0",
          "cat__key_pass_height_id_3.0",
          "cat__key_pass_height_id_3.0",
          "cat__key_pass_height_id_3.0",
          "cat__key_pass_angle_bucket_Forward",
          "cat__key_pass_angle_bucket_Forward",
          "cat__key_pass_angle_bucket_Forward",
          "cat__key_pass_angle_bucket_Forward",
          "cat__key_pass_angle_bucket_Forward",
          "cat__key_pass_angle_bucket_Forward",
          "cat__key_pass_angle_bucket_Forward",
          "cat__key_pass_angle_bucket_Forward",
          "cat__key_pass_angle_bucket_Forward",
          "cat__key_pass_angle_bucket_Forward",
          "cat__key_pass_angle_bucket_Forward",
          "cat__key_pass_angle_bucket_Forward",
          "cat__key_pass_angle_bucket_Forward",
          "cat__key_pass_angle_bucket_Forward",
          "cat__key_pass_angle_bucket_Forward",
          "cat__key_pass_angle_bucket_Forward",
          "cat__key_pass_angle_bucket_Forward",
          "cat__key_pass_angle_bucket_Forward",
          "cat__key_pass_angle_bucket_Forward",
          "cat__key_pass_angle_bucket_Forward",
          "cat__key_pass_angle_bucket_Forward",
          "cat__key_pass_angle_bucket_Forward",
          "cat__key_pass_angle_bucket_Forward",
          "cat__key_pass_angle_bucket_Forward",
          "cat__key_pass_angle_bucket_Forward",
          "cat__key_pass_angle_bucket_Forward",
          "cat__key_pass_angle_bucket_Forward",
          "cat__key_pass_angle_bucket_Forward",
          "cat__key_pass_angle_bucket_Forward",
          "cat__key_pass_angle_bucket_Forward",
          "cat__key_pass_angle_bucket_Forward",
          "cat__key_pass_angle_bucket_Forward",
          "cat__key_pass_angle_bucket_Forward",
          "cat__key_pass_angle_bucket_Forward",
          "cat__key_pass_angle_bucket_Forward",
          "cat__key_pass_angle_bucket_Forward",
          "cat__key_pass_angle_bucket_Forward",
          "cat__key_pass_angle_bucket_Forward",
          "cat__key_pass_angle_bucket_Forward",
          "cat__key_pass_angle_bucket_Forward",
          "cat__key_pass_angle_bucket_Forward",
          "cat__key_pass_angle_bucket_Forward",
          "cat__key_pass_angle_bucket_Forward",
          "cat__key_pass_angle_bucket_Forward",
          "cat__key_pass_angle_bucket_Forward",
          "cat__key_pass_angle_bucket_Forward",
          "cat__key_pass_angle_bucket_Forward",
          "cat__key_pass_angle_bucket_Forward",
          "cat__key_pass_angle_bucket_Forward",
          "cat__key_pass_angle_bucket_Forward",
          "cat__key_pass_angle_bucket_Forward",
          "cat__key_pass_angle_bucket_Forward",
          "cat__key_pass_angle_bucket_Forward",
          "cat__key_pass_angle_bucket_Forward",
          "cat__key_pass_angle_bucket_Forward",
          "cat__key_pass_angle_bucket_Forward",
          "cat__key_pass_angle_bucket_Forward",
          "cat__key_pass_angle_bucket_Forward",
          "cat__key_pass_angle_bucket_Forward",
          "cat__key_pass_angle_bucket_Forward",
          "cat__key_pass_angle_bucket_Forward",
          "cat__key_pass_angle_bucket_Forward",
          "cat__key_pass_angle_bucket_Forward",
          "cat__key_pass_angle_bucket_Forward",
          "cat__key_pass_angle_bucket_Forward",
          "cat__key_pass_angle_bucket_Forward",
          "cat__key_pass_angle_bucket_Forward",
          "cat__key_pass_angle_bucket_Forward",
          "cat__key_pass_angle_bucket_Forward",
          "cat__key_pass_angle_bucket_Forward",
          "cat__key_pass_angle_bucket_Forward",
          "cat__key_pass_angle_bucket_Forward",
          "cat__key_pass_angle_bucket_Forward",
          "cat__key_pass_angle_bucket_Forward",
          "cat__key_pass_angle_bucket_Forward",
          "cat__key_pass_angle_bucket_Forward",
          "cat__key_pass_angle_bucket_Forward",
          "cat__key_pass_angle_bucket_Forward",
          "cat__key_pass_angle_bucket_Forward",
          "cat__key_pass_angle_bucket_Forward",
          "cat__key_pass_angle_bucket_Forward",
          "cat__key_pass_angle_bucket_Forward",
          "cat__key_pass_angle_bucket_Forward",
          "cat__key_pass_angle_bucket_Forward",
          "cat__key_pass_angle_bucket_Forward",
          "cat__key_pass_angle_bucket_Forward",
          "cat__key_pass_angle_bucket_Forward",
          "cat__key_pass_angle_bucket_Forward",
          "cat__key_pass_angle_bucket_Forward",
          "cat__key_pass_angle_bucket_Forward",
          "cat__key_pass_angle_bucket_Forward",
          "cat__key_pass_angle_bucket_Forward",
          "cat__key_pass_angle_bucket_Forward",
          "cat__key_pass_angle_bucket_Forward",
          "cat__key_pass_angle_bucket_Forward",
          "cat__key_pass_angle_bucket_Forward",
          "cat__key_pass_angle_bucket_Forward",
          "cat__key_pass_angle_bucket_Forward",
          "cat__key_pass_angle_bucket_Forward",
          "cat__key_pass_angle_bucket_Forward",
          "cat__shot_technique_id_92.0",
          "cat__shot_technique_id_92.0",
          "cat__shot_technique_id_92.0",
          "cat__shot_technique_id_92.0",
          "cat__shot_technique_id_92.0",
          "cat__shot_technique_id_92.0",
          "cat__shot_technique_id_92.0",
          "cat__shot_technique_id_92.0",
          "cat__shot_technique_id_92.0",
          "cat__shot_technique_id_92.0",
          "cat__shot_technique_id_92.0",
          "cat__shot_technique_id_92.0",
          "cat__shot_technique_id_92.0",
          "cat__shot_technique_id_92.0",
          "cat__shot_technique_id_92.0",
          "cat__shot_technique_id_92.0",
          "cat__shot_technique_id_92.0",
          "cat__shot_technique_id_92.0",
          "cat__shot_technique_id_92.0",
          "cat__shot_technique_id_92.0",
          "cat__shot_technique_id_92.0",
          "cat__shot_technique_id_92.0",
          "cat__shot_technique_id_92.0",
          "cat__shot_technique_id_92.0",
          "cat__shot_technique_id_92.0",
          "cat__shot_technique_id_92.0",
          "cat__shot_technique_id_92.0",
          "cat__shot_technique_id_92.0",
          "cat__shot_technique_id_92.0",
          "cat__shot_technique_id_92.0",
          "cat__shot_technique_id_92.0",
          "cat__shot_technique_id_92.0",
          "cat__shot_technique_id_92.0",
          "cat__shot_technique_id_92.0",
          "cat__shot_technique_id_92.0",
          "cat__shot_technique_id_92.0",
          "cat__shot_technique_id_92.0",
          "cat__shot_technique_id_92.0",
          "cat__shot_technique_id_92.0",
          "cat__shot_technique_id_92.0",
          "cat__shot_technique_id_92.0",
          "cat__shot_technique_id_92.0",
          "cat__shot_technique_id_92.0",
          "cat__shot_technique_id_92.0",
          "cat__shot_technique_id_92.0",
          "cat__shot_technique_id_92.0",
          "cat__shot_technique_id_92.0",
          "cat__shot_technique_id_92.0",
          "cat__shot_technique_id_92.0",
          "cat__shot_technique_id_92.0",
          "cat__shot_technique_id_92.0",
          "cat__shot_technique_id_92.0",
          "cat__shot_technique_id_92.0",
          "cat__shot_technique_id_92.0",
          "cat__shot_technique_id_92.0",
          "cat__shot_technique_id_92.0",
          "cat__shot_technique_id_92.0",
          "cat__shot_technique_id_92.0",
          "cat__shot_technique_id_92.0",
          "cat__shot_technique_id_92.0",
          "cat__shot_technique_id_92.0",
          "cat__shot_technique_id_92.0",
          "cat__shot_technique_id_92.0",
          "cat__shot_technique_id_92.0",
          "cat__shot_technique_id_92.0",
          "cat__shot_technique_id_92.0",
          "cat__shot_technique_id_92.0",
          "cat__shot_technique_id_92.0",
          "cat__shot_technique_id_92.0",
          "cat__shot_technique_id_92.0",
          "cat__shot_technique_id_92.0",
          "cat__shot_technique_id_92.0",
          "cat__shot_technique_id_92.0",
          "cat__shot_technique_id_92.0",
          "cat__shot_technique_id_92.0",
          "cat__shot_technique_id_92.0",
          "cat__shot_technique_id_92.0",
          "cat__shot_technique_id_92.0",
          "cat__shot_technique_id_92.0",
          "cat__shot_technique_id_92.0",
          "cat__shot_technique_id_92.0",
          "cat__shot_technique_id_92.0",
          "cat__shot_technique_id_92.0",
          "cat__shot_technique_id_92.0",
          "cat__shot_technique_id_92.0",
          "cat__shot_technique_id_92.0",
          "cat__shot_technique_id_92.0",
          "cat__shot_technique_id_92.0",
          "cat__shot_technique_id_92.0",
          "cat__shot_technique_id_92.0",
          "cat__shot_technique_id_92.0",
          "cat__shot_technique_id_92.0",
          "cat__shot_technique_id_92.0",
          "cat__shot_technique_id_92.0",
          "cat__shot_technique_id_92.0",
          "cat__shot_technique_id_92.0",
          "cat__shot_technique_id_92.0",
          "cat__shot_technique_id_92.0",
          "cat__shot_technique_id_92.0",
          "cat__shot_technique_id_92.0",
          "cat__under_pressure_False",
          "cat__under_pressure_False",
          "cat__under_pressure_False",
          "cat__under_pressure_False",
          "cat__under_pressure_False",
          "cat__under_pressure_False",
          "cat__under_pressure_False",
          "cat__under_pressure_False",
          "cat__under_pressure_False",
          "cat__under_pressure_False",
          "cat__under_pressure_False",
          "cat__under_pressure_False",
          "cat__under_pressure_False",
          "cat__under_pressure_False",
          "cat__under_pressure_False",
          "cat__under_pressure_False",
          "cat__under_pressure_False",
          "cat__under_pressure_False",
          "cat__under_pressure_False",
          "cat__under_pressure_False",
          "cat__under_pressure_False",
          "cat__under_pressure_False",
          "cat__under_pressure_False",
          "cat__under_pressure_False",
          "cat__under_pressure_False",
          "cat__under_pressure_False",
          "cat__under_pressure_False",
          "cat__under_pressure_False",
          "cat__under_pressure_False",
          "cat__under_pressure_False",
          "cat__under_pressure_False",
          "cat__under_pressure_False",
          "cat__under_pressure_False",
          "cat__under_pressure_False",
          "cat__under_pressure_False",
          "cat__under_pressure_False",
          "cat__under_pressure_False",
          "cat__under_pressure_False",
          "cat__under_pressure_False",
          "cat__under_pressure_False",
          "cat__under_pressure_False",
          "cat__under_pressure_False",
          "cat__under_pressure_False",
          "cat__under_pressure_False",
          "cat__under_pressure_False",
          "cat__under_pressure_False",
          "cat__under_pressure_False",
          "cat__under_pressure_False",
          "cat__under_pressure_False",
          "cat__under_pressure_False",
          "cat__under_pressure_False",
          "cat__under_pressure_False",
          "cat__under_pressure_False",
          "cat__under_pressure_False",
          "cat__under_pressure_False",
          "cat__under_pressure_False",
          "cat__under_pressure_False",
          "cat__under_pressure_False",
          "cat__under_pressure_False",
          "cat__under_pressure_False",
          "cat__under_pressure_False",
          "cat__under_pressure_False",
          "cat__under_pressure_False",
          "cat__under_pressure_False",
          "cat__under_pressure_False",
          "cat__under_pressure_False",
          "cat__under_pressure_False",
          "cat__under_pressure_False",
          "cat__under_pressure_False",
          "cat__under_pressure_False",
          "cat__under_pressure_False",
          "cat__under_pressure_False",
          "cat__under_pressure_False",
          "cat__under_pressure_False",
          "cat__under_pressure_False",
          "cat__under_pressure_False",
          "cat__under_pressure_False",
          "cat__under_pressure_False",
          "cat__under_pressure_False",
          "cat__under_pressure_False",
          "cat__under_pressure_False",
          "cat__under_pressure_False",
          "cat__under_pressure_False",
          "cat__under_pressure_False",
          "cat__under_pressure_False",
          "cat__under_pressure_False",
          "cat__under_pressure_False",
          "cat__under_pressure_False",
          "cat__under_pressure_False",
          "cat__under_pressure_False",
          "cat__under_pressure_False",
          "cat__under_pressure_False",
          "cat__under_pressure_False",
          "cat__under_pressure_False",
          "cat__under_pressure_False",
          "cat__under_pressure_False",
          "cat__under_pressure_False",
          "cat__under_pressure_False",
          "cat__under_pressure_False",
          "cat__under_pressure_False",
          "cat__play_pattern_id_1",
          "cat__play_pattern_id_1",
          "cat__play_pattern_id_1",
          "cat__play_pattern_id_1",
          "cat__play_pattern_id_1",
          "cat__play_pattern_id_1",
          "cat__play_pattern_id_1",
          "cat__play_pattern_id_1",
          "cat__play_pattern_id_1",
          "cat__play_pattern_id_1",
          "cat__play_pattern_id_1",
          "cat__play_pattern_id_1",
          "cat__play_pattern_id_1",
          "cat__play_pattern_id_1",
          "cat__play_pattern_id_1",
          "cat__play_pattern_id_1",
          "cat__play_pattern_id_1",
          "cat__play_pattern_id_1",
          "cat__play_pattern_id_1",
          "cat__play_pattern_id_1",
          "cat__play_pattern_id_1",
          "cat__play_pattern_id_1",
          "cat__play_pattern_id_1",
          "cat__play_pattern_id_1",
          "cat__play_pattern_id_1",
          "cat__play_pattern_id_1",
          "cat__play_pattern_id_1",
          "cat__play_pattern_id_1",
          "cat__play_pattern_id_1",
          "cat__play_pattern_id_1",
          "cat__play_pattern_id_1",
          "cat__play_pattern_id_1",
          "cat__play_pattern_id_1",
          "cat__play_pattern_id_1",
          "cat__play_pattern_id_1",
          "cat__play_pattern_id_1",
          "cat__play_pattern_id_1",
          "cat__play_pattern_id_1",
          "cat__play_pattern_id_1",
          "cat__play_pattern_id_1",
          "cat__play_pattern_id_1",
          "cat__play_pattern_id_1",
          "cat__play_pattern_id_1",
          "cat__play_pattern_id_1",
          "cat__play_pattern_id_1",
          "cat__play_pattern_id_1",
          "cat__play_pattern_id_1",
          "cat__play_pattern_id_1",
          "cat__play_pattern_id_1",
          "cat__play_pattern_id_1",
          "cat__play_pattern_id_1",
          "cat__play_pattern_id_1",
          "cat__play_pattern_id_1",
          "cat__play_pattern_id_1",
          "cat__play_pattern_id_1",
          "cat__play_pattern_id_1",
          "cat__play_pattern_id_1",
          "cat__play_pattern_id_1",
          "cat__play_pattern_id_1",
          "cat__play_pattern_id_1",
          "cat__play_pattern_id_1",
          "cat__play_pattern_id_1",
          "cat__play_pattern_id_1",
          "cat__play_pattern_id_1",
          "cat__play_pattern_id_1",
          "cat__play_pattern_id_1",
          "cat__play_pattern_id_1",
          "cat__play_pattern_id_1",
          "cat__play_pattern_id_1",
          "cat__play_pattern_id_1",
          "cat__play_pattern_id_1",
          "cat__play_pattern_id_1",
          "cat__play_pattern_id_1",
          "cat__play_pattern_id_1",
          "cat__play_pattern_id_1",
          "cat__play_pattern_id_1",
          "cat__play_pattern_id_1",
          "cat__play_pattern_id_1",
          "cat__play_pattern_id_1",
          "cat__play_pattern_id_1",
          "cat__play_pattern_id_1",
          "cat__play_pattern_id_1",
          "cat__play_pattern_id_1",
          "cat__play_pattern_id_1",
          "cat__play_pattern_id_1",
          "cat__play_pattern_id_1",
          "cat__play_pattern_id_1",
          "cat__play_pattern_id_1",
          "cat__play_pattern_id_1",
          "cat__play_pattern_id_1",
          "cat__play_pattern_id_1",
          "cat__play_pattern_id_1",
          "cat__play_pattern_id_1",
          "cat__play_pattern_id_1",
          "cat__play_pattern_id_1",
          "cat__play_pattern_id_1",
          "cat__play_pattern_id_1",
          "cat__play_pattern_id_1",
          "cat__play_pattern_id_1",
          "cat__play_pattern_id_1",
          "num__angle_to_goal_squared",
          "num__angle_to_goal_squared",
          "num__angle_to_goal_squared",
          "num__angle_to_goal_squared",
          "num__angle_to_goal_squared",
          "num__angle_to_goal_squared",
          "num__angle_to_goal_squared",
          "num__angle_to_goal_squared",
          "num__angle_to_goal_squared",
          "num__angle_to_goal_squared",
          "num__angle_to_goal_squared",
          "num__angle_to_goal_squared",
          "num__angle_to_goal_squared",
          "num__angle_to_goal_squared",
          "num__angle_to_goal_squared",
          "num__angle_to_goal_squared",
          "num__angle_to_goal_squared",
          "num__angle_to_goal_squared",
          "num__angle_to_goal_squared",
          "num__angle_to_goal_squared",
          "num__angle_to_goal_squared",
          "num__angle_to_goal_squared",
          "num__angle_to_goal_squared",
          "num__angle_to_goal_squared",
          "num__angle_to_goal_squared",
          "num__angle_to_goal_squared",
          "num__angle_to_goal_squared",
          "num__angle_to_goal_squared",
          "num__angle_to_goal_squared",
          "num__angle_to_goal_squared",
          "num__angle_to_goal_squared",
          "num__angle_to_goal_squared",
          "num__angle_to_goal_squared",
          "num__angle_to_goal_squared",
          "num__angle_to_goal_squared",
          "num__angle_to_goal_squared",
          "num__angle_to_goal_squared",
          "num__angle_to_goal_squared",
          "num__angle_to_goal_squared",
          "num__angle_to_goal_squared",
          "num__angle_to_goal_squared",
          "num__angle_to_goal_squared",
          "num__angle_to_goal_squared",
          "num__angle_to_goal_squared",
          "num__angle_to_goal_squared",
          "num__angle_to_goal_squared",
          "num__angle_to_goal_squared",
          "num__angle_to_goal_squared",
          "num__angle_to_goal_squared",
          "num__angle_to_goal_squared",
          "num__angle_to_goal_squared",
          "num__angle_to_goal_squared",
          "num__angle_to_goal_squared",
          "num__angle_to_goal_squared",
          "num__angle_to_goal_squared",
          "num__angle_to_goal_squared",
          "num__angle_to_goal_squared",
          "num__angle_to_goal_squared",
          "num__angle_to_goal_squared",
          "num__angle_to_goal_squared",
          "num__angle_to_goal_squared",
          "num__angle_to_goal_squared",
          "num__angle_to_goal_squared",
          "num__angle_to_goal_squared",
          "num__angle_to_goal_squared",
          "num__angle_to_goal_squared",
          "num__angle_to_goal_squared",
          "num__angle_to_goal_squared",
          "num__angle_to_goal_squared",
          "num__angle_to_goal_squared",
          "num__angle_to_goal_squared",
          "num__angle_to_goal_squared",
          "num__angle_to_goal_squared",
          "num__angle_to_goal_squared",
          "num__angle_to_goal_squared",
          "num__angle_to_goal_squared",
          "num__angle_to_goal_squared",
          "num__angle_to_goal_squared",
          "num__angle_to_goal_squared",
          "num__angle_to_goal_squared",
          "num__angle_to_goal_squared",
          "num__angle_to_goal_squared",
          "num__angle_to_goal_squared",
          "num__angle_to_goal_squared",
          "num__angle_to_goal_squared",
          "num__angle_to_goal_squared",
          "num__angle_to_goal_squared",
          "num__angle_to_goal_squared",
          "num__angle_to_goal_squared",
          "num__angle_to_goal_squared",
          "num__angle_to_goal_squared",
          "num__angle_to_goal_squared",
          "num__angle_to_goal_squared",
          "num__angle_to_goal_squared",
          "num__angle_to_goal_squared",
          "num__angle_to_goal_squared",
          "num__angle_to_goal_squared",
          "num__angle_to_goal_squared",
          "num__angle_to_goal_squared",
          "num__angle_to_goal_squared"
         ],
         "y0": " ",
         "yaxis": "y"
        }
       ],
       "layout": {
        "height": 600,
        "legend": {
         "tracegroupgap": 0
        },
        "margin": {
         "b": 20,
         "l": 150,
         "r": 20,
         "t": 50
        },
        "template": {
         "data": {
          "bar": [
           {
            "error_x": {
             "color": "#2a3f5f"
            },
            "error_y": {
             "color": "#2a3f5f"
            },
            "marker": {
             "line": {
              "color": "#E5ECF6",
              "width": 0.5
             },
             "pattern": {
              "fillmode": "overlay",
              "size": 10,
              "solidity": 0.2
             }
            },
            "type": "bar"
           }
          ],
          "barpolar": [
           {
            "marker": {
             "line": {
              "color": "#E5ECF6",
              "width": 0.5
             },
             "pattern": {
              "fillmode": "overlay",
              "size": 10,
              "solidity": 0.2
             }
            },
            "type": "barpolar"
           }
          ],
          "carpet": [
           {
            "aaxis": {
             "endlinecolor": "#2a3f5f",
             "gridcolor": "white",
             "linecolor": "white",
             "minorgridcolor": "white",
             "startlinecolor": "#2a3f5f"
            },
            "baxis": {
             "endlinecolor": "#2a3f5f",
             "gridcolor": "white",
             "linecolor": "white",
             "minorgridcolor": "white",
             "startlinecolor": "#2a3f5f"
            },
            "type": "carpet"
           }
          ],
          "choropleth": [
           {
            "colorbar": {
             "outlinewidth": 0,
             "ticks": ""
            },
            "type": "choropleth"
           }
          ],
          "contour": [
           {
            "colorbar": {
             "outlinewidth": 0,
             "ticks": ""
            },
            "colorscale": [
             [
              0,
              "#0d0887"
             ],
             [
              0.1111111111111111,
              "#46039f"
             ],
             [
              0.2222222222222222,
              "#7201a8"
             ],
             [
              0.3333333333333333,
              "#9c179e"
             ],
             [
              0.4444444444444444,
              "#bd3786"
             ],
             [
              0.5555555555555556,
              "#d8576b"
             ],
             [
              0.6666666666666666,
              "#ed7953"
             ],
             [
              0.7777777777777778,
              "#fb9f3a"
             ],
             [
              0.8888888888888888,
              "#fdca26"
             ],
             [
              1,
              "#f0f921"
             ]
            ],
            "type": "contour"
           }
          ],
          "contourcarpet": [
           {
            "colorbar": {
             "outlinewidth": 0,
             "ticks": ""
            },
            "type": "contourcarpet"
           }
          ],
          "heatmap": [
           {
            "colorbar": {
             "outlinewidth": 0,
             "ticks": ""
            },
            "colorscale": [
             [
              0,
              "#0d0887"
             ],
             [
              0.1111111111111111,
              "#46039f"
             ],
             [
              0.2222222222222222,
              "#7201a8"
             ],
             [
              0.3333333333333333,
              "#9c179e"
             ],
             [
              0.4444444444444444,
              "#bd3786"
             ],
             [
              0.5555555555555556,
              "#d8576b"
             ],
             [
              0.6666666666666666,
              "#ed7953"
             ],
             [
              0.7777777777777778,
              "#fb9f3a"
             ],
             [
              0.8888888888888888,
              "#fdca26"
             ],
             [
              1,
              "#f0f921"
             ]
            ],
            "type": "heatmap"
           }
          ],
          "histogram": [
           {
            "marker": {
             "pattern": {
              "fillmode": "overlay",
              "size": 10,
              "solidity": 0.2
             }
            },
            "type": "histogram"
           }
          ],
          "histogram2d": [
           {
            "colorbar": {
             "outlinewidth": 0,
             "ticks": ""
            },
            "colorscale": [
             [
              0,
              "#0d0887"
             ],
             [
              0.1111111111111111,
              "#46039f"
             ],
             [
              0.2222222222222222,
              "#7201a8"
             ],
             [
              0.3333333333333333,
              "#9c179e"
             ],
             [
              0.4444444444444444,
              "#bd3786"
             ],
             [
              0.5555555555555556,
              "#d8576b"
             ],
             [
              0.6666666666666666,
              "#ed7953"
             ],
             [
              0.7777777777777778,
              "#fb9f3a"
             ],
             [
              0.8888888888888888,
              "#fdca26"
             ],
             [
              1,
              "#f0f921"
             ]
            ],
            "type": "histogram2d"
           }
          ],
          "histogram2dcontour": [
           {
            "colorbar": {
             "outlinewidth": 0,
             "ticks": ""
            },
            "colorscale": [
             [
              0,
              "#0d0887"
             ],
             [
              0.1111111111111111,
              "#46039f"
             ],
             [
              0.2222222222222222,
              "#7201a8"
             ],
             [
              0.3333333333333333,
              "#9c179e"
             ],
             [
              0.4444444444444444,
              "#bd3786"
             ],
             [
              0.5555555555555556,
              "#d8576b"
             ],
             [
              0.6666666666666666,
              "#ed7953"
             ],
             [
              0.7777777777777778,
              "#fb9f3a"
             ],
             [
              0.8888888888888888,
              "#fdca26"
             ],
             [
              1,
              "#f0f921"
             ]
            ],
            "type": "histogram2dcontour"
           }
          ],
          "mesh3d": [
           {
            "colorbar": {
             "outlinewidth": 0,
             "ticks": ""
            },
            "type": "mesh3d"
           }
          ],
          "parcoords": [
           {
            "line": {
             "colorbar": {
              "outlinewidth": 0,
              "ticks": ""
             }
            },
            "type": "parcoords"
           }
          ],
          "pie": [
           {
            "automargin": true,
            "type": "pie"
           }
          ],
          "scatter": [
           {
            "fillpattern": {
             "fillmode": "overlay",
             "size": 10,
             "solidity": 0.2
            },
            "type": "scatter"
           }
          ],
          "scatter3d": [
           {
            "line": {
             "colorbar": {
              "outlinewidth": 0,
              "ticks": ""
             }
            },
            "marker": {
             "colorbar": {
              "outlinewidth": 0,
              "ticks": ""
             }
            },
            "type": "scatter3d"
           }
          ],
          "scattercarpet": [
           {
            "marker": {
             "colorbar": {
              "outlinewidth": 0,
              "ticks": ""
             }
            },
            "type": "scattercarpet"
           }
          ],
          "scattergeo": [
           {
            "marker": {
             "colorbar": {
              "outlinewidth": 0,
              "ticks": ""
             }
            },
            "type": "scattergeo"
           }
          ],
          "scattergl": [
           {
            "marker": {
             "colorbar": {
              "outlinewidth": 0,
              "ticks": ""
             }
            },
            "type": "scattergl"
           }
          ],
          "scattermap": [
           {
            "marker": {
             "colorbar": {
              "outlinewidth": 0,
              "ticks": ""
             }
            },
            "type": "scattermap"
           }
          ],
          "scattermapbox": [
           {
            "marker": {
             "colorbar": {
              "outlinewidth": 0,
              "ticks": ""
             }
            },
            "type": "scattermapbox"
           }
          ],
          "scatterpolar": [
           {
            "marker": {
             "colorbar": {
              "outlinewidth": 0,
              "ticks": ""
             }
            },
            "type": "scatterpolar"
           }
          ],
          "scatterpolargl": [
           {
            "marker": {
             "colorbar": {
              "outlinewidth": 0,
              "ticks": ""
             }
            },
            "type": "scatterpolargl"
           }
          ],
          "scatterternary": [
           {
            "marker": {
             "colorbar": {
              "outlinewidth": 0,
              "ticks": ""
             }
            },
            "type": "scatterternary"
           }
          ],
          "surface": [
           {
            "colorbar": {
             "outlinewidth": 0,
             "ticks": ""
            },
            "colorscale": [
             [
              0,
              "#0d0887"
             ],
             [
              0.1111111111111111,
              "#46039f"
             ],
             [
              0.2222222222222222,
              "#7201a8"
             ],
             [
              0.3333333333333333,
              "#9c179e"
             ],
             [
              0.4444444444444444,
              "#bd3786"
             ],
             [
              0.5555555555555556,
              "#d8576b"
             ],
             [
              0.6666666666666666,
              "#ed7953"
             ],
             [
              0.7777777777777778,
              "#fb9f3a"
             ],
             [
              0.8888888888888888,
              "#fdca26"
             ],
             [
              1,
              "#f0f921"
             ]
            ],
            "type": "surface"
           }
          ],
          "table": [
           {
            "cells": {
             "fill": {
              "color": "#EBF0F8"
             },
             "line": {
              "color": "white"
             }
            },
            "header": {
             "fill": {
              "color": "#C8D4E3"
             },
             "line": {
              "color": "white"
             }
            },
            "type": "table"
           }
          ]
         },
         "layout": {
          "annotationdefaults": {
           "arrowcolor": "#2a3f5f",
           "arrowhead": 0,
           "arrowwidth": 1
          },
          "autotypenumbers": "strict",
          "coloraxis": {
           "colorbar": {
            "outlinewidth": 0,
            "ticks": ""
           }
          },
          "colorscale": {
           "diverging": [
            [
             0,
             "#8e0152"
            ],
            [
             0.1,
             "#c51b7d"
            ],
            [
             0.2,
             "#de77ae"
            ],
            [
             0.3,
             "#f1b6da"
            ],
            [
             0.4,
             "#fde0ef"
            ],
            [
             0.5,
             "#f7f7f7"
            ],
            [
             0.6,
             "#e6f5d0"
            ],
            [
             0.7,
             "#b8e186"
            ],
            [
             0.8,
             "#7fbc41"
            ],
            [
             0.9,
             "#4d9221"
            ],
            [
             1,
             "#276419"
            ]
           ],
           "sequential": [
            [
             0,
             "#0d0887"
            ],
            [
             0.1111111111111111,
             "#46039f"
            ],
            [
             0.2222222222222222,
             "#7201a8"
            ],
            [
             0.3333333333333333,
             "#9c179e"
            ],
            [
             0.4444444444444444,
             "#bd3786"
            ],
            [
             0.5555555555555556,
             "#d8576b"
            ],
            [
             0.6666666666666666,
             "#ed7953"
            ],
            [
             0.7777777777777778,
             "#fb9f3a"
            ],
            [
             0.8888888888888888,
             "#fdca26"
            ],
            [
             1,
             "#f0f921"
            ]
           ],
           "sequentialminus": [
            [
             0,
             "#0d0887"
            ],
            [
             0.1111111111111111,
             "#46039f"
            ],
            [
             0.2222222222222222,
             "#7201a8"
            ],
            [
             0.3333333333333333,
             "#9c179e"
            ],
            [
             0.4444444444444444,
             "#bd3786"
            ],
            [
             0.5555555555555556,
             "#d8576b"
            ],
            [
             0.6666666666666666,
             "#ed7953"
            ],
            [
             0.7777777777777778,
             "#fb9f3a"
            ],
            [
             0.8888888888888888,
             "#fdca26"
            ],
            [
             1,
             "#f0f921"
            ]
           ]
          },
          "colorway": [
           "#636efa",
           "#EF553B",
           "#00cc96",
           "#ab63fa",
           "#FFA15A",
           "#19d3f3",
           "#FF6692",
           "#B6E880",
           "#FF97FF",
           "#FECB52"
          ],
          "font": {
           "color": "#2a3f5f"
          },
          "geo": {
           "bgcolor": "white",
           "lakecolor": "white",
           "landcolor": "#E5ECF6",
           "showlakes": true,
           "showland": true,
           "subunitcolor": "white"
          },
          "hoverlabel": {
           "align": "left"
          },
          "hovermode": "closest",
          "mapbox": {
           "style": "light"
          },
          "paper_bgcolor": "white",
          "plot_bgcolor": "#E5ECF6",
          "polar": {
           "angularaxis": {
            "gridcolor": "white",
            "linecolor": "white",
            "ticks": ""
           },
           "bgcolor": "#E5ECF6",
           "radialaxis": {
            "gridcolor": "white",
            "linecolor": "white",
            "ticks": ""
           }
          },
          "scene": {
           "xaxis": {
            "backgroundcolor": "#E5ECF6",
            "gridcolor": "white",
            "gridwidth": 2,
            "linecolor": "white",
            "showbackground": true,
            "ticks": "",
            "zerolinecolor": "white"
           },
           "yaxis": {
            "backgroundcolor": "#E5ECF6",
            "gridcolor": "white",
            "gridwidth": 2,
            "linecolor": "white",
            "showbackground": true,
            "ticks": "",
            "zerolinecolor": "white"
           },
           "zaxis": {
            "backgroundcolor": "#E5ECF6",
            "gridcolor": "white",
            "gridwidth": 2,
            "linecolor": "white",
            "showbackground": true,
            "ticks": "",
            "zerolinecolor": "white"
           }
          },
          "shapedefaults": {
           "line": {
            "color": "#2a3f5f"
           }
          },
          "ternary": {
           "aaxis": {
            "gridcolor": "white",
            "linecolor": "white",
            "ticks": ""
           },
           "baxis": {
            "gridcolor": "white",
            "linecolor": "white",
            "ticks": ""
           },
           "bgcolor": "#E5ECF6",
           "caxis": {
            "gridcolor": "white",
            "linecolor": "white",
            "ticks": ""
           }
          },
          "title": {
           "x": 0.05
          },
          "xaxis": {
           "automargin": true,
           "gridcolor": "white",
           "linecolor": "white",
           "ticks": "",
           "title": {
            "standoff": 15
           },
           "zerolinecolor": "white",
           "zerolinewidth": 2
          },
          "yaxis": {
           "automargin": true,
           "gridcolor": "white",
           "linecolor": "white",
           "ticks": "",
           "title": {
            "standoff": 15
           },
           "zerolinecolor": "white",
           "zerolinewidth": 2
          }
         }
        },
        "title": {
         "text": "Distribució de SHAP values (Top 20 Features)"
        },
        "violinmode": "group",
        "xaxis": {
         "anchor": "y",
         "domain": [
          0,
          1
         ],
         "title": {
          "text": "SHAP value"
         }
        },
        "yaxis": {
         "anchor": "x",
         "domain": [
          0,
          1
         ],
         "title": {
          "text": "Variable"
         }
        }
       }
      }
     },
     "metadata": {},
     "output_type": "display_data"
    }
   ],
   "source": [
    "# 1) Retrieve feature names after preprocessing\n",
    "feature_names = final_pipeline.named_steps['preprocessor'].get_feature_names_out()\n",
    "\n",
    "# 2) XGBoost gain-based importances (unchanged)\n",
    "gain_scores = final_pipeline.named_steps['classifier'].get_booster().get_score(\n",
    "    importance_type='gain'\n",
    ")\n",
    "importances = pd.Series(gain_scores)\n",
    "importances.index = [feature_names[int(f[1:])] for f in importances.index]\n",
    "importances = importances.sort_values(ascending=False)\n",
    "print(\"Top 10 XGBoost feature importances:\")\n",
    "print(importances.head(10))\n",
    "\n",
    "# 3) Sample for SHAP and preprocess\n",
    "df_sample = X_test.sample(100, random_state=0)\n",
    "X_transformed = final_pipeline.named_steps['preprocessor'].transform(df_sample)\n",
    "\n",
    "# 4) Compute SHAP values\n",
    "explainer = shap.TreeExplainer(\n",
    "    final_pipeline.named_steps['classifier'],\n",
    "    X_transformed,\n",
    "    feature_perturbation=\"interventional\"\n",
    ")\n",
    "shap_values = explainer.shap_values(X_transformed)\n",
    "\n",
    "# 5) Interactive bar chart of mean |SHAP| importances\n",
    "mean_abs = np.abs(shap_values).mean(axis=0)\n",
    "shap_imp = pd.DataFrame({\n",
    "    'feature': feature_names,\n",
    "    'importance': mean_abs\n",
    "}).sort_values('importance', ascending=False).head(20)\n",
    "\n",
    "fig1 = px.bar(\n",
    "    shap_imp,\n",
    "    x='importance',\n",
    "    y='feature',\n",
    "    orientation='h',\n",
    "    title='Top 20 SHAP Feature Importances',\n",
    "    labels={'importance':'|SHAP value| mitjà', 'feature':'Variable'},\n",
    "    height=600\n",
    ")\n",
    "fig1.update_layout(\n",
    "    yaxis={'categoryorder':'total ascending'},\n",
    "    margin={'l':150,'r':20,'t':50,'b':20}\n",
    ")\n",
    "fig1.show()\n",
    "\n",
    "# 6) SHAP summary “beeswarm” via violin plot in Plotly\n",
    "top_feats = shap_imp['feature'].tolist()\n",
    "data = []\n",
    "for feat in top_feats:\n",
    "    idx = list(feature_names).index(feat)\n",
    "    for sv, fv in zip(shap_values[:, idx], X_transformed[:, idx]):\n",
    "        data.append({'feature': feat, 'shap_value': sv})\n",
    "df_shap_long = pd.DataFrame(data)\n",
    "\n",
    "fig2 = px.violin(\n",
    "    df_shap_long,\n",
    "    x='shap_value',\n",
    "    y='feature',\n",
    "    orientation='h',\n",
    "    points='all',\n",
    "    box=True,\n",
    "    title='Distribució de SHAP values (Top 20 Features)',\n",
    "    labels={'shap_value':'SHAP value', 'feature':'Variable'},\n",
    "    height=600\n",
    ")\n",
    "fig2.update_layout(\n",
    "    margin={'l':150,'r':20,'t':50,'b':20}\n",
    ")\n",
    "fig2.show()"
   ]
  },
  {
   "cell_type": "markdown",
   "id": "cafccfd9",
   "metadata": {},
   "source": [
    "### 11. Calibration diagram"
   ]
  },
  {
   "cell_type": "code",
   "execution_count": 16,
   "id": "5cdef011",
   "metadata": {},
   "outputs": [
    {
     "data": {
      "application/vnd.plotly.v1+json": {
       "config": {
        "plotlyServerURL": "https://plot.ly"
       },
       "data": [
        {
         "mode": "lines+markers",
         "name": "Model",
         "type": "scatter",
         "x": {
          "bdata": "33aix7ejpD+nekuoDCrCP+16kRUqB88/WGn/Gorw1T9LGtV24HjcPwoKClo8ZOE/Yid2YoSo5D85UXk65PrnP3d3d4cL6Oo/AAAAUKB87T8=",
          "dtype": "f8"
         },
         "y": {
          "bdata": "JlL9A+EXpD9LpAIp3v7CP+UHcx6Xvs0/OWVckVPG1T+h7H1NCMreP319fX19fd0/N3IjN3Ij5z/ztNAduxrmP+/u7u7u7u4/AAAAAAAA6D8=",
          "dtype": "f8"
         }
        },
        {
         "line": {
          "dash": "dash"
         },
         "mode": "lines",
         "name": "Calibració perfecta",
         "type": "scatter",
         "x": [
          0,
          1
         ],
         "y": [
          0,
          1
         ]
        }
       ],
       "layout": {
        "height": 500,
        "template": {
         "data": {
          "bar": [
           {
            "error_x": {
             "color": "#2a3f5f"
            },
            "error_y": {
             "color": "#2a3f5f"
            },
            "marker": {
             "line": {
              "color": "#E5ECF6",
              "width": 0.5
             },
             "pattern": {
              "fillmode": "overlay",
              "size": 10,
              "solidity": 0.2
             }
            },
            "type": "bar"
           }
          ],
          "barpolar": [
           {
            "marker": {
             "line": {
              "color": "#E5ECF6",
              "width": 0.5
             },
             "pattern": {
              "fillmode": "overlay",
              "size": 10,
              "solidity": 0.2
             }
            },
            "type": "barpolar"
           }
          ],
          "carpet": [
           {
            "aaxis": {
             "endlinecolor": "#2a3f5f",
             "gridcolor": "white",
             "linecolor": "white",
             "minorgridcolor": "white",
             "startlinecolor": "#2a3f5f"
            },
            "baxis": {
             "endlinecolor": "#2a3f5f",
             "gridcolor": "white",
             "linecolor": "white",
             "minorgridcolor": "white",
             "startlinecolor": "#2a3f5f"
            },
            "type": "carpet"
           }
          ],
          "choropleth": [
           {
            "colorbar": {
             "outlinewidth": 0,
             "ticks": ""
            },
            "type": "choropleth"
           }
          ],
          "contour": [
           {
            "colorbar": {
             "outlinewidth": 0,
             "ticks": ""
            },
            "colorscale": [
             [
              0,
              "#0d0887"
             ],
             [
              0.1111111111111111,
              "#46039f"
             ],
             [
              0.2222222222222222,
              "#7201a8"
             ],
             [
              0.3333333333333333,
              "#9c179e"
             ],
             [
              0.4444444444444444,
              "#bd3786"
             ],
             [
              0.5555555555555556,
              "#d8576b"
             ],
             [
              0.6666666666666666,
              "#ed7953"
             ],
             [
              0.7777777777777778,
              "#fb9f3a"
             ],
             [
              0.8888888888888888,
              "#fdca26"
             ],
             [
              1,
              "#f0f921"
             ]
            ],
            "type": "contour"
           }
          ],
          "contourcarpet": [
           {
            "colorbar": {
             "outlinewidth": 0,
             "ticks": ""
            },
            "type": "contourcarpet"
           }
          ],
          "heatmap": [
           {
            "colorbar": {
             "outlinewidth": 0,
             "ticks": ""
            },
            "colorscale": [
             [
              0,
              "#0d0887"
             ],
             [
              0.1111111111111111,
              "#46039f"
             ],
             [
              0.2222222222222222,
              "#7201a8"
             ],
             [
              0.3333333333333333,
              "#9c179e"
             ],
             [
              0.4444444444444444,
              "#bd3786"
             ],
             [
              0.5555555555555556,
              "#d8576b"
             ],
             [
              0.6666666666666666,
              "#ed7953"
             ],
             [
              0.7777777777777778,
              "#fb9f3a"
             ],
             [
              0.8888888888888888,
              "#fdca26"
             ],
             [
              1,
              "#f0f921"
             ]
            ],
            "type": "heatmap"
           }
          ],
          "histogram": [
           {
            "marker": {
             "pattern": {
              "fillmode": "overlay",
              "size": 10,
              "solidity": 0.2
             }
            },
            "type": "histogram"
           }
          ],
          "histogram2d": [
           {
            "colorbar": {
             "outlinewidth": 0,
             "ticks": ""
            },
            "colorscale": [
             [
              0,
              "#0d0887"
             ],
             [
              0.1111111111111111,
              "#46039f"
             ],
             [
              0.2222222222222222,
              "#7201a8"
             ],
             [
              0.3333333333333333,
              "#9c179e"
             ],
             [
              0.4444444444444444,
              "#bd3786"
             ],
             [
              0.5555555555555556,
              "#d8576b"
             ],
             [
              0.6666666666666666,
              "#ed7953"
             ],
             [
              0.7777777777777778,
              "#fb9f3a"
             ],
             [
              0.8888888888888888,
              "#fdca26"
             ],
             [
              1,
              "#f0f921"
             ]
            ],
            "type": "histogram2d"
           }
          ],
          "histogram2dcontour": [
           {
            "colorbar": {
             "outlinewidth": 0,
             "ticks": ""
            },
            "colorscale": [
             [
              0,
              "#0d0887"
             ],
             [
              0.1111111111111111,
              "#46039f"
             ],
             [
              0.2222222222222222,
              "#7201a8"
             ],
             [
              0.3333333333333333,
              "#9c179e"
             ],
             [
              0.4444444444444444,
              "#bd3786"
             ],
             [
              0.5555555555555556,
              "#d8576b"
             ],
             [
              0.6666666666666666,
              "#ed7953"
             ],
             [
              0.7777777777777778,
              "#fb9f3a"
             ],
             [
              0.8888888888888888,
              "#fdca26"
             ],
             [
              1,
              "#f0f921"
             ]
            ],
            "type": "histogram2dcontour"
           }
          ],
          "mesh3d": [
           {
            "colorbar": {
             "outlinewidth": 0,
             "ticks": ""
            },
            "type": "mesh3d"
           }
          ],
          "parcoords": [
           {
            "line": {
             "colorbar": {
              "outlinewidth": 0,
              "ticks": ""
             }
            },
            "type": "parcoords"
           }
          ],
          "pie": [
           {
            "automargin": true,
            "type": "pie"
           }
          ],
          "scatter": [
           {
            "fillpattern": {
             "fillmode": "overlay",
             "size": 10,
             "solidity": 0.2
            },
            "type": "scatter"
           }
          ],
          "scatter3d": [
           {
            "line": {
             "colorbar": {
              "outlinewidth": 0,
              "ticks": ""
             }
            },
            "marker": {
             "colorbar": {
              "outlinewidth": 0,
              "ticks": ""
             }
            },
            "type": "scatter3d"
           }
          ],
          "scattercarpet": [
           {
            "marker": {
             "colorbar": {
              "outlinewidth": 0,
              "ticks": ""
             }
            },
            "type": "scattercarpet"
           }
          ],
          "scattergeo": [
           {
            "marker": {
             "colorbar": {
              "outlinewidth": 0,
              "ticks": ""
             }
            },
            "type": "scattergeo"
           }
          ],
          "scattergl": [
           {
            "marker": {
             "colorbar": {
              "outlinewidth": 0,
              "ticks": ""
             }
            },
            "type": "scattergl"
           }
          ],
          "scattermap": [
           {
            "marker": {
             "colorbar": {
              "outlinewidth": 0,
              "ticks": ""
             }
            },
            "type": "scattermap"
           }
          ],
          "scattermapbox": [
           {
            "marker": {
             "colorbar": {
              "outlinewidth": 0,
              "ticks": ""
             }
            },
            "type": "scattermapbox"
           }
          ],
          "scatterpolar": [
           {
            "marker": {
             "colorbar": {
              "outlinewidth": 0,
              "ticks": ""
             }
            },
            "type": "scatterpolar"
           }
          ],
          "scatterpolargl": [
           {
            "marker": {
             "colorbar": {
              "outlinewidth": 0,
              "ticks": ""
             }
            },
            "type": "scatterpolargl"
           }
          ],
          "scatterternary": [
           {
            "marker": {
             "colorbar": {
              "outlinewidth": 0,
              "ticks": ""
             }
            },
            "type": "scatterternary"
           }
          ],
          "surface": [
           {
            "colorbar": {
             "outlinewidth": 0,
             "ticks": ""
            },
            "colorscale": [
             [
              0,
              "#0d0887"
             ],
             [
              0.1111111111111111,
              "#46039f"
             ],
             [
              0.2222222222222222,
              "#7201a8"
             ],
             [
              0.3333333333333333,
              "#9c179e"
             ],
             [
              0.4444444444444444,
              "#bd3786"
             ],
             [
              0.5555555555555556,
              "#d8576b"
             ],
             [
              0.6666666666666666,
              "#ed7953"
             ],
             [
              0.7777777777777778,
              "#fb9f3a"
             ],
             [
              0.8888888888888888,
              "#fdca26"
             ],
             [
              1,
              "#f0f921"
             ]
            ],
            "type": "surface"
           }
          ],
          "table": [
           {
            "cells": {
             "fill": {
              "color": "#EBF0F8"
             },
             "line": {
              "color": "white"
             }
            },
            "header": {
             "fill": {
              "color": "#C8D4E3"
             },
             "line": {
              "color": "white"
             }
            },
            "type": "table"
           }
          ]
         },
         "layout": {
          "annotationdefaults": {
           "arrowcolor": "#2a3f5f",
           "arrowhead": 0,
           "arrowwidth": 1
          },
          "autotypenumbers": "strict",
          "coloraxis": {
           "colorbar": {
            "outlinewidth": 0,
            "ticks": ""
           }
          },
          "colorscale": {
           "diverging": [
            [
             0,
             "#8e0152"
            ],
            [
             0.1,
             "#c51b7d"
            ],
            [
             0.2,
             "#de77ae"
            ],
            [
             0.3,
             "#f1b6da"
            ],
            [
             0.4,
             "#fde0ef"
            ],
            [
             0.5,
             "#f7f7f7"
            ],
            [
             0.6,
             "#e6f5d0"
            ],
            [
             0.7,
             "#b8e186"
            ],
            [
             0.8,
             "#7fbc41"
            ],
            [
             0.9,
             "#4d9221"
            ],
            [
             1,
             "#276419"
            ]
           ],
           "sequential": [
            [
             0,
             "#0d0887"
            ],
            [
             0.1111111111111111,
             "#46039f"
            ],
            [
             0.2222222222222222,
             "#7201a8"
            ],
            [
             0.3333333333333333,
             "#9c179e"
            ],
            [
             0.4444444444444444,
             "#bd3786"
            ],
            [
             0.5555555555555556,
             "#d8576b"
            ],
            [
             0.6666666666666666,
             "#ed7953"
            ],
            [
             0.7777777777777778,
             "#fb9f3a"
            ],
            [
             0.8888888888888888,
             "#fdca26"
            ],
            [
             1,
             "#f0f921"
            ]
           ],
           "sequentialminus": [
            [
             0,
             "#0d0887"
            ],
            [
             0.1111111111111111,
             "#46039f"
            ],
            [
             0.2222222222222222,
             "#7201a8"
            ],
            [
             0.3333333333333333,
             "#9c179e"
            ],
            [
             0.4444444444444444,
             "#bd3786"
            ],
            [
             0.5555555555555556,
             "#d8576b"
            ],
            [
             0.6666666666666666,
             "#ed7953"
            ],
            [
             0.7777777777777778,
             "#fb9f3a"
            ],
            [
             0.8888888888888888,
             "#fdca26"
            ],
            [
             1,
             "#f0f921"
            ]
           ]
          },
          "colorway": [
           "#636efa",
           "#EF553B",
           "#00cc96",
           "#ab63fa",
           "#FFA15A",
           "#19d3f3",
           "#FF6692",
           "#B6E880",
           "#FF97FF",
           "#FECB52"
          ],
          "font": {
           "color": "#2a3f5f"
          },
          "geo": {
           "bgcolor": "white",
           "lakecolor": "white",
           "landcolor": "#E5ECF6",
           "showlakes": true,
           "showland": true,
           "subunitcolor": "white"
          },
          "hoverlabel": {
           "align": "left"
          },
          "hovermode": "closest",
          "mapbox": {
           "style": "light"
          },
          "paper_bgcolor": "white",
          "plot_bgcolor": "#E5ECF6",
          "polar": {
           "angularaxis": {
            "gridcolor": "white",
            "linecolor": "white",
            "ticks": ""
           },
           "bgcolor": "#E5ECF6",
           "radialaxis": {
            "gridcolor": "white",
            "linecolor": "white",
            "ticks": ""
           }
          },
          "scene": {
           "xaxis": {
            "backgroundcolor": "#E5ECF6",
            "gridcolor": "white",
            "gridwidth": 2,
            "linecolor": "white",
            "showbackground": true,
            "ticks": "",
            "zerolinecolor": "white"
           },
           "yaxis": {
            "backgroundcolor": "#E5ECF6",
            "gridcolor": "white",
            "gridwidth": 2,
            "linecolor": "white",
            "showbackground": true,
            "ticks": "",
            "zerolinecolor": "white"
           },
           "zaxis": {
            "backgroundcolor": "#E5ECF6",
            "gridcolor": "white",
            "gridwidth": 2,
            "linecolor": "white",
            "showbackground": true,
            "ticks": "",
            "zerolinecolor": "white"
           }
          },
          "shapedefaults": {
           "line": {
            "color": "#2a3f5f"
           }
          },
          "ternary": {
           "aaxis": {
            "gridcolor": "white",
            "linecolor": "white",
            "ticks": ""
           },
           "baxis": {
            "gridcolor": "white",
            "linecolor": "white",
            "ticks": ""
           },
           "bgcolor": "#E5ECF6",
           "caxis": {
            "gridcolor": "white",
            "linecolor": "white",
            "ticks": ""
           }
          },
          "title": {
           "x": 0.05
          },
          "xaxis": {
           "automargin": true,
           "gridcolor": "white",
           "linecolor": "white",
           "ticks": "",
           "title": {
            "standoff": 15
           },
           "zerolinecolor": "white",
           "zerolinewidth": 2
          },
          "yaxis": {
           "automargin": true,
           "gridcolor": "white",
           "linecolor": "white",
           "ticks": "",
           "title": {
            "standoff": 15
           },
           "zerolinecolor": "white",
           "zerolinewidth": 2
          }
         }
        },
        "title": {
         "text": "Diagrama de calibració"
        },
        "width": 700,
        "xaxis": {
         "title": {
          "text": "Probabilitat mitjana predita"
         }
        },
        "yaxis": {
         "title": {
          "text": "Fracció de positius"
         }
        }
       }
      }
     },
     "metadata": {},
     "output_type": "display_data"
    }
   ],
   "source": [
    "# 1) Obtener probabilidades predichas en test (ajuste manual de penaltis aplicado)\n",
    "y_prob = final_pipeline.predict_proba(X_test)[:, 1]\n",
    "penalty_mask = X_test['shot_type_id'] == 88  # PENALTY_ID\n",
    "y_prob[penalty_mask] = 0.75\n",
    "\n",
    "# 2) Calcular puntos de calibración\n",
    "frac_of_pos, mean_predicted_value = calibration_curve(y_test, y_prob, n_bins=10)\n",
    "\n",
    "# 3) Dibujar con Plotly\n",
    "fig = go.Figure()\n",
    "fig.add_trace(go.Scatter(\n",
    "    x=mean_predicted_value,\n",
    "    y=frac_of_pos,\n",
    "    mode='lines+markers',\n",
    "    name='Model'\n",
    "))\n",
    "fig.add_trace(go.Scatter(\n",
    "    x=[0, 1],\n",
    "    y=[0, 1],\n",
    "    mode='lines',\n",
    "    line=dict(dash='dash'),\n",
    "    name='Calibració perfecta'\n",
    "))\n",
    "fig.update_layout(\n",
    "    title=\"Diagrama de calibració\",\n",
    "    xaxis_title=\"Probabilitat mitjana predita\",\n",
    "    yaxis_title=\"Fracció de positius\",\n",
    "    width=700,\n",
    "    height=500\n",
    ")\n",
    "fig.show()"
   ]
  }
 ],
 "metadata": {
  "kernelspec": {
   "display_name": "Python 3",
   "language": "python",
   "name": "python3"
  },
  "language_info": {
   "codemirror_mode": {
    "name": "ipython",
    "version": 3
   },
   "file_extension": ".py",
   "mimetype": "text/x-python",
   "name": "python",
   "nbconvert_exporter": "python",
   "pygments_lexer": "ipython3",
   "version": "3.13.2"
  }
 },
 "nbformat": 4,
 "nbformat_minor": 5
}
